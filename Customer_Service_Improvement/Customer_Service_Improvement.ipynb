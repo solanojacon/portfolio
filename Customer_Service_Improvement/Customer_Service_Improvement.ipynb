{
 "cells": [
  {
   "cell_type": "markdown",
   "metadata": {
    "id": "gjY_Uuouc9XH"
   },
   "source": [
    "\n",
    "# Melhoria do Atendimento ao Cliente / *Customer Service Improvement*\n",
    "\n",
    "# Desafio de Ciência de Dados / *Data Science Challenge*\n",
    "\n",
    "# Entrega / *Delivery*: Notebook\n",
    "\n",
    "# Desenvolvedor / *Developer*: Solano Jacon"
   ]
  },
  {
   "cell_type": "code",
   "execution_count": 1,
   "metadata": {
    "id": "GC5qUuDIc9XI"
   },
   "outputs": [],
   "source": [
    "import pyodbc\n",
    "import pandas as pd\n",
    "import datetime\n",
    "import matplotlib.pyplot as plt\n",
    "import seaborn as sns\n",
    "import math\n",
    "import warnings\n",
    "\n",
    "warnings.filterwarnings('ignore')"
   ]
  },
  {
   "cell_type": "markdown",
   "metadata": {
    "id": "8SiXUgEPc9XI"
   },
   "source": [
    "## Conexão com a Base de Dados e Importação das Tabelas Relevantes / *Database Connection and Import of Relevant Tables*"
   ]
  },
  {
   "cell_type": "code",
   "execution_count": 2,
   "metadata": {
    "id": "HmW8ust3c9XJ"
   },
   "outputs": [],
   "source": [
    "# conn = pyodbc.connect(\"DRIVER={SQL Server};\"\n",
    "#                       \"SERVER=<server>;\"\n",
    "#                       \"DATABASE=<database>;\"\n",
    "#                       \"UID=<UID>;\"\n",
    "#                       \"PWD=<password>;\")"
   ]
  },
  {
   "cell_type": "code",
   "execution_count": 3,
   "metadata": {
    "id": "2ImfBBcPc9XJ"
   },
   "outputs": [],
   "source": [
    "# %%time\n",
    "\n",
    "# chamado_bruto_df = pd.read_sql_query('SELECT * FROM Chamado', conn)"
   ]
  },
  {
   "cell_type": "code",
   "execution_count": 4,
   "metadata": {
    "id": "Qu92uGY_c9XK"
   },
   "outputs": [],
   "source": [
    "# %%time\n",
    "\n",
    "# chamado_interacao_bruto_df = pd.read_sql_query('SELECT * FROM Chamado_Interacao', conn)"
   ]
  },
  {
   "cell_type": "code",
   "execution_count": 5,
   "metadata": {
    "id": "LzkgjA2Xc9XK"
   },
   "outputs": [],
   "source": [
    "# %%time\n",
    "\n",
    "# tarefa_bruto_df = pd.read_sql_query('SELECT * FROM Tarefa', conn)"
   ]
  },
  {
   "cell_type": "code",
   "execution_count": 6,
   "metadata": {
    "id": "uclMZTs0c9XK"
   },
   "outputs": [],
   "source": [
    "# %%time\n",
    "\n",
    "# prioridade_bruto_df = pd.read_sql_query('SELECT * FROM Prioridade', conn)"
   ]
  },
  {
   "cell_type": "code",
   "execution_count": 7,
   "metadata": {
    "id": "Ff61auzlc9XL"
   },
   "outputs": [],
   "source": [
    "# %%time\n",
    "\n",
    "# chamado_tipo_bruto_df = pd.read_sql_query('SELECT * FROM Chamado_Tipo', conn)"
   ]
  },
  {
   "cell_type": "code",
   "execution_count": 8,
   "metadata": {
    "id": "KFaUcnWCc9XL"
   },
   "outputs": [],
   "source": [
    "# %%time\n",
    "\n",
    "# sistema_bruto_df = pd.read_sql_query('SELECT * FROM Sistema', conn)"
   ]
  },
  {
   "cell_type": "code",
   "execution_count": 9,
   "metadata": {
    "id": "nI_hzy_6c9XL"
   },
   "outputs": [],
   "source": [
    "# chamado_bruto_df.to_csv('../../portfolio-data/Customer_Service_Improvement/data/chamado.csv', index=False)\n",
    "# chamado_interacao_bruto_df.to_csv('../../portfolio-data/Customer_Service_Improvement/data/chamado_interacao.csv', index=False)\n",
    "# tarefa_bruto_df.to_csv('../../portfolio-data/Customer_Service_Improvement/data/tarefa.csv', index=False)\n",
    "# prioridade_bruto_df.to_csv('../../portfolio-data/Customer_Service_Improvement/data/prioridade.csv', index=False)\n",
    "# chamado_tipo_bruto_df.to_csv('../../portfolio-data/Customer_Service_Improvement/data/chamado_tipo.csv', index=False)\n",
    "# sistema_bruto_df.to_csv('../../portfolio-data/Customer_Service_Improvement/data/sistema.csv', index=False)"
   ]
  },
  {
   "cell_type": "code",
   "execution_count": 10,
   "metadata": {
    "colab": {
     "base_uri": "https://localhost:8080/"
    },
    "executionInfo": {
     "elapsed": 2616,
     "status": "ok",
     "timestamp": 1626799533622,
     "user": {
      "displayName": "Solano Buso Jacon",
      "photoUrl": "https://lh3.googleusercontent.com/a-/AOh14GhvIWJbdmF2sLdJ-sGeQu468kS2ts3ZWX7_5keQV0Y=s64",
      "userId": "03193064938437592202"
     },
     "user_tz": 180
    },
    "id": "tKd36kg4c9XM",
    "outputId": "6d2f2f52-7cfa-43dc-f0bf-d98cb6577433"
   },
   "outputs": [],
   "source": [
    "chamado_bruto_df = pd.read_csv('../../portfolio-data/Customer_Service_Improvement/data/chamado.csv')\n",
    "chamado_interacao_bruto_df = pd.read_csv('../../portfolio-data/Customer_Service_Improvement/data/chamado_interacao.csv')\n",
    "tarefa_bruto_df = pd.read_csv('../../portfolio-data/Customer_Service_Improvement/data/tarefa.csv')\n",
    "prioridade_bruto_df = pd.read_csv('../../portfolio-data/Customer_Service_Improvement/data/prioridade.csv')\n",
    "chamado_tipo_bruto_df = pd.read_csv('../../portfolio-data/Customer_Service_Improvement/data/chamado_tipo.csv')\n",
    "sistema_bruto_df = pd.read_csv('../../portfolio-data/Customer_Service_Improvement/data/sistema.csv')"
   ]
  },
  {
   "cell_type": "markdown",
   "metadata": {
    "id": "LtyuXcK2c9XM"
   },
   "source": [
    "## Considerações Iniciais / *Initial considerations*\n",
    "\n",
    "- Serão analisandos apenas os chamados concluídos, pois apresentam histórico completo e dados definitivos.\n",
    "- Apesar da base de dados apresentar os últimos 10 anos de histórico de chamados, serão analisados apenas os chamados concluídos nos últimos 3 anos, pois estamos interessados na situação atual do processo de atendimento de chamados.\n",
    "- Os indicadores TMA, NPS e FCR que serão mencionados a seguir são indicadores padrão de mercado.\n",
    "\n",
    "\n",
    "- *Only completed tickets will be analyzed, as they have a complete history and definitive data.*\n",
    "- *Although the database presents the last 10 years of ticket history, only tickets completed in the last 3 years will be analyzed, as we are interested in the current situation of the ticket handling process.*\n",
    "- *The TMA, NPS and FCR indicators that will be mentioned below are standard market indicators.*"
   ]
  },
  {
   "cell_type": "markdown",
   "metadata": {
    "id": "HhzKFXuec9XN"
   },
   "source": [
    "## Indicadores Utilizados na Análise / *Indicators Used in Analysis*\n",
    "\n",
    "**Atendimento na Data Prevista (ADP) / *Service on the Expected Date (ADP)***\n",
    "\n",
    "ADP = (quantidade de chamados/interações/tarefas não concluídos na data/prazo previstos) / (quantidade de chamados/interações/tarefas)\n",
    "\n",
    "*ADP = (number of tickets/interactions/tasks not completed on the expected date/deadline) / (number of tickets/interactions/tasks)*\n",
    "\n",
    "**Tempo Médio de Atendimento (TMA) / *Average Service Time (TMA)***\n",
    "\n",
    "TMA = (soma das diferenças de tempo em dias entre a abertura e a conclusão dos chamados) / (quantidade de chamados)\n",
    "\n",
    "*TMA = (sum of time differences in days between opening and closing of tickets) / (number of tickets)*"
   ]
  },
  {
   "cell_type": "markdown",
   "metadata": {
    "id": "3pgydNtSc9XN"
   },
   "source": [
    "## Filtragem Geral dos Dados / *General Data Filtering*\n",
    "\n",
    "- Seleção dos colunas relevantes\n",
    "- Seleção dos chamados concluídos nos últimos 3 anos\n",
    "\n",
    "\n",
    "- *Selection of relevant fields*\n",
    "- *Selection of tickets completed in the last 3 years*"
   ]
  },
  {
   "cell_type": "code",
   "execution_count": 11,
   "metadata": {
    "id": "XoLJqTwqc9XN"
   },
   "outputs": [],
   "source": [
    "chamado_df = chamado_bruto_df.copy()\n",
    "chamado_interacao_df = chamado_interacao_bruto_df.copy()\n",
    "tarefa_df = tarefa_bruto_df.copy()\n",
    "prioridade_df = prioridade_bruto_df.copy()\n",
    "chamado_tipo_df = chamado_tipo_bruto_df.copy()\n",
    "sistema_df = sistema_bruto_df.copy()"
   ]
  },
  {
   "cell_type": "code",
   "execution_count": 12,
   "metadata": {
    "colab": {
     "base_uri": "https://localhost:8080/"
    },
    "executionInfo": {
     "elapsed": 19,
     "status": "ok",
     "timestamp": 1626799533627,
     "user": {
      "displayName": "Solano Buso Jacon",
      "photoUrl": "https://lh3.googleusercontent.com/a-/AOh14GhvIWJbdmF2sLdJ-sGeQu468kS2ts3ZWX7_5keQV0Y=s64",
      "userId": "03193064938437592202"
     },
     "user_tz": 180
    },
    "id": "IYP2YPb0c9XO",
    "outputId": "49e5389c-310e-4209-b379-9218cad5a2b1"
   },
   "outputs": [
    {
     "data": {
      "text/plain": [
       "Index(['id_chamado', 'id_sistema', 'id_chamado_tipo', 'id_chamado_categoria',\n",
       "       'id_chamado_subcategoria', 'id_usuario', 'id_usuario_solicitante',\n",
       "       'id_cliente', 'id_chamado_status', 'id_prioridade', 'dt_abertura',\n",
       "       'dt_previsao_conclusao_etapa', 'dt_conclusao_etapa', 'assunto',\n",
       "       'id_usuario_responsavel', 'id_tempo_execucao',\n",
       "       'dt_previsao_conclusao_chamado', 'dt_conclusao_chamado',\n",
       "       'id_diagnostico', 'id_responsabilidade', 'id_motivo',\n",
       "       'tempo_decorrido_chamado', 'apoio', 'id_usuario_dono'],\n",
       "      dtype='object')"
      ]
     },
     "execution_count": 12,
     "metadata": {},
     "output_type": "execute_result"
    }
   ],
   "source": [
    "chamado_df.columns"
   ]
  },
  {
   "cell_type": "code",
   "execution_count": 13,
   "metadata": {
    "colab": {
     "base_uri": "https://localhost:8080/"
    },
    "executionInfo": {
     "elapsed": 17,
     "status": "ok",
     "timestamp": 1626799533627,
     "user": {
      "displayName": "Solano Buso Jacon",
      "photoUrl": "https://lh3.googleusercontent.com/a-/AOh14GhvIWJbdmF2sLdJ-sGeQu468kS2ts3ZWX7_5keQV0Y=s64",
      "userId": "03193064938437592202"
     },
     "user_tz": 180
    },
    "id": "4GBdGKRUc9XO",
    "outputId": "033cea20-6ab5-41a4-e5ce-364f2b340f5d"
   },
   "outputs": [
    {
     "data": {
      "text/plain": [
       "32858"
      ]
     },
     "execution_count": 13,
     "metadata": {},
     "output_type": "execute_result"
    }
   ],
   "source": [
    "len(chamado_df)"
   ]
  },
  {
   "cell_type": "code",
   "execution_count": 14,
   "metadata": {
    "colab": {
     "base_uri": "https://localhost:8080/"
    },
    "executionInfo": {
     "elapsed": 17,
     "status": "ok",
     "timestamp": 1626799533628,
     "user": {
      "displayName": "Solano Buso Jacon",
      "photoUrl": "https://lh3.googleusercontent.com/a-/AOh14GhvIWJbdmF2sLdJ-sGeQu468kS2ts3ZWX7_5keQV0Y=s64",
      "userId": "03193064938437592202"
     },
     "user_tz": 180
    },
    "id": "R_rg8A2Tc9XP",
    "outputId": "90d9fd7c-288c-4d56-a52f-d3b8acbb2962"
   },
   "outputs": [
    {
     "data": {
      "text/plain": [
       "Index(['id_chamado_interacao', 'id_chamado', 'id_usuario_de', 'descricao',\n",
       "       'dt_interacao', 'interno', 'lido', 'dt_previsao_conclusao',\n",
       "       'dt_conclusao', 'interacao_manual'],\n",
       "      dtype='object')"
      ]
     },
     "execution_count": 14,
     "metadata": {},
     "output_type": "execute_result"
    }
   ],
   "source": [
    "chamado_interacao_df.columns"
   ]
  },
  {
   "cell_type": "code",
   "execution_count": 15,
   "metadata": {
    "colab": {
     "base_uri": "https://localhost:8080/"
    },
    "executionInfo": {
     "elapsed": 16,
     "status": "ok",
     "timestamp": 1626799533628,
     "user": {
      "displayName": "Solano Buso Jacon",
      "photoUrl": "https://lh3.googleusercontent.com/a-/AOh14GhvIWJbdmF2sLdJ-sGeQu468kS2ts3ZWX7_5keQV0Y=s64",
      "userId": "03193064938437592202"
     },
     "user_tz": 180
    },
    "id": "Bft53Nbvc9XP",
    "outputId": "919e1acb-3152-417f-c99f-4d260eb90431"
   },
   "outputs": [
    {
     "data": {
      "text/plain": [
       "602230"
      ]
     },
     "execution_count": 15,
     "metadata": {},
     "output_type": "execute_result"
    }
   ],
   "source": [
    "len(chamado_interacao_df)"
   ]
  },
  {
   "cell_type": "code",
   "execution_count": 16,
   "metadata": {
    "colab": {
     "base_uri": "https://localhost:8080/"
    },
    "executionInfo": {
     "elapsed": 16,
     "status": "ok",
     "timestamp": 1626799533629,
     "user": {
      "displayName": "Solano Buso Jacon",
      "photoUrl": "https://lh3.googleusercontent.com/a-/AOh14GhvIWJbdmF2sLdJ-sGeQu468kS2ts3ZWX7_5keQV0Y=s64",
      "userId": "03193064938437592202"
     },
     "user_tz": 180
    },
    "id": "4YdUSYjUc9XP",
    "outputId": "cf8cdfdf-2807-4e96-ba76-83bdf6d9e837"
   },
   "outputs": [
    {
     "data": {
      "text/plain": [
       "Index(['id_tarefa', 'id_chamado', 'id_sistema', 'id_chamado_categoria',\n",
       "       'id_chamado_subcategoria', 'id_usuario', 'id_usuario_responsavel',\n",
       "       'id_tarefa_atividade', 'id_prioridade', 'id_tarefa_status',\n",
       "       'id_motivo_dt_fim', 'id_motivo_duracao_estimada', 'titulo', 'descricao',\n",
       "       'dt_prev_inicio', 'dt_prev_fim', 'duracao_estimada', 'dt_inicio',\n",
       "       'dt_fim', 'tempo_decorrido', 'retrabalho', 'dt_inclusao',\n",
       "       'dt_alteracao'],\n",
       "      dtype='object')"
      ]
     },
     "execution_count": 16,
     "metadata": {},
     "output_type": "execute_result"
    }
   ],
   "source": [
    "tarefa_df.columns"
   ]
  },
  {
   "cell_type": "code",
   "execution_count": 17,
   "metadata": {
    "colab": {
     "base_uri": "https://localhost:8080/"
    },
    "executionInfo": {
     "elapsed": 15,
     "status": "ok",
     "timestamp": 1626799533629,
     "user": {
      "displayName": "Solano Buso Jacon",
      "photoUrl": "https://lh3.googleusercontent.com/a-/AOh14GhvIWJbdmF2sLdJ-sGeQu468kS2ts3ZWX7_5keQV0Y=s64",
      "userId": "03193064938437592202"
     },
     "user_tz": 180
    },
    "id": "RjXoX1xuc9XQ",
    "outputId": "2fb8f1fc-0dc8-49e8-abbd-2006cebf9589"
   },
   "outputs": [
    {
     "data": {
      "text/plain": [
       "25845"
      ]
     },
     "execution_count": 17,
     "metadata": {},
     "output_type": "execute_result"
    }
   ],
   "source": [
    "len(tarefa_df)"
   ]
  },
  {
   "cell_type": "code",
   "execution_count": 18,
   "metadata": {
    "colab": {
     "base_uri": "https://localhost:8080/"
    },
    "executionInfo": {
     "elapsed": 15,
     "status": "ok",
     "timestamp": 1626799533630,
     "user": {
      "displayName": "Solano Buso Jacon",
      "photoUrl": "https://lh3.googleusercontent.com/a-/AOh14GhvIWJbdmF2sLdJ-sGeQu468kS2ts3ZWX7_5keQV0Y=s64",
      "userId": "03193064938437592202"
     },
     "user_tz": 180
    },
    "id": "DnGoA_oRc9XQ",
    "outputId": "7a5ee8ee-a79d-4d65-8f47-eee274f9129a"
   },
   "outputs": [
    {
     "data": {
      "text/plain": [
       "Index(['id_prioridade', 'prioridade', 'nivel'], dtype='object')"
      ]
     },
     "execution_count": 18,
     "metadata": {},
     "output_type": "execute_result"
    }
   ],
   "source": [
    "prioridade_df.columns"
   ]
  },
  {
   "cell_type": "code",
   "execution_count": 19,
   "metadata": {
    "colab": {
     "base_uri": "https://localhost:8080/"
    },
    "executionInfo": {
     "elapsed": 14,
     "status": "ok",
     "timestamp": 1626799533630,
     "user": {
      "displayName": "Solano Buso Jacon",
      "photoUrl": "https://lh3.googleusercontent.com/a-/AOh14GhvIWJbdmF2sLdJ-sGeQu468kS2ts3ZWX7_5keQV0Y=s64",
      "userId": "03193064938437592202"
     },
     "user_tz": 180
    },
    "id": "XF0AvOAWc9XQ",
    "outputId": "136e54d6-0856-4c5a-9324-c93696be9803"
   },
   "outputs": [
    {
     "data": {
      "text/plain": [
       "3"
      ]
     },
     "execution_count": 19,
     "metadata": {},
     "output_type": "execute_result"
    }
   ],
   "source": [
    "len(prioridade_df)"
   ]
  },
  {
   "cell_type": "code",
   "execution_count": 20,
   "metadata": {
    "colab": {
     "base_uri": "https://localhost:8080/"
    },
    "executionInfo": {
     "elapsed": 13,
     "status": "ok",
     "timestamp": 1626799533630,
     "user": {
      "displayName": "Solano Buso Jacon",
      "photoUrl": "https://lh3.googleusercontent.com/a-/AOh14GhvIWJbdmF2sLdJ-sGeQu468kS2ts3ZWX7_5keQV0Y=s64",
      "userId": "03193064938437592202"
     },
     "user_tz": 180
    },
    "id": "0eUCkdKPc9XQ",
    "outputId": "f07b2a67-3071-4ed5-b9bb-4cf83c0f7631"
   },
   "outputs": [
    {
     "data": {
      "text/plain": [
       "Index(['id_chamado_tipo', 'tipo'], dtype='object')"
      ]
     },
     "execution_count": 20,
     "metadata": {},
     "output_type": "execute_result"
    }
   ],
   "source": [
    "chamado_tipo_df.columns"
   ]
  },
  {
   "cell_type": "code",
   "execution_count": 21,
   "metadata": {
    "colab": {
     "base_uri": "https://localhost:8080/"
    },
    "executionInfo": {
     "elapsed": 13,
     "status": "ok",
     "timestamp": 1626799533631,
     "user": {
      "displayName": "Solano Buso Jacon",
      "photoUrl": "https://lh3.googleusercontent.com/a-/AOh14GhvIWJbdmF2sLdJ-sGeQu468kS2ts3ZWX7_5keQV0Y=s64",
      "userId": "03193064938437592202"
     },
     "user_tz": 180
    },
    "id": "LK9CJsjjc9XR",
    "outputId": "7213817e-84e9-4bf4-9b9b-0396d04ebee7"
   },
   "outputs": [
    {
     "data": {
      "text/plain": [
       "13"
      ]
     },
     "execution_count": 21,
     "metadata": {},
     "output_type": "execute_result"
    }
   ],
   "source": [
    "len(chamado_tipo_df)"
   ]
  },
  {
   "cell_type": "code",
   "execution_count": 22,
   "metadata": {
    "colab": {
     "base_uri": "https://localhost:8080/"
    },
    "executionInfo": {
     "elapsed": 12,
     "status": "ok",
     "timestamp": 1626799533631,
     "user": {
      "displayName": "Solano Buso Jacon",
      "photoUrl": "https://lh3.googleusercontent.com/a-/AOh14GhvIWJbdmF2sLdJ-sGeQu468kS2ts3ZWX7_5keQV0Y=s64",
      "userId": "03193064938437592202"
     },
     "user_tz": 180
    },
    "id": "LI5NbR_9c9XR",
    "outputId": "8c368ccb-bf73-46b4-dcd0-028ecf02965a"
   },
   "outputs": [
    {
     "data": {
      "text/plain": [
       "Index(['id_sistema', 'sistema', 'enviar_emails'], dtype='object')"
      ]
     },
     "execution_count": 22,
     "metadata": {},
     "output_type": "execute_result"
    }
   ],
   "source": [
    "sistema_df.columns"
   ]
  },
  {
   "cell_type": "code",
   "execution_count": 23,
   "metadata": {
    "colab": {
     "base_uri": "https://localhost:8080/"
    },
    "executionInfo": {
     "elapsed": 12,
     "status": "ok",
     "timestamp": 1626799533632,
     "user": {
      "displayName": "Solano Buso Jacon",
      "photoUrl": "https://lh3.googleusercontent.com/a-/AOh14GhvIWJbdmF2sLdJ-sGeQu468kS2ts3ZWX7_5keQV0Y=s64",
      "userId": "03193064938437592202"
     },
     "user_tz": 180
    },
    "id": "YWmSChchc9XR",
    "outputId": "4d289f0b-83f7-4ab5-b004-57629aafb2b3"
   },
   "outputs": [
    {
     "data": {
      "text/plain": [
       "28"
      ]
     },
     "execution_count": 23,
     "metadata": {},
     "output_type": "execute_result"
    }
   ],
   "source": [
    "len(sistema_df)"
   ]
  },
  {
   "cell_type": "markdown",
   "metadata": {
    "id": "d4tvKXzAc9XS"
   },
   "source": [
    "**Tabelas e Colunas Mais Relevantes / *Most Relevant Tables and Fields***\n",
    "\n",
    "**tabela / *table*: Chamado**\n",
    "- colunas / *fields*: id_chamado | id_sistema | id_chamado_tipo | id_prioridade | dt_abertura | dt_previsao_conclusao_chamado | dt_conclusao_chamado\n",
    "\n",
    "**tabela / *table*: Chamado_Interacao**\n",
    "- colunas / *fields*: id_chamado_interacao | id_chamado | dt_previsao_conclusao | dt_conclusao\n",
    "\n",
    "**tabela / *table*: Tarefa**\n",
    "- colunas / *fields*: id_tarefa | id_chamado | dt_prev_inicio | dt_prev_fim | dt_inicio | dt_fim | retrabalho\n",
    "\n",
    "**tabela / *table*: Prioridade**\n",
    "- colunas / *fields*: id_prioridade | prioridade | nivel (todos / *all*)\n",
    "\n",
    "**tabela / *table*: Chamado_Tipo**\n",
    "- colunas / *fields*: id_chamado_tipo | tipo (todos / *all*)\n",
    "\n",
    "**tabela / *table*: Sistema**\n",
    "- colunas / *fields*: id_sistema | sistema"
   ]
  },
  {
   "cell_type": "code",
   "execution_count": 24,
   "metadata": {
    "id": "DCtGJogfc9XS"
   },
   "outputs": [],
   "source": [
    "chamado_df = chamado_df[['id_chamado', 'id_sistema', 'id_chamado_tipo', 'id_prioridade', 'dt_abertura', 'dt_previsao_conclusao_chamado', 'dt_conclusao_chamado']]\n",
    "chamado_interacao_df = chamado_interacao_df[['id_chamado_interacao', 'id_chamado', 'dt_previsao_conclusao', 'dt_conclusao']]\n",
    "tarefa_df = tarefa_df[['id_tarefa', 'id_chamado', 'dt_prev_inicio', 'dt_prev_fim', 'dt_inicio', 'dt_fim', 'retrabalho']]\n",
    "sistema_df = sistema_df[['id_sistema', 'sistema']]"
   ]
  },
  {
   "cell_type": "code",
   "execution_count": 25,
   "metadata": {
    "id": "dMBqUkvac9XS"
   },
   "outputs": [],
   "source": [
    "chamado_df['dt_abertura'] = pd.to_datetime(chamado_df['dt_abertura'])\n",
    "chamado_df['dt_previsao_conclusao_chamado'] = pd.to_datetime(chamado_df['dt_previsao_conclusao_chamado'])\n",
    "chamado_df['dt_conclusao_chamado'] = pd.to_datetime(chamado_df['dt_conclusao_chamado'])\n",
    "\n",
    "chamado_interacao_df['dt_previsao_conclusao'] = pd.to_datetime(chamado_interacao_df['dt_previsao_conclusao'])\n",
    "chamado_interacao_df['dt_conclusao'] = pd.to_datetime(chamado_interacao_df['dt_conclusao'])\n",
    "\n",
    "tarefa_df['dt_prev_inicio'] = pd.to_datetime(tarefa_df['dt_prev_inicio'])\n",
    "tarefa_df['dt_prev_fim'] = pd.to_datetime(tarefa_df['dt_prev_fim'])\n",
    "tarefa_df['dt_inicio'] = pd.to_datetime(tarefa_df['dt_inicio'])\n",
    "tarefa_df['dt_fim'] = pd.to_datetime(tarefa_df['dt_fim'])"
   ]
  },
  {
   "cell_type": "code",
   "execution_count": 26,
   "metadata": {
    "id": "9VociXWMc9XS"
   },
   "outputs": [],
   "source": [
    "chamado_df = chamado_df.dropna(subset=['dt_conclusao_chamado'])\n",
    "chamado_df = chamado_df.loc[chamado_df['dt_conclusao_chamado'] >= (datetime.datetime.now() - datetime.timedelta(days=(365 * 3)))]\n",
    "chamado_interacao_df = chamado_interacao_df.merge(chamado_df[['id_chamado', 'id_prioridade']], on='id_chamado')\n",
    "tarefa_df = tarefa_df.merge(chamado_df[['id_chamado', 'id_prioridade']], on='id_chamado')"
   ]
  },
  {
   "cell_type": "code",
   "execution_count": 27,
   "metadata": {
    "colab": {
     "base_uri": "https://localhost:8080/"
    },
    "executionInfo": {
     "elapsed": 17,
     "status": "ok",
     "timestamp": 1626799535320,
     "user": {
      "displayName": "Solano Buso Jacon",
      "photoUrl": "https://lh3.googleusercontent.com/a-/AOh14GhvIWJbdmF2sLdJ-sGeQu468kS2ts3ZWX7_5keQV0Y=s64",
      "userId": "03193064938437592202"
     },
     "user_tz": 180
    },
    "id": "amsH54WSc9XS",
    "outputId": "30bb24c5-0dc8-4bbe-d4d5-25654447debd"
   },
   "outputs": [
    {
     "data": {
      "text/html": [
       "<div>\n",
       "<style scoped>\n",
       "    .dataframe tbody tr th:only-of-type {\n",
       "        vertical-align: middle;\n",
       "    }\n",
       "\n",
       "    .dataframe tbody tr th {\n",
       "        vertical-align: top;\n",
       "    }\n",
       "\n",
       "    .dataframe thead th {\n",
       "        text-align: right;\n",
       "    }\n",
       "</style>\n",
       "<table border=\"1\" class=\"dataframe\">\n",
       "  <thead>\n",
       "    <tr style=\"text-align: right;\">\n",
       "      <th></th>\n",
       "      <th>id_chamado</th>\n",
       "      <th>id_sistema</th>\n",
       "      <th>id_chamado_tipo</th>\n",
       "      <th>id_prioridade</th>\n",
       "      <th>dt_abertura</th>\n",
       "      <th>dt_previsao_conclusao_chamado</th>\n",
       "      <th>dt_conclusao_chamado</th>\n",
       "    </tr>\n",
       "  </thead>\n",
       "  <tbody>\n",
       "    <tr>\n",
       "      <th>27456</th>\n",
       "      <td>28649</td>\n",
       "      <td>1</td>\n",
       "      <td>5</td>\n",
       "      <td>3.0</td>\n",
       "      <td>2019-12-05 08:17:30.313</td>\n",
       "      <td>NaT</td>\n",
       "      <td>2021-03-06 05:00:03.910</td>\n",
       "    </tr>\n",
       "    <tr>\n",
       "      <th>28034</th>\n",
       "      <td>29227</td>\n",
       "      <td>2</td>\n",
       "      <td>5</td>\n",
       "      <td>2.0</td>\n",
       "      <td>2020-02-06 11:52:38.463</td>\n",
       "      <td>NaT</td>\n",
       "      <td>2021-03-11 15:07:05.000</td>\n",
       "    </tr>\n",
       "    <tr>\n",
       "      <th>29776</th>\n",
       "      <td>30969</td>\n",
       "      <td>27</td>\n",
       "      <td>12</td>\n",
       "      <td>2.0</td>\n",
       "      <td>2020-07-06 18:11:39.693</td>\n",
       "      <td>2020-09-11 18:00:00</td>\n",
       "      <td>2021-03-06 05:00:09.823</td>\n",
       "    </tr>\n",
       "    <tr>\n",
       "      <th>31758</th>\n",
       "      <td>32951</td>\n",
       "      <td>2</td>\n",
       "      <td>10</td>\n",
       "      <td>2.0</td>\n",
       "      <td>2020-12-03 16:39:37.357</td>\n",
       "      <td>2021-02-12 18:00:00</td>\n",
       "      <td>2021-03-12 05:00:04.467</td>\n",
       "    </tr>\n",
       "    <tr>\n",
       "      <th>31917</th>\n",
       "      <td>33110</td>\n",
       "      <td>1</td>\n",
       "      <td>5</td>\n",
       "      <td>3.0</td>\n",
       "      <td>2020-12-16 11:54:21.670</td>\n",
       "      <td>NaT</td>\n",
       "      <td>2021-03-06 05:00:02.463</td>\n",
       "    </tr>\n",
       "    <tr>\n",
       "      <th>...</th>\n",
       "      <td>...</td>\n",
       "      <td>...</td>\n",
       "      <td>...</td>\n",
       "      <td>...</td>\n",
       "      <td>...</td>\n",
       "      <td>...</td>\n",
       "      <td>...</td>\n",
       "    </tr>\n",
       "    <tr>\n",
       "      <th>32837</th>\n",
       "      <td>34030</td>\n",
       "      <td>1</td>\n",
       "      <td>5</td>\n",
       "      <td>3.0</td>\n",
       "      <td>2021-03-15 19:04:39.270</td>\n",
       "      <td>NaT</td>\n",
       "      <td>2021-03-16 15:20:39.000</td>\n",
       "    </tr>\n",
       "    <tr>\n",
       "      <th>32844</th>\n",
       "      <td>34037</td>\n",
       "      <td>2</td>\n",
       "      <td>5</td>\n",
       "      <td>3.0</td>\n",
       "      <td>2021-03-16 10:55:42.037</td>\n",
       "      <td>NaT</td>\n",
       "      <td>2021-03-16 12:32:54.000</td>\n",
       "    </tr>\n",
       "    <tr>\n",
       "      <th>32845</th>\n",
       "      <td>34038</td>\n",
       "      <td>2</td>\n",
       "      <td>5</td>\n",
       "      <td>NaN</td>\n",
       "      <td>2021-03-16 11:32:19.410</td>\n",
       "      <td>NaT</td>\n",
       "      <td>2021-03-16 15:15:50.000</td>\n",
       "    </tr>\n",
       "    <tr>\n",
       "      <th>32846</th>\n",
       "      <td>34039</td>\n",
       "      <td>1</td>\n",
       "      <td>5</td>\n",
       "      <td>NaN</td>\n",
       "      <td>2021-03-16 11:54:00.857</td>\n",
       "      <td>NaT</td>\n",
       "      <td>2021-03-16 15:15:27.000</td>\n",
       "    </tr>\n",
       "    <tr>\n",
       "      <th>32847</th>\n",
       "      <td>34040</td>\n",
       "      <td>2</td>\n",
       "      <td>6</td>\n",
       "      <td>NaN</td>\n",
       "      <td>2021-03-16 14:22:14.770</td>\n",
       "      <td>NaT</td>\n",
       "      <td>2021-03-16 17:59:58.000</td>\n",
       "    </tr>\n",
       "  </tbody>\n",
       "</table>\n",
       "<p>110 rows × 7 columns</p>\n",
       "</div>"
      ],
      "text/plain": [
       "       id_chamado  id_sistema  id_chamado_tipo  id_prioridade  \\\n",
       "27456       28649           1                5            3.0   \n",
       "28034       29227           2                5            2.0   \n",
       "29776       30969          27               12            2.0   \n",
       "31758       32951           2               10            2.0   \n",
       "31917       33110           1                5            3.0   \n",
       "...           ...         ...              ...            ...   \n",
       "32837       34030           1                5            3.0   \n",
       "32844       34037           2                5            3.0   \n",
       "32845       34038           2                5            NaN   \n",
       "32846       34039           1                5            NaN   \n",
       "32847       34040           2                6            NaN   \n",
       "\n",
       "                  dt_abertura dt_previsao_conclusao_chamado  \\\n",
       "27456 2019-12-05 08:17:30.313                           NaT   \n",
       "28034 2020-02-06 11:52:38.463                           NaT   \n",
       "29776 2020-07-06 18:11:39.693           2020-09-11 18:00:00   \n",
       "31758 2020-12-03 16:39:37.357           2021-02-12 18:00:00   \n",
       "31917 2020-12-16 11:54:21.670                           NaT   \n",
       "...                       ...                           ...   \n",
       "32837 2021-03-15 19:04:39.270                           NaT   \n",
       "32844 2021-03-16 10:55:42.037                           NaT   \n",
       "32845 2021-03-16 11:32:19.410                           NaT   \n",
       "32846 2021-03-16 11:54:00.857                           NaT   \n",
       "32847 2021-03-16 14:22:14.770                           NaT   \n",
       "\n",
       "         dt_conclusao_chamado  \n",
       "27456 2021-03-06 05:00:03.910  \n",
       "28034 2021-03-11 15:07:05.000  \n",
       "29776 2021-03-06 05:00:09.823  \n",
       "31758 2021-03-12 05:00:04.467  \n",
       "31917 2021-03-06 05:00:02.463  \n",
       "...                       ...  \n",
       "32837 2021-03-16 15:20:39.000  \n",
       "32844 2021-03-16 12:32:54.000  \n",
       "32845 2021-03-16 15:15:50.000  \n",
       "32846 2021-03-16 15:15:27.000  \n",
       "32847 2021-03-16 17:59:58.000  \n",
       "\n",
       "[110 rows x 7 columns]"
      ]
     },
     "execution_count": 27,
     "metadata": {},
     "output_type": "execute_result"
    }
   ],
   "source": [
    "chamado_df"
   ]
  },
  {
   "cell_type": "code",
   "execution_count": 28,
   "metadata": {
    "colab": {
     "base_uri": "https://localhost:8080/"
    },
    "executionInfo": {
     "elapsed": 15,
     "status": "ok",
     "timestamp": 1626799535320,
     "user": {
      "displayName": "Solano Buso Jacon",
      "photoUrl": "https://lh3.googleusercontent.com/a-/AOh14GhvIWJbdmF2sLdJ-sGeQu468kS2ts3ZWX7_5keQV0Y=s64",
      "userId": "03193064938437592202"
     },
     "user_tz": 180
    },
    "id": "guNh_BIVc9XT",
    "outputId": "c3c4daae-3df3-4611-d199-c6fa9c85027d"
   },
   "outputs": [
    {
     "data": {
      "text/html": [
       "<div>\n",
       "<style scoped>\n",
       "    .dataframe tbody tr th:only-of-type {\n",
       "        vertical-align: middle;\n",
       "    }\n",
       "\n",
       "    .dataframe tbody tr th {\n",
       "        vertical-align: top;\n",
       "    }\n",
       "\n",
       "    .dataframe thead th {\n",
       "        text-align: right;\n",
       "    }\n",
       "</style>\n",
       "<table border=\"1\" class=\"dataframe\">\n",
       "  <thead>\n",
       "    <tr style=\"text-align: right;\">\n",
       "      <th></th>\n",
       "      <th>id_chamado_interacao</th>\n",
       "      <th>id_chamado</th>\n",
       "      <th>dt_previsao_conclusao</th>\n",
       "      <th>dt_conclusao</th>\n",
       "      <th>id_prioridade</th>\n",
       "    </tr>\n",
       "  </thead>\n",
       "  <tbody>\n",
       "    <tr>\n",
       "      <th>0</th>\n",
       "      <td>494001</td>\n",
       "      <td>28649</td>\n",
       "      <td>NaT</td>\n",
       "      <td>NaT</td>\n",
       "      <td>3.0</td>\n",
       "    </tr>\n",
       "    <tr>\n",
       "      <th>1</th>\n",
       "      <td>494002</td>\n",
       "      <td>28649</td>\n",
       "      <td>2019-12-05 08:17:19</td>\n",
       "      <td>2019-12-05 08:17:19</td>\n",
       "      <td>3.0</td>\n",
       "    </tr>\n",
       "    <tr>\n",
       "      <th>2</th>\n",
       "      <td>494003</td>\n",
       "      <td>28649</td>\n",
       "      <td>2019-12-05 08:17:26</td>\n",
       "      <td>2019-12-05 08:17:26</td>\n",
       "      <td>3.0</td>\n",
       "    </tr>\n",
       "    <tr>\n",
       "      <th>3</th>\n",
       "      <td>494004</td>\n",
       "      <td>28649</td>\n",
       "      <td>2019-12-05 08:17:52</td>\n",
       "      <td>2019-12-05 08:17:52</td>\n",
       "      <td>3.0</td>\n",
       "    </tr>\n",
       "    <tr>\n",
       "      <th>4</th>\n",
       "      <td>494005</td>\n",
       "      <td>28649</td>\n",
       "      <td>2019-12-05 08:18:04</td>\n",
       "      <td>2019-12-05 08:18:04</td>\n",
       "      <td>3.0</td>\n",
       "    </tr>\n",
       "    <tr>\n",
       "      <th>...</th>\n",
       "      <td>...</td>\n",
       "      <td>...</td>\n",
       "      <td>...</td>\n",
       "      <td>...</td>\n",
       "      <td>...</td>\n",
       "    </tr>\n",
       "    <tr>\n",
       "      <th>2595</th>\n",
       "      <td>607299</td>\n",
       "      <td>34040</td>\n",
       "      <td>2021-03-16 16:08:07</td>\n",
       "      <td>2021-03-16 16:08:07</td>\n",
       "      <td>NaN</td>\n",
       "    </tr>\n",
       "    <tr>\n",
       "      <th>2596</th>\n",
       "      <td>607342</td>\n",
       "      <td>34040</td>\n",
       "      <td>2021-03-16 17:31:35</td>\n",
       "      <td>2021-03-16 17:31:35</td>\n",
       "      <td>NaN</td>\n",
       "    </tr>\n",
       "    <tr>\n",
       "      <th>2597</th>\n",
       "      <td>607344</td>\n",
       "      <td>34040</td>\n",
       "      <td>NaT</td>\n",
       "      <td>NaT</td>\n",
       "      <td>NaN</td>\n",
       "    </tr>\n",
       "    <tr>\n",
       "      <th>2598</th>\n",
       "      <td>607345</td>\n",
       "      <td>34040</td>\n",
       "      <td>2021-03-16 17:33:10</td>\n",
       "      <td>2021-03-16 17:33:10</td>\n",
       "      <td>NaN</td>\n",
       "    </tr>\n",
       "    <tr>\n",
       "      <th>2599</th>\n",
       "      <td>607349</td>\n",
       "      <td>34040</td>\n",
       "      <td>2021-03-16 17:59:58</td>\n",
       "      <td>2021-03-16 17:59:58</td>\n",
       "      <td>NaN</td>\n",
       "    </tr>\n",
       "  </tbody>\n",
       "</table>\n",
       "<p>2600 rows × 5 columns</p>\n",
       "</div>"
      ],
      "text/plain": [
       "      id_chamado_interacao  id_chamado dt_previsao_conclusao  \\\n",
       "0                   494001       28649                   NaT   \n",
       "1                   494002       28649   2019-12-05 08:17:19   \n",
       "2                   494003       28649   2019-12-05 08:17:26   \n",
       "3                   494004       28649   2019-12-05 08:17:52   \n",
       "4                   494005       28649   2019-12-05 08:18:04   \n",
       "...                    ...         ...                   ...   \n",
       "2595                607299       34040   2021-03-16 16:08:07   \n",
       "2596                607342       34040   2021-03-16 17:31:35   \n",
       "2597                607344       34040                   NaT   \n",
       "2598                607345       34040   2021-03-16 17:33:10   \n",
       "2599                607349       34040   2021-03-16 17:59:58   \n",
       "\n",
       "            dt_conclusao  id_prioridade  \n",
       "0                    NaT            3.0  \n",
       "1    2019-12-05 08:17:19            3.0  \n",
       "2    2019-12-05 08:17:26            3.0  \n",
       "3    2019-12-05 08:17:52            3.0  \n",
       "4    2019-12-05 08:18:04            3.0  \n",
       "...                  ...            ...  \n",
       "2595 2021-03-16 16:08:07            NaN  \n",
       "2596 2021-03-16 17:31:35            NaN  \n",
       "2597                 NaT            NaN  \n",
       "2598 2021-03-16 17:33:10            NaN  \n",
       "2599 2021-03-16 17:59:58            NaN  \n",
       "\n",
       "[2600 rows x 5 columns]"
      ]
     },
     "execution_count": 28,
     "metadata": {},
     "output_type": "execute_result"
    }
   ],
   "source": [
    "chamado_interacao_df"
   ]
  },
  {
   "cell_type": "code",
   "execution_count": 29,
   "metadata": {
    "colab": {
     "base_uri": "https://localhost:8080/"
    },
    "executionInfo": {
     "elapsed": 14,
     "status": "ok",
     "timestamp": 1626799535321,
     "user": {
      "displayName": "Solano Buso Jacon",
      "photoUrl": "https://lh3.googleusercontent.com/a-/AOh14GhvIWJbdmF2sLdJ-sGeQu468kS2ts3ZWX7_5keQV0Y=s64",
      "userId": "03193064938437592202"
     },
     "user_tz": 180
    },
    "id": "RC9ftkNHc9XT",
    "outputId": "d46e103b-2e65-45bd-ec27-1e7108b088d2"
   },
   "outputs": [
    {
     "data": {
      "text/html": [
       "<div>\n",
       "<style scoped>\n",
       "    .dataframe tbody tr th:only-of-type {\n",
       "        vertical-align: middle;\n",
       "    }\n",
       "\n",
       "    .dataframe tbody tr th {\n",
       "        vertical-align: top;\n",
       "    }\n",
       "\n",
       "    .dataframe thead th {\n",
       "        text-align: right;\n",
       "    }\n",
       "</style>\n",
       "<table border=\"1\" class=\"dataframe\">\n",
       "  <thead>\n",
       "    <tr style=\"text-align: right;\">\n",
       "      <th></th>\n",
       "      <th>id_tarefa</th>\n",
       "      <th>id_chamado</th>\n",
       "      <th>dt_prev_inicio</th>\n",
       "      <th>dt_prev_fim</th>\n",
       "      <th>dt_inicio</th>\n",
       "      <th>dt_fim</th>\n",
       "      <th>retrabalho</th>\n",
       "      <th>id_prioridade</th>\n",
       "    </tr>\n",
       "  </thead>\n",
       "  <tbody>\n",
       "    <tr>\n",
       "      <th>0</th>\n",
       "      <td>14913</td>\n",
       "      <td>29227</td>\n",
       "      <td>2020-05-19 09:00:00</td>\n",
       "      <td>2020-05-20 18:00:00</td>\n",
       "      <td>2020-05-19 08:52:47</td>\n",
       "      <td>2020-05-19 09:23:47</td>\n",
       "      <td>False</td>\n",
       "      <td>2.0</td>\n",
       "    </tr>\n",
       "    <tr>\n",
       "      <th>1</th>\n",
       "      <td>16980</td>\n",
       "      <td>30969</td>\n",
       "      <td>2020-07-17 11:50:00</td>\n",
       "      <td>2020-07-17 14:00:00</td>\n",
       "      <td>2020-07-17 11:45:00</td>\n",
       "      <td>2020-07-17 12:22:29</td>\n",
       "      <td>False</td>\n",
       "      <td>2.0</td>\n",
       "    </tr>\n",
       "    <tr>\n",
       "      <th>2</th>\n",
       "      <td>17059</td>\n",
       "      <td>30969</td>\n",
       "      <td>2020-07-20 17:00:00</td>\n",
       "      <td>2020-07-20 18:00:00</td>\n",
       "      <td>2020-07-20 16:53:21</td>\n",
       "      <td>2020-07-20 18:39:12</td>\n",
       "      <td>False</td>\n",
       "      <td>2.0</td>\n",
       "    </tr>\n",
       "    <tr>\n",
       "      <th>3</th>\n",
       "      <td>17251</td>\n",
       "      <td>30969</td>\n",
       "      <td>2020-07-24 09:15:00</td>\n",
       "      <td>2020-07-24 18:00:00</td>\n",
       "      <td>2020-07-24 09:17:25</td>\n",
       "      <td>2020-07-24 10:00:56</td>\n",
       "      <td>False</td>\n",
       "      <td>2.0</td>\n",
       "    </tr>\n",
       "    <tr>\n",
       "      <th>4</th>\n",
       "      <td>17480</td>\n",
       "      <td>30969</td>\n",
       "      <td>2020-07-30 15:50:00</td>\n",
       "      <td>2020-07-30 17:30:00</td>\n",
       "      <td>2020-07-30 15:51:58</td>\n",
       "      <td>2020-07-30 17:31:43</td>\n",
       "      <td>False</td>\n",
       "      <td>2.0</td>\n",
       "    </tr>\n",
       "    <tr>\n",
       "      <th>...</th>\n",
       "      <td>...</td>\n",
       "      <td>...</td>\n",
       "      <td>...</td>\n",
       "      <td>...</td>\n",
       "      <td>...</td>\n",
       "      <td>...</td>\n",
       "      <td>...</td>\n",
       "      <td>...</td>\n",
       "    </tr>\n",
       "    <tr>\n",
       "      <th>90</th>\n",
       "      <td>26489</td>\n",
       "      <td>33953</td>\n",
       "      <td>2021-03-09 10:23:00</td>\n",
       "      <td>2021-03-09 11:30:00</td>\n",
       "      <td>2021-03-09 10:23:00</td>\n",
       "      <td>2021-03-09 11:27:00</td>\n",
       "      <td>False</td>\n",
       "      <td>3.0</td>\n",
       "    </tr>\n",
       "    <tr>\n",
       "      <th>91</th>\n",
       "      <td>26637</td>\n",
       "      <td>33936</td>\n",
       "      <td>2021-03-11 12:11:00</td>\n",
       "      <td>2021-03-11 13:30:00</td>\n",
       "      <td>2021-03-11 12:10:00</td>\n",
       "      <td>2021-03-12 08:09:00</td>\n",
       "      <td>False</td>\n",
       "      <td>NaN</td>\n",
       "    </tr>\n",
       "    <tr>\n",
       "      <th>92</th>\n",
       "      <td>26642</td>\n",
       "      <td>33978</td>\n",
       "      <td>2021-03-11 13:45:00</td>\n",
       "      <td>2021-03-11 14:20:00</td>\n",
       "      <td>2021-03-11 13:45:00</td>\n",
       "      <td>2021-03-11 14:16:00</td>\n",
       "      <td>False</td>\n",
       "      <td>3.0</td>\n",
       "    </tr>\n",
       "    <tr>\n",
       "      <th>93</th>\n",
       "      <td>26720</td>\n",
       "      <td>33980</td>\n",
       "      <td>2021-03-12 14:47:00</td>\n",
       "      <td>2021-03-12 16:00:00</td>\n",
       "      <td>2021-03-12 14:47:00</td>\n",
       "      <td>2021-03-12 16:00:00</td>\n",
       "      <td>False</td>\n",
       "      <td>3.0</td>\n",
       "    </tr>\n",
       "    <tr>\n",
       "      <th>94</th>\n",
       "      <td>26726</td>\n",
       "      <td>33980</td>\n",
       "      <td>2021-03-12 16:00:00</td>\n",
       "      <td>2021-03-12 17:00:00</td>\n",
       "      <td>2021-03-12 16:58:00</td>\n",
       "      <td>2021-03-15 08:05:00</td>\n",
       "      <td>False</td>\n",
       "      <td>3.0</td>\n",
       "    </tr>\n",
       "  </tbody>\n",
       "</table>\n",
       "<p>95 rows × 8 columns</p>\n",
       "</div>"
      ],
      "text/plain": [
       "    id_tarefa  id_chamado      dt_prev_inicio         dt_prev_fim  \\\n",
       "0       14913       29227 2020-05-19 09:00:00 2020-05-20 18:00:00   \n",
       "1       16980       30969 2020-07-17 11:50:00 2020-07-17 14:00:00   \n",
       "2       17059       30969 2020-07-20 17:00:00 2020-07-20 18:00:00   \n",
       "3       17251       30969 2020-07-24 09:15:00 2020-07-24 18:00:00   \n",
       "4       17480       30969 2020-07-30 15:50:00 2020-07-30 17:30:00   \n",
       "..        ...         ...                 ...                 ...   \n",
       "90      26489       33953 2021-03-09 10:23:00 2021-03-09 11:30:00   \n",
       "91      26637       33936 2021-03-11 12:11:00 2021-03-11 13:30:00   \n",
       "92      26642       33978 2021-03-11 13:45:00 2021-03-11 14:20:00   \n",
       "93      26720       33980 2021-03-12 14:47:00 2021-03-12 16:00:00   \n",
       "94      26726       33980 2021-03-12 16:00:00 2021-03-12 17:00:00   \n",
       "\n",
       "             dt_inicio              dt_fim  retrabalho  id_prioridade  \n",
       "0  2020-05-19 08:52:47 2020-05-19 09:23:47       False            2.0  \n",
       "1  2020-07-17 11:45:00 2020-07-17 12:22:29       False            2.0  \n",
       "2  2020-07-20 16:53:21 2020-07-20 18:39:12       False            2.0  \n",
       "3  2020-07-24 09:17:25 2020-07-24 10:00:56       False            2.0  \n",
       "4  2020-07-30 15:51:58 2020-07-30 17:31:43       False            2.0  \n",
       "..                 ...                 ...         ...            ...  \n",
       "90 2021-03-09 10:23:00 2021-03-09 11:27:00       False            3.0  \n",
       "91 2021-03-11 12:10:00 2021-03-12 08:09:00       False            NaN  \n",
       "92 2021-03-11 13:45:00 2021-03-11 14:16:00       False            3.0  \n",
       "93 2021-03-12 14:47:00 2021-03-12 16:00:00       False            3.0  \n",
       "94 2021-03-12 16:58:00 2021-03-15 08:05:00       False            3.0  \n",
       "\n",
       "[95 rows x 8 columns]"
      ]
     },
     "execution_count": 29,
     "metadata": {},
     "output_type": "execute_result"
    }
   ],
   "source": [
    "tarefa_df"
   ]
  },
  {
   "cell_type": "code",
   "execution_count": 30,
   "metadata": {
    "colab": {
     "base_uri": "https://localhost:8080/"
    },
    "executionInfo": {
     "elapsed": 14,
     "status": "ok",
     "timestamp": 1626799535321,
     "user": {
      "displayName": "Solano Buso Jacon",
      "photoUrl": "https://lh3.googleusercontent.com/a-/AOh14GhvIWJbdmF2sLdJ-sGeQu468kS2ts3ZWX7_5keQV0Y=s64",
      "userId": "03193064938437592202"
     },
     "user_tz": 180
    },
    "id": "eNYvPc4yc9XT",
    "outputId": "c6c157cd-6abb-44b7-a67e-9c8edded5738"
   },
   "outputs": [
    {
     "data": {
      "text/html": [
       "<div>\n",
       "<style scoped>\n",
       "    .dataframe tbody tr th:only-of-type {\n",
       "        vertical-align: middle;\n",
       "    }\n",
       "\n",
       "    .dataframe tbody tr th {\n",
       "        vertical-align: top;\n",
       "    }\n",
       "\n",
       "    .dataframe thead th {\n",
       "        text-align: right;\n",
       "    }\n",
       "</style>\n",
       "<table border=\"1\" class=\"dataframe\">\n",
       "  <thead>\n",
       "    <tr style=\"text-align: right;\">\n",
       "      <th></th>\n",
       "      <th>id_prioridade</th>\n",
       "      <th>prioridade</th>\n",
       "      <th>nivel</th>\n",
       "    </tr>\n",
       "  </thead>\n",
       "  <tbody>\n",
       "    <tr>\n",
       "      <th>0</th>\n",
       "      <td>1</td>\n",
       "      <td>Crítico</td>\n",
       "      <td>3</td>\n",
       "    </tr>\n",
       "    <tr>\n",
       "      <th>1</th>\n",
       "      <td>2</td>\n",
       "      <td>Normal</td>\n",
       "      <td>1</td>\n",
       "    </tr>\n",
       "    <tr>\n",
       "      <th>2</th>\n",
       "      <td>3</td>\n",
       "      <td>Urgente</td>\n",
       "      <td>2</td>\n",
       "    </tr>\n",
       "  </tbody>\n",
       "</table>\n",
       "</div>"
      ],
      "text/plain": [
       "   id_prioridade prioridade  nivel\n",
       "0              1    Crítico      3\n",
       "1              2     Normal      1\n",
       "2              3    Urgente      2"
      ]
     },
     "execution_count": 30,
     "metadata": {},
     "output_type": "execute_result"
    }
   ],
   "source": [
    "prioridade_df"
   ]
  },
  {
   "cell_type": "code",
   "execution_count": 31,
   "metadata": {
    "colab": {
     "base_uri": "https://localhost:8080/"
    },
    "executionInfo": {
     "elapsed": 13,
     "status": "ok",
     "timestamp": 1626799535321,
     "user": {
      "displayName": "Solano Buso Jacon",
      "photoUrl": "https://lh3.googleusercontent.com/a-/AOh14GhvIWJbdmF2sLdJ-sGeQu468kS2ts3ZWX7_5keQV0Y=s64",
      "userId": "03193064938437592202"
     },
     "user_tz": 180
    },
    "id": "9z5eNHTCc9XT",
    "outputId": "7ad31e8f-c368-4180-e8b1-a0f5ab17b71d"
   },
   "outputs": [
    {
     "data": {
      "text/html": [
       "<div>\n",
       "<style scoped>\n",
       "    .dataframe tbody tr th:only-of-type {\n",
       "        vertical-align: middle;\n",
       "    }\n",
       "\n",
       "    .dataframe tbody tr th {\n",
       "        vertical-align: top;\n",
       "    }\n",
       "\n",
       "    .dataframe thead th {\n",
       "        text-align: right;\n",
       "    }\n",
       "</style>\n",
       "<table border=\"1\" class=\"dataframe\">\n",
       "  <thead>\n",
       "    <tr style=\"text-align: right;\">\n",
       "      <th></th>\n",
       "      <th>id_chamado_tipo</th>\n",
       "      <th>tipo</th>\n",
       "    </tr>\n",
       "  </thead>\n",
       "  <tbody>\n",
       "    <tr>\n",
       "      <th>0</th>\n",
       "      <td>1</td>\n",
       "      <td>Tipo 1</td>\n",
       "    </tr>\n",
       "    <tr>\n",
       "      <th>1</th>\n",
       "      <td>10</td>\n",
       "      <td>Tipo 10</td>\n",
       "    </tr>\n",
       "    <tr>\n",
       "      <th>2</th>\n",
       "      <td>1001</td>\n",
       "      <td>Tipo 1001</td>\n",
       "    </tr>\n",
       "    <tr>\n",
       "      <th>3</th>\n",
       "      <td>11</td>\n",
       "      <td>Tipo 11</td>\n",
       "    </tr>\n",
       "    <tr>\n",
       "      <th>4</th>\n",
       "      <td>12</td>\n",
       "      <td>Tipo 12</td>\n",
       "    </tr>\n",
       "    <tr>\n",
       "      <th>5</th>\n",
       "      <td>2</td>\n",
       "      <td>Tipo 2</td>\n",
       "    </tr>\n",
       "    <tr>\n",
       "      <th>6</th>\n",
       "      <td>3</td>\n",
       "      <td>Tipo 3</td>\n",
       "    </tr>\n",
       "    <tr>\n",
       "      <th>7</th>\n",
       "      <td>4</td>\n",
       "      <td>Tipo 4</td>\n",
       "    </tr>\n",
       "    <tr>\n",
       "      <th>8</th>\n",
       "      <td>5</td>\n",
       "      <td>Tipo 5</td>\n",
       "    </tr>\n",
       "    <tr>\n",
       "      <th>9</th>\n",
       "      <td>6</td>\n",
       "      <td>Tipo 6</td>\n",
       "    </tr>\n",
       "    <tr>\n",
       "      <th>10</th>\n",
       "      <td>7</td>\n",
       "      <td>Tipo 7</td>\n",
       "    </tr>\n",
       "    <tr>\n",
       "      <th>11</th>\n",
       "      <td>8</td>\n",
       "      <td>Tipo 8</td>\n",
       "    </tr>\n",
       "    <tr>\n",
       "      <th>12</th>\n",
       "      <td>9</td>\n",
       "      <td>Tipo 9</td>\n",
       "    </tr>\n",
       "  </tbody>\n",
       "</table>\n",
       "</div>"
      ],
      "text/plain": [
       "    id_chamado_tipo       tipo\n",
       "0                 1     Tipo 1\n",
       "1                10    Tipo 10\n",
       "2              1001  Tipo 1001\n",
       "3                11    Tipo 11\n",
       "4                12    Tipo 12\n",
       "5                 2     Tipo 2\n",
       "6                 3     Tipo 3\n",
       "7                 4     Tipo 4\n",
       "8                 5     Tipo 5\n",
       "9                 6     Tipo 6\n",
       "10                7     Tipo 7\n",
       "11                8     Tipo 8\n",
       "12                9     Tipo 9"
      ]
     },
     "execution_count": 31,
     "metadata": {},
     "output_type": "execute_result"
    }
   ],
   "source": [
    "chamado_tipo_df"
   ]
  },
  {
   "cell_type": "code",
   "execution_count": 32,
   "metadata": {
    "colab": {
     "base_uri": "https://localhost:8080/"
    },
    "executionInfo": {
     "elapsed": 13,
     "status": "ok",
     "timestamp": 1626799535322,
     "user": {
      "displayName": "Solano Buso Jacon",
      "photoUrl": "https://lh3.googleusercontent.com/a-/AOh14GhvIWJbdmF2sLdJ-sGeQu468kS2ts3ZWX7_5keQV0Y=s64",
      "userId": "03193064938437592202"
     },
     "user_tz": 180
    },
    "id": "jh4Cn1ZHc9XU",
    "outputId": "fc21e5e0-274c-4f60-b4b5-0d580e77a22b"
   },
   "outputs": [
    {
     "data": {
      "text/html": [
       "<div>\n",
       "<style scoped>\n",
       "    .dataframe tbody tr th:only-of-type {\n",
       "        vertical-align: middle;\n",
       "    }\n",
       "\n",
       "    .dataframe tbody tr th {\n",
       "        vertical-align: top;\n",
       "    }\n",
       "\n",
       "    .dataframe thead th {\n",
       "        text-align: right;\n",
       "    }\n",
       "</style>\n",
       "<table border=\"1\" class=\"dataframe\">\n",
       "  <thead>\n",
       "    <tr style=\"text-align: right;\">\n",
       "      <th></th>\n",
       "      <th>id_sistema</th>\n",
       "      <th>sistema</th>\n",
       "    </tr>\n",
       "  </thead>\n",
       "  <tbody>\n",
       "    <tr>\n",
       "      <th>0</th>\n",
       "      <td>1</td>\n",
       "      <td>Sistema 1</td>\n",
       "    </tr>\n",
       "    <tr>\n",
       "      <th>1</th>\n",
       "      <td>2</td>\n",
       "      <td>Sistema 2</td>\n",
       "    </tr>\n",
       "    <tr>\n",
       "      <th>2</th>\n",
       "      <td>3</td>\n",
       "      <td>Sistema 3</td>\n",
       "    </tr>\n",
       "    <tr>\n",
       "      <th>3</th>\n",
       "      <td>4</td>\n",
       "      <td>Sistema 4</td>\n",
       "    </tr>\n",
       "    <tr>\n",
       "      <th>4</th>\n",
       "      <td>5</td>\n",
       "      <td>Sistema 5</td>\n",
       "    </tr>\n",
       "    <tr>\n",
       "      <th>5</th>\n",
       "      <td>6</td>\n",
       "      <td>Sistema 6</td>\n",
       "    </tr>\n",
       "    <tr>\n",
       "      <th>6</th>\n",
       "      <td>8</td>\n",
       "      <td>Sistema 8</td>\n",
       "    </tr>\n",
       "    <tr>\n",
       "      <th>7</th>\n",
       "      <td>9</td>\n",
       "      <td>Sistema 9</td>\n",
       "    </tr>\n",
       "    <tr>\n",
       "      <th>8</th>\n",
       "      <td>10</td>\n",
       "      <td>Sistema 10</td>\n",
       "    </tr>\n",
       "    <tr>\n",
       "      <th>9</th>\n",
       "      <td>11</td>\n",
       "      <td>Sistema 11</td>\n",
       "    </tr>\n",
       "    <tr>\n",
       "      <th>10</th>\n",
       "      <td>12</td>\n",
       "      <td>Sistema 12</td>\n",
       "    </tr>\n",
       "    <tr>\n",
       "      <th>11</th>\n",
       "      <td>13</td>\n",
       "      <td>Sistema 13</td>\n",
       "    </tr>\n",
       "    <tr>\n",
       "      <th>12</th>\n",
       "      <td>14</td>\n",
       "      <td>Sistema 14</td>\n",
       "    </tr>\n",
       "    <tr>\n",
       "      <th>13</th>\n",
       "      <td>15</td>\n",
       "      <td>Sistema 15</td>\n",
       "    </tr>\n",
       "    <tr>\n",
       "      <th>14</th>\n",
       "      <td>16</td>\n",
       "      <td>Sistema 16</td>\n",
       "    </tr>\n",
       "    <tr>\n",
       "      <th>15</th>\n",
       "      <td>17</td>\n",
       "      <td>Sistema 17</td>\n",
       "    </tr>\n",
       "    <tr>\n",
       "      <th>16</th>\n",
       "      <td>18</td>\n",
       "      <td>Sistema 18</td>\n",
       "    </tr>\n",
       "    <tr>\n",
       "      <th>17</th>\n",
       "      <td>19</td>\n",
       "      <td>Sistema 19</td>\n",
       "    </tr>\n",
       "    <tr>\n",
       "      <th>18</th>\n",
       "      <td>20</td>\n",
       "      <td>Sistema 20</td>\n",
       "    </tr>\n",
       "    <tr>\n",
       "      <th>19</th>\n",
       "      <td>21</td>\n",
       "      <td>Sistema 21</td>\n",
       "    </tr>\n",
       "    <tr>\n",
       "      <th>20</th>\n",
       "      <td>22</td>\n",
       "      <td>Sistema 22</td>\n",
       "    </tr>\n",
       "    <tr>\n",
       "      <th>21</th>\n",
       "      <td>23</td>\n",
       "      <td>Sistema 23</td>\n",
       "    </tr>\n",
       "    <tr>\n",
       "      <th>22</th>\n",
       "      <td>24</td>\n",
       "      <td>Sistema 24</td>\n",
       "    </tr>\n",
       "    <tr>\n",
       "      <th>23</th>\n",
       "      <td>25</td>\n",
       "      <td>Sistema 25</td>\n",
       "    </tr>\n",
       "    <tr>\n",
       "      <th>24</th>\n",
       "      <td>26</td>\n",
       "      <td>Sistema 26</td>\n",
       "    </tr>\n",
       "    <tr>\n",
       "      <th>25</th>\n",
       "      <td>27</td>\n",
       "      <td>Sistema 27</td>\n",
       "    </tr>\n",
       "    <tr>\n",
       "      <th>26</th>\n",
       "      <td>28</td>\n",
       "      <td>Sistema 28</td>\n",
       "    </tr>\n",
       "    <tr>\n",
       "      <th>27</th>\n",
       "      <td>29</td>\n",
       "      <td>Sistema 29</td>\n",
       "    </tr>\n",
       "  </tbody>\n",
       "</table>\n",
       "</div>"
      ],
      "text/plain": [
       "    id_sistema     sistema\n",
       "0            1   Sistema 1\n",
       "1            2   Sistema 2\n",
       "2            3   Sistema 3\n",
       "3            4   Sistema 4\n",
       "4            5   Sistema 5\n",
       "5            6   Sistema 6\n",
       "6            8   Sistema 8\n",
       "7            9   Sistema 9\n",
       "8           10  Sistema 10\n",
       "9           11  Sistema 11\n",
       "10          12  Sistema 12\n",
       "11          13  Sistema 13\n",
       "12          14  Sistema 14\n",
       "13          15  Sistema 15\n",
       "14          16  Sistema 16\n",
       "15          17  Sistema 17\n",
       "16          18  Sistema 18\n",
       "17          19  Sistema 19\n",
       "18          20  Sistema 20\n",
       "19          21  Sistema 21\n",
       "20          22  Sistema 22\n",
       "21          23  Sistema 23\n",
       "22          24  Sistema 24\n",
       "23          25  Sistema 25\n",
       "24          26  Sistema 26\n",
       "25          27  Sistema 27\n",
       "26          28  Sistema 28\n",
       "27          29  Sistema 29"
      ]
     },
     "execution_count": 32,
     "metadata": {},
     "output_type": "execute_result"
    }
   ],
   "source": [
    "sistema_df"
   ]
  },
  {
   "cell_type": "markdown",
   "metadata": {
    "id": "5s_L-Hezc9XU"
   },
   "source": [
    "## Análise Geral dos Dados / *General Data Analysis*\n",
    "\n",
    "- Verificação de colunas vazios ou com conteúdo que pode prejudicar as análises\n",
    "\n",
    "\n",
    "- *Checking for empty fields or with content that can spoil the analysis*"
   ]
  },
  {
   "cell_type": "code",
   "execution_count": 33,
   "metadata": {
    "colab": {
     "base_uri": "https://localhost:8080/"
    },
    "executionInfo": {
     "elapsed": 747,
     "status": "ok",
     "timestamp": 1626799536057,
     "user": {
      "displayName": "Solano Buso Jacon",
      "photoUrl": "https://lh3.googleusercontent.com/a-/AOh14GhvIWJbdmF2sLdJ-sGeQu468kS2ts3ZWX7_5keQV0Y=s64",
      "userId": "03193064938437592202"
     },
     "user_tz": 180
    },
    "id": "OXhAax1Tc9XU",
    "outputId": "bd85aac8-0791-4381-9e41-21a2d72d025f"
   },
   "outputs": [
    {
     "name": "stdout",
     "output_type": "stream",
     "text": [
      "<class 'pandas.core.frame.DataFrame'>\n",
      "Int64Index: 110 entries, 27456 to 32847\n",
      "Data columns (total 7 columns):\n",
      " #   Column                         Non-Null Count  Dtype         \n",
      "---  ------                         --------------  -----         \n",
      " 0   id_chamado                     110 non-null    int64         \n",
      " 1   id_sistema                     110 non-null    int64         \n",
      " 2   id_chamado_tipo                110 non-null    int64         \n",
      " 3   id_prioridade                  101 non-null    float64       \n",
      " 4   dt_abertura                    110 non-null    datetime64[ns]\n",
      " 5   dt_previsao_conclusao_chamado  6 non-null      datetime64[ns]\n",
      " 6   dt_conclusao_chamado           110 non-null    datetime64[ns]\n",
      "dtypes: datetime64[ns](3), float64(1), int64(3)\n",
      "memory usage: 6.9 KB\n"
     ]
    }
   ],
   "source": [
    "chamado_df.info()"
   ]
  },
  {
   "cell_type": "code",
   "execution_count": 34,
   "metadata": {
    "colab": {
     "base_uri": "https://localhost:8080/"
    },
    "executionInfo": {
     "elapsed": 15,
     "status": "ok",
     "timestamp": 1626799536058,
     "user": {
      "displayName": "Solano Buso Jacon",
      "photoUrl": "https://lh3.googleusercontent.com/a-/AOh14GhvIWJbdmF2sLdJ-sGeQu468kS2ts3ZWX7_5keQV0Y=s64",
      "userId": "03193064938437592202"
     },
     "user_tz": 180
    },
    "id": "qxAf91oGc9XU",
    "outputId": "e3556124-de39-4f40-f6ba-ce1b4a3b45dd"
   },
   "outputs": [
    {
     "name": "stdout",
     "output_type": "stream",
     "text": [
      "QUANTIDADE E PERCENTUAL DE CHAMADOS COM A COLUNA dt_previsao_conclusao_chamado VAZIA:\n",
      " QUANTITY AND PERCENTAGE OF TICKETS WITH THE EMPTY COLUMN dt_previsao_conclusao_chamado:\n",
      " 104 CHAMADOS / TICKETS\n",
      " 94.5 % DOS CHAMADOS / % OF TICKETS\n"
     ]
    }
   ],
   "source": [
    "print('QUANTIDADE E PERCENTUAL DE CHAMADOS COM A COLUNA dt_previsao_conclusao_chamado VAZIA:\\n',\n",
    "      'QUANTITY AND PERCENTAGE OF TICKETS WITH THE EMPTY COLUMN dt_previsao_conclusao_chamado:\\n',\n",
    "      chamado_df['dt_previsao_conclusao_chamado'].isnull().sum(), 'CHAMADOS / TICKETS\\n',\n",
    "      round((chamado_df['dt_previsao_conclusao_chamado'].isnull().sum() / len(chamado_df)) * 100, 1), '% DOS CHAMADOS / % OF TICKETS')"
   ]
  },
  {
   "cell_type": "code",
   "execution_count": 35,
   "metadata": {
    "colab": {
     "base_uri": "https://localhost:8080/"
    },
    "executionInfo": {
     "elapsed": 14,
     "status": "ok",
     "timestamp": 1626799536058,
     "user": {
      "displayName": "Solano Buso Jacon",
      "photoUrl": "https://lh3.googleusercontent.com/a-/AOh14GhvIWJbdmF2sLdJ-sGeQu468kS2ts3ZWX7_5keQV0Y=s64",
      "userId": "03193064938437592202"
     },
     "user_tz": 180
    },
    "id": "4AM-KDvwc9XU",
    "outputId": "34e58abb-372a-4f6e-b444-aaa44a1a493a"
   },
   "outputs": [
    {
     "name": "stdout",
     "output_type": "stream",
     "text": [
      "<class 'pandas.core.frame.DataFrame'>\n",
      "Int64Index: 2600 entries, 0 to 2599\n",
      "Data columns (total 5 columns):\n",
      " #   Column                 Non-Null Count  Dtype         \n",
      "---  ------                 --------------  -----         \n",
      " 0   id_chamado_interacao   2600 non-null   int64         \n",
      " 1   id_chamado             2600 non-null   int64         \n",
      " 2   dt_previsao_conclusao  1425 non-null   datetime64[ns]\n",
      " 3   dt_conclusao           1660 non-null   datetime64[ns]\n",
      " 4   id_prioridade          2437 non-null   float64       \n",
      "dtypes: datetime64[ns](2), float64(1), int64(2)\n",
      "memory usage: 121.9 KB\n"
     ]
    }
   ],
   "source": [
    "chamado_interacao_df.info()"
   ]
  },
  {
   "cell_type": "code",
   "execution_count": 36,
   "metadata": {
    "colab": {
     "base_uri": "https://localhost:8080/"
    },
    "executionInfo": {
     "elapsed": 14,
     "status": "ok",
     "timestamp": 1626799536059,
     "user": {
      "displayName": "Solano Buso Jacon",
      "photoUrl": "https://lh3.googleusercontent.com/a-/AOh14GhvIWJbdmF2sLdJ-sGeQu468kS2ts3ZWX7_5keQV0Y=s64",
      "userId": "03193064938437592202"
     },
     "user_tz": 180
    },
    "id": "jCg-J3kic9XV",
    "outputId": "c141e816-5c34-4067-b470-497e17a48ffe"
   },
   "outputs": [
    {
     "name": "stdout",
     "output_type": "stream",
     "text": [
      "QUANTIDADE E PERCENTUAL DE INTERAÇÕES DOS CHAMADOS COM A COLUNA dt_conclusao VAZIA:\n",
      " QUANTITY AND PERCENTAGE OF INTERACTIONS OF TICKETS WITH THE EMPTY COLUMN dt_conclusao:\n",
      " 940 INTERAÇÕES / INTERACTIONS\n",
      " 36.2 % DAS INTERACOES / % OF INTERACTIONS\n"
     ]
    }
   ],
   "source": [
    "print('QUANTIDADE E PERCENTUAL DE INTERAÇÕES DOS CHAMADOS COM A COLUNA dt_conclusao VAZIA:\\n',\n",
    "      'QUANTITY AND PERCENTAGE OF INTERACTIONS OF TICKETS WITH THE EMPTY COLUMN dt_conclusao:\\n',\n",
    "      chamado_interacao_df['dt_conclusao'].isnull().sum(), 'INTERAÇÕES / INTERACTIONS\\n',\n",
    "      round((chamado_interacao_df['dt_conclusao'].isnull().sum() / len(chamado_interacao_df)) * 100, 1), '% DAS INTERACOES / % OF INTERACTIONS')"
   ]
  },
  {
   "cell_type": "code",
   "execution_count": 37,
   "metadata": {
    "colab": {
     "base_uri": "https://localhost:8080/"
    },
    "executionInfo": {
     "elapsed": 14,
     "status": "ok",
     "timestamp": 1626799536059,
     "user": {
      "displayName": "Solano Buso Jacon",
      "photoUrl": "https://lh3.googleusercontent.com/a-/AOh14GhvIWJbdmF2sLdJ-sGeQu468kS2ts3ZWX7_5keQV0Y=s64",
      "userId": "03193064938437592202"
     },
     "user_tz": 180
    },
    "id": "jR99UbpMc9XV",
    "outputId": "52c78f13-c9ed-4cea-90ea-22c2763c3b0f"
   },
   "outputs": [
    {
     "name": "stdout",
     "output_type": "stream",
     "text": [
      "<class 'pandas.core.frame.DataFrame'>\n",
      "Int64Index: 95 entries, 0 to 94\n",
      "Data columns (total 8 columns):\n",
      " #   Column          Non-Null Count  Dtype         \n",
      "---  ------          --------------  -----         \n",
      " 0   id_tarefa       95 non-null     int64         \n",
      " 1   id_chamado      95 non-null     int64         \n",
      " 2   dt_prev_inicio  95 non-null     datetime64[ns]\n",
      " 3   dt_prev_fim     95 non-null     datetime64[ns]\n",
      " 4   dt_inicio       95 non-null     datetime64[ns]\n",
      " 5   dt_fim          94 non-null     datetime64[ns]\n",
      " 6   retrabalho      95 non-null     bool          \n",
      " 7   id_prioridade   94 non-null     float64       \n",
      "dtypes: bool(1), datetime64[ns](4), float64(1), int64(2)\n",
      "memory usage: 6.0 KB\n"
     ]
    }
   ],
   "source": [
    "tarefa_df.info()"
   ]
  },
  {
   "cell_type": "code",
   "execution_count": 38,
   "metadata": {
    "colab": {
     "base_uri": "https://localhost:8080/"
    },
    "executionInfo": {
     "elapsed": 13,
     "status": "ok",
     "timestamp": 1626799536059,
     "user": {
      "displayName": "Solano Buso Jacon",
      "photoUrl": "https://lh3.googleusercontent.com/a-/AOh14GhvIWJbdmF2sLdJ-sGeQu468kS2ts3ZWX7_5keQV0Y=s64",
      "userId": "03193064938437592202"
     },
     "user_tz": 180
    },
    "id": "rMQDsBDIc9XV",
    "outputId": "4522eb95-7ad9-49fe-f32d-9d39fabdbdd4"
   },
   "outputs": [
    {
     "name": "stdout",
     "output_type": "stream",
     "text": [
      "QUANTIDADE DE TAREFAS POR CONTEUDO DA COLUNA retrabalho:\n",
      " NUMBER OF TASKS BY COLUMN retrabalho CONTENT:\n"
     ]
    },
    {
     "data": {
      "text/plain": [
       "False    95\n",
       "Name: retrabalho, dtype: int64"
      ]
     },
     "execution_count": 38,
     "metadata": {},
     "output_type": "execute_result"
    }
   ],
   "source": [
    "print('QUANTIDADE DE TAREFAS POR CONTEUDO DA COLUNA retrabalho:\\n',\n",
    "      'NUMBER OF TASKS BY COLUMN retrabalho CONTENT:')\n",
    "tarefa_df['retrabalho'].value_counts()"
   ]
  },
  {
   "cell_type": "markdown",
   "metadata": {
    "id": "317YTB8oc9XV"
   },
   "source": [
    "## Análise dos Chamados / *Ticket Analysis*\n",
    "\n",
    "- Gráfico da distribuição dos chamados ao longo do tempo\n",
    "- Gráfico da distribuição dos chamados por prioridade\n",
    "- Cálculo do ADP dos chamados geral e por prioridade\n",
    "- Cálculo do TMA dos chamados geral, por prioridade, por tipo de chamado e por sistema\n",
    "\n",
    "\n",
    "- *Distribution chart of tickets over time*\n",
    "- *Distribution chart of tickets by priority*\n",
    "- *ADP calculation of general and priority tickets*\n",
    "- *TMA calculation of general ticket, by priority, by type of ticket and by system*"
   ]
  },
  {
   "cell_type": "code",
   "execution_count": 39,
   "metadata": {
    "id": "Wfn7lDyec9XW"
   },
   "outputs": [],
   "source": [
    "chamado_adp_df = chamado_df.merge(prioridade_df, how='left', on='id_prioridade')\n",
    "chamado_adp_df = chamado_adp_df.dropna(subset=['dt_previsao_conclusao_chamado'])"
   ]
  },
  {
   "cell_type": "code",
   "execution_count": 40,
   "metadata": {
    "colab": {
     "base_uri": "https://localhost:8080/"
    },
    "executionInfo": {
     "elapsed": 13,
     "status": "ok",
     "timestamp": 1626799536060,
     "user": {
      "displayName": "Solano Buso Jacon",
      "photoUrl": "https://lh3.googleusercontent.com/a-/AOh14GhvIWJbdmF2sLdJ-sGeQu468kS2ts3ZWX7_5keQV0Y=s64",
      "userId": "03193064938437592202"
     },
     "user_tz": 180
    },
    "id": "Ol_y5K1Qc9XW",
    "outputId": "a2a7b2ca-0a96-4c8a-bbc8-a64651a473c4"
   },
   "outputs": [
    {
     "data": {
      "text/html": [
       "<div>\n",
       "<style scoped>\n",
       "    .dataframe tbody tr th:only-of-type {\n",
       "        vertical-align: middle;\n",
       "    }\n",
       "\n",
       "    .dataframe tbody tr th {\n",
       "        vertical-align: top;\n",
       "    }\n",
       "\n",
       "    .dataframe thead th {\n",
       "        text-align: right;\n",
       "    }\n",
       "</style>\n",
       "<table border=\"1\" class=\"dataframe\">\n",
       "  <thead>\n",
       "    <tr style=\"text-align: right;\">\n",
       "      <th></th>\n",
       "      <th>id_chamado</th>\n",
       "      <th>id_sistema</th>\n",
       "      <th>id_chamado_tipo</th>\n",
       "      <th>id_prioridade</th>\n",
       "      <th>dt_abertura</th>\n",
       "      <th>dt_previsao_conclusao_chamado</th>\n",
       "      <th>dt_conclusao_chamado</th>\n",
       "      <th>prioridade</th>\n",
       "      <th>nivel</th>\n",
       "    </tr>\n",
       "  </thead>\n",
       "  <tbody>\n",
       "    <tr>\n",
       "      <th>2</th>\n",
       "      <td>30969</td>\n",
       "      <td>27</td>\n",
       "      <td>12</td>\n",
       "      <td>2.0</td>\n",
       "      <td>2020-07-06 18:11:39.693</td>\n",
       "      <td>2020-09-11 18:00:00</td>\n",
       "      <td>2021-03-06 05:00:09.823</td>\n",
       "      <td>Normal</td>\n",
       "      <td>1.0</td>\n",
       "    </tr>\n",
       "    <tr>\n",
       "      <th>3</th>\n",
       "      <td>32951</td>\n",
       "      <td>2</td>\n",
       "      <td>10</td>\n",
       "      <td>2.0</td>\n",
       "      <td>2020-12-03 16:39:37.357</td>\n",
       "      <td>2021-02-12 18:00:00</td>\n",
       "      <td>2021-03-12 05:00:04.467</td>\n",
       "      <td>Normal</td>\n",
       "      <td>1.0</td>\n",
       "    </tr>\n",
       "    <tr>\n",
       "      <th>5</th>\n",
       "      <td>33141</td>\n",
       "      <td>2</td>\n",
       "      <td>5</td>\n",
       "      <td>3.0</td>\n",
       "      <td>2020-12-17 14:06:39.523</td>\n",
       "      <td>2021-03-12 18:00:00</td>\n",
       "      <td>2021-03-16 05:00:09.570</td>\n",
       "      <td>Urgente</td>\n",
       "      <td>2.0</td>\n",
       "    </tr>\n",
       "    <tr>\n",
       "      <th>7</th>\n",
       "      <td>33308</td>\n",
       "      <td>11</td>\n",
       "      <td>12</td>\n",
       "      <td>2.0</td>\n",
       "      <td>2021-01-05 18:02:40.883</td>\n",
       "      <td>2021-02-26 18:00:00</td>\n",
       "      <td>2021-03-08 09:25:07.000</td>\n",
       "      <td>Normal</td>\n",
       "      <td>1.0</td>\n",
       "    </tr>\n",
       "    <tr>\n",
       "      <th>8</th>\n",
       "      <td>33358</td>\n",
       "      <td>14</td>\n",
       "      <td>10</td>\n",
       "      <td>2.0</td>\n",
       "      <td>2021-01-11 12:53:26.440</td>\n",
       "      <td>2021-03-03 18:00:00</td>\n",
       "      <td>2021-03-17 05:00:08.867</td>\n",
       "      <td>Normal</td>\n",
       "      <td>1.0</td>\n",
       "    </tr>\n",
       "    <tr>\n",
       "      <th>21</th>\n",
       "      <td>33794</td>\n",
       "      <td>20</td>\n",
       "      <td>5</td>\n",
       "      <td>3.0</td>\n",
       "      <td>2021-02-22 11:04:41.690</td>\n",
       "      <td>2021-02-25 18:30:00</td>\n",
       "      <td>2021-03-08 16:26:10.000</td>\n",
       "      <td>Urgente</td>\n",
       "      <td>2.0</td>\n",
       "    </tr>\n",
       "  </tbody>\n",
       "</table>\n",
       "</div>"
      ],
      "text/plain": [
       "    id_chamado  id_sistema  id_chamado_tipo  id_prioridade  \\\n",
       "2        30969          27               12            2.0   \n",
       "3        32951           2               10            2.0   \n",
       "5        33141           2                5            3.0   \n",
       "7        33308          11               12            2.0   \n",
       "8        33358          14               10            2.0   \n",
       "21       33794          20                5            3.0   \n",
       "\n",
       "               dt_abertura dt_previsao_conclusao_chamado  \\\n",
       "2  2020-07-06 18:11:39.693           2020-09-11 18:00:00   \n",
       "3  2020-12-03 16:39:37.357           2021-02-12 18:00:00   \n",
       "5  2020-12-17 14:06:39.523           2021-03-12 18:00:00   \n",
       "7  2021-01-05 18:02:40.883           2021-02-26 18:00:00   \n",
       "8  2021-01-11 12:53:26.440           2021-03-03 18:00:00   \n",
       "21 2021-02-22 11:04:41.690           2021-02-25 18:30:00   \n",
       "\n",
       "      dt_conclusao_chamado prioridade  nivel  \n",
       "2  2021-03-06 05:00:09.823     Normal    1.0  \n",
       "3  2021-03-12 05:00:04.467     Normal    1.0  \n",
       "5  2021-03-16 05:00:09.570    Urgente    2.0  \n",
       "7  2021-03-08 09:25:07.000     Normal    1.0  \n",
       "8  2021-03-17 05:00:08.867     Normal    1.0  \n",
       "21 2021-03-08 16:26:10.000    Urgente    2.0  "
      ]
     },
     "execution_count": 40,
     "metadata": {},
     "output_type": "execute_result"
    }
   ],
   "source": [
    "chamado_adp_df"
   ]
  },
  {
   "cell_type": "code",
   "execution_count": 41,
   "metadata": {
    "colab": {
     "base_uri": "https://localhost:8080/"
    },
    "executionInfo": {
     "elapsed": 13,
     "status": "ok",
     "timestamp": 1626799536061,
     "user": {
      "displayName": "Solano Buso Jacon",
      "photoUrl": "https://lh3.googleusercontent.com/a-/AOh14GhvIWJbdmF2sLdJ-sGeQu468kS2ts3ZWX7_5keQV0Y=s64",
      "userId": "03193064938437592202"
     },
     "user_tz": 180
    },
    "id": "SnGJL2ssc9XW",
    "outputId": "5b068012-7fcb-4e74-8a9b-81321f7bebce"
   },
   "outputs": [
    {
     "data": {
      "image/png": "[encoded data removed]",
      "text/plain": [
       "<Figure size 1500x500 with 1 Axes>"
      ]
     },
     "metadata": {},
     "output_type": "display_data"
    }
   ],
   "source": [
    "plt.figure(figsize=(15,5))\n",
    "plt.suptitle('Distribution of Tickets over Time', fontsize=20)\n",
    "plt.xlabel('Conclusion Date', fontsize=16)\n",
    "plt.ylabel('Number of Tickets', fontsize=16)\n",
    "plt.hist(x=chamado_adp_df['dt_conclusao_chamado'], bins=36)\n",
    "plt.show()"
   ]
  },
  {
   "cell_type": "code",
   "execution_count": 42,
   "metadata": {
    "colab": {
     "base_uri": "https://localhost:8080/"
    },
    "executionInfo": {
     "elapsed": 12,
     "status": "ok",
     "timestamp": 1626799536061,
     "user": {
      "displayName": "Solano Buso Jacon",
      "photoUrl": "https://lh3.googleusercontent.com/a-/AOh14GhvIWJbdmF2sLdJ-sGeQu468kS2ts3ZWX7_5keQV0Y=s64",
      "userId": "03193064938437592202"
     },
     "user_tz": 180
    },
    "id": "B7WzWxbIc9XW",
    "outputId": "73c57587-6c1a-4388-c96c-08eb53043c8f"
   },
   "outputs": [
    {
     "data": {
      "image/png": "[encoded data removed]",
      "text/plain": [
       "<Figure size 500x500 with 1 Axes>"
      ]
     },
     "metadata": {},
     "output_type": "display_data"
    }
   ],
   "source": [
    "sns.catplot(x='prioridade', data=chamado_adp_df, kind='count')\n",
    "plt.suptitle('Distribution of Tickets by Priority', fontsize=16)\n",
    "plt.xlabel('Priority', fontsize=12)\n",
    "plt.ylabel('Number of Tickets', fontsize=12)\n",
    "plt.show()"
   ]
  },
  {
   "cell_type": "code",
   "execution_count": 43,
   "metadata": {
    "colab": {
     "base_uri": "https://localhost:8080/"
    },
    "executionInfo": {
     "elapsed": 11,
     "status": "ok",
     "timestamp": 1626799536061,
     "user": {
      "displayName": "Solano Buso Jacon",
      "photoUrl": "https://lh3.googleusercontent.com/a-/AOh14GhvIWJbdmF2sLdJ-sGeQu468kS2ts3ZWX7_5keQV0Y=s64",
      "userId": "03193064938437592202"
     },
     "user_tz": 180
    },
    "id": "7rTyXUruc9XX",
    "outputId": "e11770f0-9468-4b2f-f944-3f7684d668da"
   },
   "outputs": [
    {
     "name": "stdout",
     "output_type": "stream",
     "text": [
      "ADP - GERAL / GENERAL : 0.0 %   ( 5.5 % dos chamados considerados / % of considered tickets)\n",
      "ADP - CHAMADO / TICKET URGENTE : 0.0 %   ( 1.8 % dos chamados considerados / % of considered tickets)\n",
      "ADP - CHAMADO / TICKET NORMAL : 0.0 %   ( 3.6 % dos chamados considerados / % of considered tickets)\n"
     ]
    }
   ],
   "source": [
    "# INDICADOR ADP - GERAL E POR PRIORIDADE / ADP INDICATOR - GENERAL AND BY PRIORITY\n",
    "\n",
    "adps = {}\n",
    "adps_descr = []\n",
    "adps_valor = []\n",
    "\n",
    "adp_descr = 'Geral'\n",
    "adp_valor = len(chamado_adp_df.loc[chamado_adp_df['dt_conclusao_chamado'] <= chamado_adp_df['dt_previsao_conclusao_chamado']]) \\\n",
    "    / len(chamado_adp_df)\n",
    "print('ADP - GERAL / GENERAL :', round(adp_valor * 100, 1), '%   (', round((len(chamado_adp_df) / len(chamado_df)) * 100, 1), '% dos chamados considerados / % of considered tickets)')\n",
    "adps_descr.append(adp_descr)\n",
    "adps_valor.append(adp_valor)\n",
    "\n",
    "for prioridade in prioridade_df.sort_values(by=['nivel'], ascending=False)['prioridade']:\n",
    "    if len(chamado_adp_df.loc[chamado_adp_df['prioridade'] == prioridade]) != 0:\n",
    "        adp_descr = prioridade\n",
    "        chamado_adp_prior_df = chamado_adp_df.loc[chamado_adp_df['prioridade'] == prioridade]\n",
    "        adp_valor = len(chamado_adp_prior_df.loc[chamado_adp_prior_df['dt_conclusao_chamado'] <= chamado_adp_prior_df['dt_previsao_conclusao_chamado']]) \\\n",
    "            / len(chamado_adp_prior_df)\n",
    "        print('ADP - CHAMADO / TICKET', prioridade.upper(), ':', round(adp_valor * 100, 1), '%   (', round((len(chamado_adp_prior_df) / len(chamado_df)) * 100, 1), '% dos chamados considerados / % of considered tickets)')\n",
    "        adps_descr.append(adp_descr)\n",
    "        adps_valor.append(adp_valor)\n",
    "\n",
    "adps = {'Filtro': adps_descr, 'ADP': adps_valor}\n",
    "adps_df = pd.DataFrame.from_dict(adps)"
   ]
  },
  {
   "cell_type": "code",
   "execution_count": 44,
   "metadata": {
    "colab": {
     "base_uri": "https://localhost:8080/"
    },
    "executionInfo": {
     "elapsed": 18,
     "status": "ok",
     "timestamp": 1626799536722,
     "user": {
      "displayName": "Solano Buso Jacon",
      "photoUrl": "https://lh3.googleusercontent.com/a-/AOh14GhvIWJbdmF2sLdJ-sGeQu468kS2ts3ZWX7_5keQV0Y=s64",
      "userId": "03193064938437592202"
     },
     "user_tz": 180
    },
    "id": "guQB-RqFc9XX",
    "outputId": "0a35ce14-cc1c-47e7-d548-54365e12b589"
   },
   "outputs": [
    {
     "data": {
      "image/png": "[encoded data removed]",
      "text/plain": [
       "<Figure size 640x480 with 1 Axes>"
      ]
     },
     "metadata": {},
     "output_type": "display_data"
    }
   ],
   "source": [
    "sns.barplot(data=adps_df, x='Filtro', y='ADP')\n",
    "plt.suptitle('ADP Indicator of Tickets in General and by Priority', fontsize=16)\n",
    "plt.xlabel('Priority', fontsize=12)\n",
    "plt.ylabel('ADP (*100 %)', fontsize=12)\n",
    "plt.show()"
   ]
  },
  {
   "cell_type": "code",
   "execution_count": 45,
   "metadata": {
    "id": "p46cAAvec9XX"
   },
   "outputs": [],
   "source": [
    "chamado_tma_df = chamado_df.merge(prioridade_df, how='left', on='id_prioridade')\n",
    "chamado_tma_df = chamado_tma_df.merge(chamado_tipo_df, how='left', on='id_chamado_tipo')\n",
    "chamado_tma_df = chamado_tma_df.merge(sistema_df, how='left', on='id_sistema')\n",
    "chamado_tma_df = chamado_tma_df.dropna(subset=['dt_abertura'])"
   ]
  },
  {
   "cell_type": "code",
   "execution_count": 46,
   "metadata": {
    "id": "MXnho53dc9XX"
   },
   "outputs": [],
   "source": [
    "chamado_tma_df['tempo_atendimento'] = chamado_tma_df['dt_conclusao_chamado'] - chamado_tma_df['dt_abertura']\n",
    "chamado_tma_df['tempo_atendimento'] = chamado_tma_df['tempo_atendimento'].apply(lambda x: x.days)"
   ]
  },
  {
   "cell_type": "code",
   "execution_count": 47,
   "metadata": {
    "colab": {
     "base_uri": "https://localhost:8080/"
    },
    "executionInfo": {
     "elapsed": 17,
     "status": "ok",
     "timestamp": 1626799536724,
     "user": {
      "displayName": "Solano Buso Jacon",
      "photoUrl": "https://lh3.googleusercontent.com/a-/AOh14GhvIWJbdmF2sLdJ-sGeQu468kS2ts3ZWX7_5keQV0Y=s64",
      "userId": "03193064938437592202"
     },
     "user_tz": 180
    },
    "id": "Rez-czhkc9XX",
    "outputId": "a79df733-d291-4f56-dadb-23dafb466ec0"
   },
   "outputs": [
    {
     "name": "stdout",
     "output_type": "stream",
     "text": [
      "QUANTIDADE E PERCENTUAL DE CHAMADOS COM TEMPO DE ATENDIMENTO MAIOR DO QUE 90 DIAS:\n",
      " QUANTITY AND PERCENTAGE OF TICKETS WITH SERVICE TIME GREATER THAN 90 DAYS:\n",
      " 4 CHAMADOS / TICKETS   -    3.6 % DOS CHAMADOS / % OF TICKETS\n"
     ]
    }
   ],
   "source": [
    "print('QUANTIDADE E PERCENTUAL DE CHAMADOS COM TEMPO DE ATENDIMENTO MAIOR DO QUE 90 DIAS:\\n',\n",
    "      'QUANTITY AND PERCENTAGE OF TICKETS WITH SERVICE TIME GREATER THAN 90 DAYS:\\n',\n",
    "      len(chamado_tma_df.loc[chamado_tma_df['tempo_atendimento'] > 90]), 'CHAMADOS / TICKETS   -   ',\n",
    "      round((len(chamado_tma_df.loc[chamado_tma_df['tempo_atendimento'] > 90]) / len(chamado_df)) * 100, 1), '% DOS CHAMADOS / % OF TICKETS')"
   ]
  },
  {
   "cell_type": "code",
   "execution_count": 48,
   "metadata": {
    "colab": {
     "base_uri": "https://localhost:8080/"
    },
    "executionInfo": {
     "elapsed": 16,
     "status": "ok",
     "timestamp": 1626799536725,
     "user": {
      "displayName": "Solano Buso Jacon",
      "photoUrl": "https://lh3.googleusercontent.com/a-/AOh14GhvIWJbdmF2sLdJ-sGeQu468kS2ts3ZWX7_5keQV0Y=s64",
      "userId": "03193064938437592202"
     },
     "user_tz": 180
    },
    "id": "jiE0o9a5c9XY",
    "outputId": "e08709bf-b554-438f-88b6-5ef61a7418fb"
   },
   "outputs": [
    {
     "name": "stdout",
     "output_type": "stream",
     "text": [
      "QUANTIDADE E PERCENTUAL DE CHAMADOS COM TEMPO DE ATENDIMENTO MAIOR DO QUE 180 DIAS:\n",
      " QUANTITY AND PERCENTAGE OF TICKETS WITH SERVICE TIME GREATER THAN 180 DAYS:\n",
      " 3 CHAMADOS / TICKETS   -    2.7 % DOS CHAMADOS / % OF TICKETS\n"
     ]
    }
   ],
   "source": [
    "print('QUANTIDADE E PERCENTUAL DE CHAMADOS COM TEMPO DE ATENDIMENTO MAIOR DO QUE 180 DIAS:\\n',\n",
    "      'QUANTITY AND PERCENTAGE OF TICKETS WITH SERVICE TIME GREATER THAN 180 DAYS:\\n',\n",
    "      len(chamado_tma_df.loc[chamado_tma_df['tempo_atendimento'] > 180]), 'CHAMADOS / TICKETS   -   ',\n",
    "      round((len(chamado_tma_df.loc[chamado_tma_df['tempo_atendimento'] > 180]) / len(chamado_df)) * 100, 1), '% DOS CHAMADOS / % OF TICKETS')"
   ]
  },
  {
   "cell_type": "code",
   "execution_count": 49,
   "metadata": {
    "colab": {
     "base_uri": "https://localhost:8080/"
    },
    "executionInfo": {
     "elapsed": 16,
     "status": "ok",
     "timestamp": 1626799536725,
     "user": {
      "displayName": "Solano Buso Jacon",
      "photoUrl": "https://lh3.googleusercontent.com/a-/AOh14GhvIWJbdmF2sLdJ-sGeQu468kS2ts3ZWX7_5keQV0Y=s64",
      "userId": "03193064938437592202"
     },
     "user_tz": 180
    },
    "id": "5aDyLdVZc9XY",
    "outputId": "3c06c8e8-9820-4ef8-9998-bdf657e824e1"
   },
   "outputs": [
    {
     "name": "stdout",
     "output_type": "stream",
     "text": [
      "QUANTIDADE E PERCENTUAL DE CHAMADOS COM TEMPO DE ATENDIMENTO MAIOR DO QUE 365 DIAS:\n",
      " QUANTITY AND PERCENTAGE OF TICKETS WITH SERVICE TIME GREATER THAN 365 DAYS:\n",
      " 2 CHAMADOS / TICKETS   -    1.8 % DOS CHAMADOS / % OF TICKETS\n"
     ]
    }
   ],
   "source": [
    "print('QUANTIDADE E PERCENTUAL DE CHAMADOS COM TEMPO DE ATENDIMENTO MAIOR DO QUE 365 DIAS:\\n',\n",
    "      'QUANTITY AND PERCENTAGE OF TICKETS WITH SERVICE TIME GREATER THAN 365 DAYS:\\n',\n",
    "      len(chamado_tma_df.loc[chamado_tma_df['tempo_atendimento'] > 365]), 'CHAMADOS / TICKETS   -   ',\n",
    "      round((len(chamado_tma_df.loc[chamado_tma_df['tempo_atendimento'] > 365]) / len(chamado_df)) * 100, 1), '% DOS CHAMADOS / % OF TICKETS')"
   ]
  },
  {
   "cell_type": "code",
   "execution_count": 50,
   "metadata": {
    "colab": {
     "base_uri": "https://localhost:8080/"
    },
    "executionInfo": {
     "elapsed": 15,
     "status": "ok",
     "timestamp": 1626799536725,
     "user": {
      "displayName": "Solano Buso Jacon",
      "photoUrl": "https://lh3.googleusercontent.com/a-/AOh14GhvIWJbdmF2sLdJ-sGeQu468kS2ts3ZWX7_5keQV0Y=s64",
      "userId": "03193064938437592202"
     },
     "user_tz": 180
    },
    "id": "egPXCl_ec9XY",
    "outputId": "6c1445d2-e9d6-45af-b6e2-fde5094d9424"
   },
   "outputs": [
    {
     "name": "stdout",
     "output_type": "stream",
     "text": [
      "MAIOR TEMPO DE ATENDIMENTO:\n",
      " LONGER SERVICE TIME:\n",
      " 456 DIAS / DAYS ( 1.2 ANOS / YEARS)\n"
     ]
    }
   ],
   "source": [
    "print('MAIOR TEMPO DE ATENDIMENTO:\\n',\n",
    "      'LONGER SERVICE TIME:\\n',\n",
    "      chamado_tma_df['tempo_atendimento'].max(), 'DIAS / DAYS (', round(chamado_tma_df['tempo_atendimento'].max() / 365, 1), 'ANOS / YEARS)')"
   ]
  },
  {
   "cell_type": "code",
   "execution_count": 51,
   "metadata": {
    "colab": {
     "base_uri": "https://localhost:8080/"
    },
    "executionInfo": {
     "elapsed": 15,
     "status": "ok",
     "timestamp": 1626799536726,
     "user": {
      "displayName": "Solano Buso Jacon",
      "photoUrl": "https://lh3.googleusercontent.com/a-/AOh14GhvIWJbdmF2sLdJ-sGeQu468kS2ts3ZWX7_5keQV0Y=s64",
      "userId": "03193064938437592202"
     },
     "user_tz": 180
    },
    "id": "DjtmbVUFc9XY",
    "outputId": "fbc9bbf1-07c8-43cd-dfc6-88fb36728144"
   },
   "outputs": [
    {
     "data": {
      "text/html": [
       "<div>\n",
       "<style scoped>\n",
       "    .dataframe tbody tr th:only-of-type {\n",
       "        vertical-align: middle;\n",
       "    }\n",
       "\n",
       "    .dataframe tbody tr th {\n",
       "        vertical-align: top;\n",
       "    }\n",
       "\n",
       "    .dataframe thead th {\n",
       "        text-align: right;\n",
       "    }\n",
       "</style>\n",
       "<table border=\"1\" class=\"dataframe\">\n",
       "  <thead>\n",
       "    <tr style=\"text-align: right;\">\n",
       "      <th></th>\n",
       "      <th>id_chamado</th>\n",
       "      <th>id_sistema</th>\n",
       "      <th>id_chamado_tipo</th>\n",
       "      <th>id_prioridade</th>\n",
       "      <th>dt_abertura</th>\n",
       "      <th>dt_previsao_conclusao_chamado</th>\n",
       "      <th>dt_conclusao_chamado</th>\n",
       "      <th>prioridade</th>\n",
       "      <th>nivel</th>\n",
       "      <th>tipo</th>\n",
       "      <th>sistema</th>\n",
       "      <th>tempo_atendimento</th>\n",
       "    </tr>\n",
       "  </thead>\n",
       "  <tbody>\n",
       "    <tr>\n",
       "      <th>0</th>\n",
       "      <td>28649</td>\n",
       "      <td>1</td>\n",
       "      <td>5</td>\n",
       "      <td>3.0</td>\n",
       "      <td>2019-12-05 08:17:30.313</td>\n",
       "      <td>NaT</td>\n",
       "      <td>2021-03-06 05:00:03.910</td>\n",
       "      <td>Urgente</td>\n",
       "      <td>2.0</td>\n",
       "      <td>Tipo 5</td>\n",
       "      <td>Sistema 1</td>\n",
       "      <td>456</td>\n",
       "    </tr>\n",
       "    <tr>\n",
       "      <th>1</th>\n",
       "      <td>29227</td>\n",
       "      <td>2</td>\n",
       "      <td>5</td>\n",
       "      <td>2.0</td>\n",
       "      <td>2020-02-06 11:52:38.463</td>\n",
       "      <td>NaT</td>\n",
       "      <td>2021-03-11 15:07:05.000</td>\n",
       "      <td>Normal</td>\n",
       "      <td>1.0</td>\n",
       "      <td>Tipo 5</td>\n",
       "      <td>Sistema 2</td>\n",
       "      <td>399</td>\n",
       "    </tr>\n",
       "    <tr>\n",
       "      <th>2</th>\n",
       "      <td>30969</td>\n",
       "      <td>27</td>\n",
       "      <td>12</td>\n",
       "      <td>2.0</td>\n",
       "      <td>2020-07-06 18:11:39.693</td>\n",
       "      <td>2020-09-11 18:00:00</td>\n",
       "      <td>2021-03-06 05:00:09.823</td>\n",
       "      <td>Normal</td>\n",
       "      <td>1.0</td>\n",
       "      <td>Tipo 12</td>\n",
       "      <td>Sistema 27</td>\n",
       "      <td>242</td>\n",
       "    </tr>\n",
       "    <tr>\n",
       "      <th>3</th>\n",
       "      <td>32951</td>\n",
       "      <td>2</td>\n",
       "      <td>10</td>\n",
       "      <td>2.0</td>\n",
       "      <td>2020-12-03 16:39:37.357</td>\n",
       "      <td>2021-02-12 18:00:00</td>\n",
       "      <td>2021-03-12 05:00:04.467</td>\n",
       "      <td>Normal</td>\n",
       "      <td>1.0</td>\n",
       "      <td>Tipo 10</td>\n",
       "      <td>Sistema 2</td>\n",
       "      <td>98</td>\n",
       "    </tr>\n",
       "    <tr>\n",
       "      <th>4</th>\n",
       "      <td>33110</td>\n",
       "      <td>1</td>\n",
       "      <td>5</td>\n",
       "      <td>3.0</td>\n",
       "      <td>2020-12-16 11:54:21.670</td>\n",
       "      <td>NaT</td>\n",
       "      <td>2021-03-06 05:00:02.463</td>\n",
       "      <td>Urgente</td>\n",
       "      <td>2.0</td>\n",
       "      <td>Tipo 5</td>\n",
       "      <td>Sistema 1</td>\n",
       "      <td>79</td>\n",
       "    </tr>\n",
       "    <tr>\n",
       "      <th>...</th>\n",
       "      <td>...</td>\n",
       "      <td>...</td>\n",
       "      <td>...</td>\n",
       "      <td>...</td>\n",
       "      <td>...</td>\n",
       "      <td>...</td>\n",
       "      <td>...</td>\n",
       "      <td>...</td>\n",
       "      <td>...</td>\n",
       "      <td>...</td>\n",
       "      <td>...</td>\n",
       "      <td>...</td>\n",
       "    </tr>\n",
       "    <tr>\n",
       "      <th>105</th>\n",
       "      <td>34030</td>\n",
       "      <td>1</td>\n",
       "      <td>5</td>\n",
       "      <td>3.0</td>\n",
       "      <td>2021-03-15 19:04:39.270</td>\n",
       "      <td>NaT</td>\n",
       "      <td>2021-03-16 15:20:39.000</td>\n",
       "      <td>Urgente</td>\n",
       "      <td>2.0</td>\n",
       "      <td>Tipo 5</td>\n",
       "      <td>Sistema 1</td>\n",
       "      <td>0</td>\n",
       "    </tr>\n",
       "    <tr>\n",
       "      <th>106</th>\n",
       "      <td>34037</td>\n",
       "      <td>2</td>\n",
       "      <td>5</td>\n",
       "      <td>3.0</td>\n",
       "      <td>2021-03-16 10:55:42.037</td>\n",
       "      <td>NaT</td>\n",
       "      <td>2021-03-16 12:32:54.000</td>\n",
       "      <td>Urgente</td>\n",
       "      <td>2.0</td>\n",
       "      <td>Tipo 5</td>\n",
       "      <td>Sistema 2</td>\n",
       "      <td>0</td>\n",
       "    </tr>\n",
       "    <tr>\n",
       "      <th>107</th>\n",
       "      <td>34038</td>\n",
       "      <td>2</td>\n",
       "      <td>5</td>\n",
       "      <td>NaN</td>\n",
       "      <td>2021-03-16 11:32:19.410</td>\n",
       "      <td>NaT</td>\n",
       "      <td>2021-03-16 15:15:50.000</td>\n",
       "      <td>NaN</td>\n",
       "      <td>NaN</td>\n",
       "      <td>Tipo 5</td>\n",
       "      <td>Sistema 2</td>\n",
       "      <td>0</td>\n",
       "    </tr>\n",
       "    <tr>\n",
       "      <th>108</th>\n",
       "      <td>34039</td>\n",
       "      <td>1</td>\n",
       "      <td>5</td>\n",
       "      <td>NaN</td>\n",
       "      <td>2021-03-16 11:54:00.857</td>\n",
       "      <td>NaT</td>\n",
       "      <td>2021-03-16 15:15:27.000</td>\n",
       "      <td>NaN</td>\n",
       "      <td>NaN</td>\n",
       "      <td>Tipo 5</td>\n",
       "      <td>Sistema 1</td>\n",
       "      <td>0</td>\n",
       "    </tr>\n",
       "    <tr>\n",
       "      <th>109</th>\n",
       "      <td>34040</td>\n",
       "      <td>2</td>\n",
       "      <td>6</td>\n",
       "      <td>NaN</td>\n",
       "      <td>2021-03-16 14:22:14.770</td>\n",
       "      <td>NaT</td>\n",
       "      <td>2021-03-16 17:59:58.000</td>\n",
       "      <td>NaN</td>\n",
       "      <td>NaN</td>\n",
       "      <td>Tipo 6</td>\n",
       "      <td>Sistema 2</td>\n",
       "      <td>0</td>\n",
       "    </tr>\n",
       "  </tbody>\n",
       "</table>\n",
       "<p>110 rows × 12 columns</p>\n",
       "</div>"
      ],
      "text/plain": [
       "     id_chamado  id_sistema  id_chamado_tipo  id_prioridade  \\\n",
       "0         28649           1                5            3.0   \n",
       "1         29227           2                5            2.0   \n",
       "2         30969          27               12            2.0   \n",
       "3         32951           2               10            2.0   \n",
       "4         33110           1                5            3.0   \n",
       "..          ...         ...              ...            ...   \n",
       "105       34030           1                5            3.0   \n",
       "106       34037           2                5            3.0   \n",
       "107       34038           2                5            NaN   \n",
       "108       34039           1                5            NaN   \n",
       "109       34040           2                6            NaN   \n",
       "\n",
       "                dt_abertura dt_previsao_conclusao_chamado  \\\n",
       "0   2019-12-05 08:17:30.313                           NaT   \n",
       "1   2020-02-06 11:52:38.463                           NaT   \n",
       "2   2020-07-06 18:11:39.693           2020-09-11 18:00:00   \n",
       "3   2020-12-03 16:39:37.357           2021-02-12 18:00:00   \n",
       "4   2020-12-16 11:54:21.670                           NaT   \n",
       "..                      ...                           ...   \n",
       "105 2021-03-15 19:04:39.270                           NaT   \n",
       "106 2021-03-16 10:55:42.037                           NaT   \n",
       "107 2021-03-16 11:32:19.410                           NaT   \n",
       "108 2021-03-16 11:54:00.857                           NaT   \n",
       "109 2021-03-16 14:22:14.770                           NaT   \n",
       "\n",
       "       dt_conclusao_chamado prioridade  nivel     tipo     sistema  \\\n",
       "0   2021-03-06 05:00:03.910    Urgente    2.0   Tipo 5   Sistema 1   \n",
       "1   2021-03-11 15:07:05.000     Normal    1.0   Tipo 5   Sistema 2   \n",
       "2   2021-03-06 05:00:09.823     Normal    1.0  Tipo 12  Sistema 27   \n",
       "3   2021-03-12 05:00:04.467     Normal    1.0  Tipo 10   Sistema 2   \n",
       "4   2021-03-06 05:00:02.463    Urgente    2.0   Tipo 5   Sistema 1   \n",
       "..                      ...        ...    ...      ...         ...   \n",
       "105 2021-03-16 15:20:39.000    Urgente    2.0   Tipo 5   Sistema 1   \n",
       "106 2021-03-16 12:32:54.000    Urgente    2.0   Tipo 5   Sistema 2   \n",
       "107 2021-03-16 15:15:50.000        NaN    NaN   Tipo 5   Sistema 2   \n",
       "108 2021-03-16 15:15:27.000        NaN    NaN   Tipo 5   Sistema 1   \n",
       "109 2021-03-16 17:59:58.000        NaN    NaN   Tipo 6   Sistema 2   \n",
       "\n",
       "     tempo_atendimento  \n",
       "0                  456  \n",
       "1                  399  \n",
       "2                  242  \n",
       "3                   98  \n",
       "4                   79  \n",
       "..                 ...  \n",
       "105                  0  \n",
       "106                  0  \n",
       "107                  0  \n",
       "108                  0  \n",
       "109                  0  \n",
       "\n",
       "[110 rows x 12 columns]"
      ]
     },
     "execution_count": 51,
     "metadata": {},
     "output_type": "execute_result"
    }
   ],
   "source": [
    "chamado_tma_df"
   ]
  },
  {
   "cell_type": "code",
   "execution_count": 52,
   "metadata": {
    "colab": {
     "base_uri": "https://localhost:8080/"
    },
    "executionInfo": {
     "elapsed": 15,
     "status": "ok",
     "timestamp": 1626799536726,
     "user": {
      "displayName": "Solano Buso Jacon",
      "photoUrl": "https://lh3.googleusercontent.com/a-/AOh14GhvIWJbdmF2sLdJ-sGeQu468kS2ts3ZWX7_5keQV0Y=s64",
      "userId": "03193064938437592202"
     },
     "user_tz": 180
    },
    "id": "GaFxPaWtc9XZ",
    "outputId": "8e27dc49-7d32-4b3d-ef13-f88bad2161f9"
   },
   "outputs": [
    {
     "name": "stdout",
     "output_type": "stream",
     "text": [
      "TMA - GERAL / GENERAL :  20.9 dias / days   ( 100.0 % dos chamados considerados / % of considered tickets)\n",
      "TMA - CHAMADO / TICKET CRÍTICO : 3.4 dias / days   ( 6.4 % dos chamados considerados / % of considered tickets)\n",
      "TMA - CHAMADO / TICKET URGENTE : 19.6 dias / days   ( 55.5 % dos chamados considerados / % of considered tickets)\n",
      "TMA - CHAMADO / TICKET NORMAL : 32.3 dias / days   ( 30.0 % dos chamados considerados / % of considered tickets)\n"
     ]
    }
   ],
   "source": [
    "# INDICADOR TMA - GERAL E POR PRIORIDADE / TMA INDICATOR - GENERAL AND BY PRIORITY \n",
    "\n",
    "tmas = {}\n",
    "tmas_descr = []\n",
    "tmas_valor = []\n",
    "\n",
    "tma_descr = 'Geral'\n",
    "tma_valor = chamado_tma_df['tempo_atendimento'].sum() / len(chamado_tma_df)\n",
    "print('TMA - GERAL / GENERAL : ', round(tma_valor, 1), 'dias / days   (', round((len(chamado_tma_df) / len(chamado_df)) * 100, 1), '% dos chamados considerados / % of considered tickets)')\n",
    "tmas_descr.append(tma_descr)\n",
    "tmas_valor.append(tma_valor)\n",
    "\n",
    "for prioridade in prioridade_df.sort_values(by=['nivel'], ascending=False)['prioridade']:\n",
    "    if len(chamado_tma_df.loc[chamado_tma_df['prioridade'] == prioridade]) != 0:\n",
    "        tma_descr = prioridade\n",
    "        chamado_tma_prior_df = chamado_tma_df.loc[chamado_tma_df['prioridade'] == prioridade]\n",
    "        tma_valor = chamado_tma_prior_df['tempo_atendimento'].sum() / len(chamado_tma_prior_df)\n",
    "        print('TMA - CHAMADO / TICKET', prioridade.upper(), ':', round(tma_valor, 1), 'dias / days   (', round((len(chamado_tma_prior_df) / len(chamado_df)) * 100, 1), '% dos chamados considerados / % of considered tickets)')\n",
    "        tmas_descr.append(tma_descr)\n",
    "        tmas_valor.append(tma_valor)\n",
    "\n",
    "tmas = {'Filtro': tmas_descr, 'TMA': tmas_valor}\n",
    "tmas_df = pd.DataFrame.from_dict(tmas)"
   ]
  },
  {
   "cell_type": "code",
   "execution_count": 53,
   "metadata": {
    "colab": {
     "base_uri": "https://localhost:8080/"
    },
    "executionInfo": {
     "elapsed": 415,
     "status": "ok",
     "timestamp": 1626799537127,
     "user": {
      "displayName": "Solano Buso Jacon",
      "photoUrl": "https://lh3.googleusercontent.com/a-/AOh14GhvIWJbdmF2sLdJ-sGeQu468kS2ts3ZWX7_5keQV0Y=s64",
      "userId": "03193064938437592202"
     },
     "user_tz": 180
    },
    "id": "dPI8GTYVc9XZ",
    "outputId": "8c62c84c-e80f-4fb7-eed1-d23554bfab41"
   },
   "outputs": [
    {
     "data": {
      "image/png": "[encoded data removed]",
      "text/plain": [
       "<Figure size 640x480 with 1 Axes>"
      ]
     },
     "metadata": {},
     "output_type": "display_data"
    }
   ],
   "source": [
    "sns.barplot(data=tmas_df, x='Filtro', y='TMA')\n",
    "plt.suptitle('TMA Indicator of Tickets in General and by Priority', fontsize=16)\n",
    "plt.xlabel('Priority', fontsize=12)\n",
    "plt.ylabel('TMA (days)', fontsize=12)\n",
    "plt.show()"
   ]
  },
  {
   "cell_type": "code",
   "execution_count": 54,
   "metadata": {
    "colab": {
     "base_uri": "https://localhost:8080/"
    },
    "executionInfo": {
     "elapsed": 9,
     "status": "ok",
     "timestamp": 1626799537128,
     "user": {
      "displayName": "Solano Buso Jacon",
      "photoUrl": "https://lh3.googleusercontent.com/a-/AOh14GhvIWJbdmF2sLdJ-sGeQu468kS2ts3ZWX7_5keQV0Y=s64",
      "userId": "03193064938437592202"
     },
     "user_tz": 180
    },
    "id": "uCByl6ifc9XZ",
    "outputId": "c11f5d5f-e920-419b-857e-f2424562ad17"
   },
   "outputs": [
    {
     "name": "stdout",
     "output_type": "stream",
     "text": [
      "TMA - GERAL / GENERAL :  10.4 dias / days   ( 96.4 % dos chamados considerados / % of considered tickets)\n",
      "TMA - CHAMADO / TICKET CRÍTICO : 3.4 dias / days   ( 6.4 % dos chamados considerados / % of considered tickets)\n",
      "TMA - CHAMADO / TICKET URGENTE : 12.3 dias / days   ( 54.5 % dos chamados considerados / % of considered tickets)\n",
      "TMA - CHAMADO / TICKET NORMAL : 10.9 dias / days   ( 27.3 % dos chamados considerados / % of considered tickets)\n"
     ]
    }
   ],
   "source": [
    "# INDICADOR TMA - GERAL E POR PRIORIDADE - APENAS DOS CHAMADOS COM TEMPO DE ATENDIMENTO MENOR OU IGUAL À 90 DIAS\n",
    "# TMA INDICATOR - GENERAL AND BY PRIORITY - ONLY TICKETS WITH 90 DAYS OR LESS SERVICE TIME\n",
    "\n",
    "tmas = {}\n",
    "tmas_descr = []\n",
    "tmas_valor = []\n",
    "\n",
    "tma_descr = 'Geral'\n",
    "tma_valor = chamado_tma_df.loc[chamado_tma_df['tempo_atendimento'] <= 90, 'tempo_atendimento'].sum() / len(chamado_tma_df.loc[chamado_tma_df['tempo_atendimento'] <= 90])\n",
    "print('TMA - GERAL / GENERAL : ', round(tma_valor, 1), 'dias / days   (', round((len(chamado_tma_df.loc[chamado_tma_df['tempo_atendimento'] <= 90]) / len(chamado_df)) * 100, 1), '% dos chamados considerados / % of considered tickets)')\n",
    "tmas_descr.append(tma_descr)\n",
    "tmas_valor.append(tma_valor)\n",
    "\n",
    "for prioridade in prioridade_df.sort_values(by=['nivel'], ascending=False)['prioridade']:\n",
    "    if len(chamado_tma_df.loc[(chamado_tma_df['prioridade'] == prioridade) & (chamado_tma_df['tempo_atendimento'] <= 90)]) != 0:\n",
    "        tma_descr = prioridade\n",
    "        chamado_tma_prior_df = chamado_tma_df.loc[(chamado_tma_df['prioridade'] == prioridade) & (chamado_tma_df['tempo_atendimento'] <= 90)]\n",
    "        tma_valor = chamado_tma_prior_df['tempo_atendimento'].sum() / len(chamado_tma_prior_df)\n",
    "        print('TMA - CHAMADO / TICKET', prioridade.upper(), ':', round(tma_valor, 1), 'dias / days   (', round((len(chamado_tma_prior_df) / len(chamado_df)) * 100, 1), '% dos chamados considerados / % of considered tickets)')\n",
    "        tmas_descr.append(tma_descr)\n",
    "        tmas_valor.append(tma_valor)\n",
    "\n",
    "tmas = {'Filtro': tmas_descr, 'TMA': tmas_valor}\n",
    "tmas_df = pd.DataFrame.from_dict(tmas)"
   ]
  },
  {
   "cell_type": "code",
   "execution_count": 55,
   "metadata": {
    "colab": {
     "base_uri": "https://localhost:8080/"
    },
    "executionInfo": {
     "elapsed": 8,
     "status": "ok",
     "timestamp": 1626799537128,
     "user": {
      "displayName": "Solano Buso Jacon",
      "photoUrl": "https://lh3.googleusercontent.com/a-/AOh14GhvIWJbdmF2sLdJ-sGeQu468kS2ts3ZWX7_5keQV0Y=s64",
      "userId": "03193064938437592202"
     },
     "user_tz": 180
    },
    "id": "tNKXMscUc9Xa",
    "outputId": "1f9dc516-fec6-48dd-886e-32975f14759f"
   },
   "outputs": [
    {
     "data": {
      "image/png": "[encoded data removed]",
      "text/plain": [
       "<Figure size 640x480 with 1 Axes>"
      ]
     },
     "metadata": {},
     "output_type": "display_data"
    }
   ],
   "source": [
    "sns.barplot(data=tmas_df, x='Filtro', y='TMA')\n",
    "plt.suptitle('TMA Indicator of Tickets in General and by Priority Only of Tickets with TA <= 90 days', fontsize=16)\n",
    "plt.xlabel('Priority', fontsize=12)\n",
    "plt.ylabel('TMA (days)', fontsize=12)\n",
    "plt.show()"
   ]
  },
  {
   "cell_type": "code",
   "execution_count": 56,
   "metadata": {
    "colab": {
     "base_uri": "https://localhost:8080/"
    },
    "executionInfo": {
     "elapsed": 8,
     "status": "ok",
     "timestamp": 1626799537129,
     "user": {
      "displayName": "Solano Buso Jacon",
      "photoUrl": "https://lh3.googleusercontent.com/a-/AOh14GhvIWJbdmF2sLdJ-sGeQu468kS2ts3ZWX7_5keQV0Y=s64",
      "userId": "03193064938437592202"
     },
     "user_tz": 180
    },
    "id": "_SBpKnf6c9Xa",
    "outputId": "c08c2610-14a4-4c6a-bfe2-280ef70dfcaa"
   },
   "outputs": [
    {
     "name": "stdout",
     "output_type": "stream",
     "text": [
      "TMA - CHAMADO / TICKET TIPO 5 : 23.4 dias / days   ( 62.7 % dos chamados considerados / % of considered tickets)\n",
      "TMA - CHAMADO / TICKET TIPO 6 : 5.2 dias / days   ( 10.9 % dos chamados considerados / % of considered tickets)\n",
      "TMA - CHAMADO / TICKET TIPO 10 : 56.3 dias / days   ( 2.7 % dos chamados considerados / % of considered tickets)\n",
      "TMA - CHAMADO / TICKET TIPO 12 : 17.4 dias / days   ( 22.7 % dos chamados considerados / % of considered tickets)\n",
      "TMA - CHAMADO / TICKET TIPO 1001 : 11.0 dias / days   ( 0.9 % dos chamados considerados / % of considered tickets)\n"
     ]
    }
   ],
   "source": [
    "# INDICADOR TMA POR TIPO DE CHAMADO / TMA INDICATOR BY TICKET TYPE\n",
    "\n",
    "tmas = {}\n",
    "tmas_descr = []\n",
    "tmas_valor = []\n",
    "\n",
    "for tipo in chamado_tipo_df.sort_values(by=['id_chamado_tipo'], ascending=True)['tipo']:\n",
    "    if len(chamado_tma_df.loc[chamado_tma_df['tipo'] == tipo]) != 0:\n",
    "        tma_descr = tipo\n",
    "        chamado_tma_tipo_df = chamado_tma_df.loc[chamado_tma_df['tipo'] == tipo]\n",
    "        tma_valor = chamado_tma_tipo_df['tempo_atendimento'].sum() / len(chamado_tma_tipo_df)\n",
    "        print('TMA - CHAMADO / TICKET', tipo.upper(), ':', round(tma_valor, 1), 'dias / days   (', round((len(chamado_tma_tipo_df) / len(chamado_df)) * 100, 1), '% dos chamados considerados / % of considered tickets)')\n",
    "        tmas_descr.append(tma_descr)\n",
    "        tmas_valor.append(tma_valor)\n",
    "\n",
    "tmas = {'Filtro': tmas_descr, 'TMA': tmas_valor}\n",
    "tmas_df = pd.DataFrame.from_dict(tmas)"
   ]
  },
  {
   "cell_type": "code",
   "execution_count": 57,
   "metadata": {
    "colab": {
     "base_uri": "https://localhost:8080/"
    },
    "executionInfo": {
     "elapsed": 386,
     "status": "ok",
     "timestamp": 1626799537508,
     "user": {
      "displayName": "Solano Buso Jacon",
      "photoUrl": "https://lh3.googleusercontent.com/a-/AOh14GhvIWJbdmF2sLdJ-sGeQu468kS2ts3ZWX7_5keQV0Y=s64",
      "userId": "03193064938437592202"
     },
     "user_tz": 180
    },
    "id": "gC2f3wtqc9Xa",
    "outputId": "d90bab6e-afff-405c-efcd-1ce9351ff196"
   },
   "outputs": [
    {
     "data": {
      "image/png": "[encoded data removed]",
      "text/plain": [
       "<Figure size 1500x500 with 1 Axes>"
      ]
     },
     "metadata": {},
     "output_type": "display_data"
    }
   ],
   "source": [
    "plt.figure(figsize=(15,5))\n",
    "sns.barplot(data=tmas_df, x='Filtro', y='TMA')\n",
    "plt.suptitle('TMA Indicator of Tickets by Type', fontsize=16)\n",
    "plt.xlabel('Type', fontsize=12)\n",
    "plt.ylabel('TMA (days)', fontsize=12)\n",
    "plt.xticks(rotation=90)\n",
    "plt.show()"
   ]
  },
  {
   "cell_type": "code",
   "execution_count": 58,
   "metadata": {
    "colab": {
     "base_uri": "https://localhost:8080/"
    },
    "executionInfo": {
     "elapsed": 363,
     "status": "ok",
     "timestamp": 1626799537864,
     "user": {
      "displayName": "Solano Buso Jacon",
      "photoUrl": "https://lh3.googleusercontent.com/a-/AOh14GhvIWJbdmF2sLdJ-sGeQu468kS2ts3ZWX7_5keQV0Y=s64",
      "userId": "03193064938437592202"
     },
     "user_tz": 180
    },
    "id": "0ysYXM2ac9Xb",
    "outputId": "bbc7fcd4-1970-46bd-df83-7298ffa37a01"
   },
   "outputs": [
    {
     "name": "stdout",
     "output_type": "stream",
     "text": [
      "TMA - CHAMADO / TICKET TIPO 5 : 11.4 dias / days   ( 60.9 % dos chamados considerados / % of considered tickets)\n",
      "TMA - CHAMADO / TICKET TIPO 6 : 5.2 dias / days   ( 10.9 % dos chamados considerados / % of considered tickets)\n",
      "TMA - CHAMADO / TICKET TIPO 10 : 35.5 dias / days   ( 1.8 % dos chamados considerados / % of considered tickets)\n",
      "TMA - CHAMADO / TICKET TIPO 12 : 8.0 dias / days   ( 21.8 % dos chamados considerados / % of considered tickets)\n",
      "TMA - CHAMADO / TICKET TIPO 1001 : 11.0 dias / days   ( 0.9 % dos chamados considerados / % of considered tickets)\n"
     ]
    }
   ],
   "source": [
    "# INDICADOR TMA POR TIPO DE CHAMADO APENAS DOS CHAMADOS COM TEMPO DE ATENDIMENTO MENOR OU IGUAL À 90 DIAS\n",
    "# TMA INDICATOR BY TYPE OF TICKET ONLY TICKETS WITH AN ANSWER TIME LESS OR EQUAL TO 90 DAYS\n",
    "\n",
    "tmas = {}\n",
    "tmas_descr = []\n",
    "tmas_valor = []\n",
    "\n",
    "for tipo in chamado_tipo_df.sort_values(by=['id_chamado_tipo'], ascending=True)['tipo']:\n",
    "    if len(chamado_tma_df.loc[(chamado_tma_df['tipo'] == tipo) & (chamado_tma_df['tempo_atendimento'] <= 90)]) != 0:\n",
    "        tma_descr = tipo\n",
    "        chamado_tma_tipo_df = chamado_tma_df.loc[(chamado_tma_df['tipo'] == tipo) & (chamado_tma_df['tempo_atendimento'] <= 90)]\n",
    "        tma_valor = chamado_tma_tipo_df['tempo_atendimento'].sum() / len(chamado_tma_tipo_df)\n",
    "        print('TMA - CHAMADO / TICKET', tipo.upper(), ':', round(tma_valor, 1), 'dias / days   (', round((len(chamado_tma_tipo_df) / len(chamado_df)) * 100, 1), '% dos chamados considerados / % of considered tickets)')\n",
    "        tmas_descr.append(tma_descr)\n",
    "        tmas_valor.append(tma_valor)\n",
    "\n",
    "tmas = {'Filtro': tmas_descr, 'TMA': tmas_valor}\n",
    "tmas_df = pd.DataFrame.from_dict(tmas)"
   ]
  },
  {
   "cell_type": "code",
   "execution_count": 59,
   "metadata": {
    "colab": {
     "base_uri": "https://localhost:8080/"
    },
    "executionInfo": {
     "elapsed": 4,
     "status": "ok",
     "timestamp": 1626799537864,
     "user": {
      "displayName": "Solano Buso Jacon",
      "photoUrl": "https://lh3.googleusercontent.com/a-/AOh14GhvIWJbdmF2sLdJ-sGeQu468kS2ts3ZWX7_5keQV0Y=s64",
      "userId": "03193064938437592202"
     },
     "user_tz": 180
    },
    "id": "kvVE6w07c9Xb",
    "outputId": "744ba686-876c-4232-8e38-0bd0c7792e04"
   },
   "outputs": [
    {
     "data": {
      "image/png": "[encoded data removed]",
      "text/plain": [
       "<Figure size 1500x500 with 1 Axes>"
      ]
     },
     "metadata": {},
     "output_type": "display_data"
    }
   ],
   "source": [
    "plt.figure(figsize=(15,5))\n",
    "sns.barplot(data=tmas_df, x='Filtro', y='TMA')\n",
    "plt.suptitle('TMA Indicator of Tickets by Type Only Tickets with TA <= 90 days', fontsize=16)\n",
    "plt.xlabel('Type', fontsize=12)\n",
    "plt.ylabel('TMA (days)', fontsize=12)\n",
    "plt.xticks(rotation=90)\n",
    "plt.show()"
   ]
  },
  {
   "cell_type": "code",
   "execution_count": 60,
   "metadata": {
    "colab": {
     "base_uri": "https://localhost:8080/"
    },
    "executionInfo": {
     "elapsed": 341,
     "status": "ok",
     "timestamp": 1626799538202,
     "user": {
      "displayName": "Solano Buso Jacon",
      "photoUrl": "https://lh3.googleusercontent.com/a-/AOh14GhvIWJbdmF2sLdJ-sGeQu468kS2ts3ZWX7_5keQV0Y=s64",
      "userId": "03193064938437592202"
     },
     "user_tz": 180
    },
    "id": "d1YpOig-c9Xb",
    "outputId": "3e61210b-df6e-48ee-8b5a-3627c8ffa526"
   },
   "outputs": [
    {
     "name": "stdout",
     "output_type": "stream",
     "text": [
      "TMA - CHAMADO / TICKET SISTEMA 1 : 49.4 dias / days   ( 10.0 % dos chamados considerados / % of considered tickets)\n",
      "TMA - CHAMADO / TICKET SISTEMA 2 : 17.4 dias / days   ( 58.2 % dos chamados considerados / % of considered tickets)\n",
      "TMA - CHAMADO / TICKET SISTEMA 4 : 0.0 dias / days   ( 0.9 % dos chamados considerados / % of considered tickets)\n",
      "TMA - CHAMADO / TICKET SISTEMA 6 : 1.8 dias / days   ( 3.6 % dos chamados considerados / % of considered tickets)\n",
      "TMA - CHAMADO / TICKET SISTEMA 8 : 8.0 dias / days   ( 13.6 % dos chamados considerados / % of considered tickets)\n",
      "TMA - CHAMADO / TICKET SISTEMA 11 : 61.0 dias / days   ( 0.9 % dos chamados considerados / % of considered tickets)\n",
      "TMA - CHAMADO / TICKET SISTEMA 14 : 33.0 dias / days   ( 1.8 % dos chamados considerados / % of considered tickets)\n",
      "TMA - CHAMADO / TICKET SISTEMA 15 : 11.0 dias / days   ( 0.9 % dos chamados considerados / % of considered tickets)\n",
      "TMA - CHAMADO / TICKET SISTEMA 20 : 14.0 dias / days   ( 0.9 % dos chamados considerados / % of considered tickets)\n",
      "TMA - CHAMADO / TICKET SISTEMA 27 : 62.2 dias / days   ( 3.6 % dos chamados considerados / % of considered tickets)\n",
      "TMA - CHAMADO / TICKET SISTEMA 28 : 18.7 dias / days   ( 5.5 % dos chamados considerados / % of considered tickets)\n"
     ]
    }
   ],
   "source": [
    "# INDICADOR TMA POR SISTEMA / TMA INDICATOR BY SYSTEM\n",
    "\n",
    "tmas = {}\n",
    "tmas_descr = []\n",
    "tmas_valor = []\n",
    "\n",
    "for sistema in sistema_df.sort_values(by=['id_sistema'], ascending=True)['sistema']:\n",
    "    if len(chamado_tma_df.loc[chamado_tma_df['sistema'] == sistema]) != 0:\n",
    "        tma_descr = sistema\n",
    "        chamado_tma_sistema_df = chamado_tma_df.loc[chamado_tma_df['sistema'] == sistema]\n",
    "        tma_valor = chamado_tma_sistema_df['tempo_atendimento'].sum() / len(chamado_tma_sistema_df)\n",
    "        print('TMA - CHAMADO / TICKET', sistema.upper(), ':', round(tma_valor, 1), 'dias / days   (', round((len(chamado_tma_sistema_df) / len(chamado_df)) * 100, 1), '% dos chamados considerados / % of considered tickets)')\n",
    "        tmas_descr.append(tma_descr)\n",
    "        tmas_valor.append(tma_valor)\n",
    "\n",
    "tmas = {'Filtro': tmas_descr, 'TMA': tmas_valor}\n",
    "tmas_df = pd.DataFrame.from_dict(tmas)"
   ]
  },
  {
   "cell_type": "code",
   "execution_count": 61,
   "metadata": {
    "colab": {
     "base_uri": "https://localhost:8080/"
    },
    "executionInfo": {
     "elapsed": 397,
     "status": "ok",
     "timestamp": 1626799538597,
     "user": {
      "displayName": "Solano Buso Jacon",
      "photoUrl": "https://lh3.googleusercontent.com/a-/AOh14GhvIWJbdmF2sLdJ-sGeQu468kS2ts3ZWX7_5keQV0Y=s64",
      "userId": "03193064938437592202"
     },
     "user_tz": 180
    },
    "id": "Vxpk2NQmc9Xb",
    "outputId": "afad892f-7110-46f1-9f7f-a1f427bb07a5"
   },
   "outputs": [
    {
     "data": {
      "image/png": "[encoded data removed]",
      "text/plain": [
       "<Figure size 1500x500 with 1 Axes>"
      ]
     },
     "metadata": {},
     "output_type": "display_data"
    }
   ],
   "source": [
    "plt.figure(figsize=(15,5))\n",
    "sns.barplot(data=tmas_df, x='Filtro', y='TMA')\n",
    "plt.suptitle('TMA Indicator of Tickets by System', fontsize=16)\n",
    "plt.xlabel('System', fontsize=12)\n",
    "plt.ylabel('TMA (days)', fontsize=12)\n",
    "plt.xticks(rotation=90)\n",
    "plt.show()"
   ]
  },
  {
   "cell_type": "code",
   "execution_count": 62,
   "metadata": {
    "colab": {
     "base_uri": "https://localhost:8080/"
    },
    "executionInfo": {
     "elapsed": 457,
     "status": "ok",
     "timestamp": 1626799539051,
     "user": {
      "displayName": "Solano Buso Jacon",
      "photoUrl": "https://lh3.googleusercontent.com/a-/AOh14GhvIWJbdmF2sLdJ-sGeQu468kS2ts3ZWX7_5keQV0Y=s64",
      "userId": "03193064938437592202"
     },
     "user_tz": 180
    },
    "id": "9CFrkXN4c9Xc",
    "outputId": "a8897fa1-9549-4e40-8837-b7914ff46cf8"
   },
   "outputs": [
    {
     "name": "stdout",
     "output_type": "stream",
     "text": [
      "TMA - CHAMADO / TICKET SISTEMA 1 : 8.7 dias / days   ( 9.1 % dos chamados considerados / % of considered tickets)\n",
      "TMA - CHAMADO / TICKET SISTEMA 2 : 9.9 dias / days   ( 56.4 % dos chamados considerados / % of considered tickets)\n",
      "TMA - CHAMADO / TICKET SISTEMA 4 : 0.0 dias / days   ( 0.9 % dos chamados considerados / % of considered tickets)\n",
      "TMA - CHAMADO / TICKET SISTEMA 6 : 1.8 dias / days   ( 3.6 % dos chamados considerados / % of considered tickets)\n",
      "TMA - CHAMADO / TICKET SISTEMA 8 : 8.0 dias / days   ( 13.6 % dos chamados considerados / % of considered tickets)\n",
      "TMA - CHAMADO / TICKET SISTEMA 11 : 61.0 dias / days   ( 0.9 % dos chamados considerados / % of considered tickets)\n",
      "TMA - CHAMADO / TICKET SISTEMA 14 : 33.0 dias / days   ( 1.8 % dos chamados considerados / % of considered tickets)\n",
      "TMA - CHAMADO / TICKET SISTEMA 15 : 11.0 dias / days   ( 0.9 % dos chamados considerados / % of considered tickets)\n",
      "TMA - CHAMADO / TICKET SISTEMA 20 : 14.0 dias / days   ( 0.9 % dos chamados considerados / % of considered tickets)\n",
      "TMA - CHAMADO / TICKET SISTEMA 27 : 2.3 dias / days   ( 2.7 % dos chamados considerados / % of considered tickets)\n",
      "TMA - CHAMADO / TICKET SISTEMA 28 : 18.7 dias / days   ( 5.5 % dos chamados considerados / % of considered tickets)\n"
     ]
    }
   ],
   "source": [
    "# INDICADOR TMA POR SISTEMA APENAS DOS CHAMADOS COM TEMPO DE ATENDIMENTO MENOR OU IGUAL À 90 DIAS\n",
    "# TMA INDICATOR BY SYSTEM ONLY FOR TICKETS WITH ANSWERING TIME LESS OR EQUAL TO 90 DAYS\n",
    "\n",
    "tmas = {}\n",
    "tmas_descr = []\n",
    "tmas_valor = []\n",
    "\n",
    "for sistema in sistema_df.sort_values(by=['id_sistema'], ascending=True)['sistema']:\n",
    "    if len(chamado_tma_df.loc[(chamado_tma_df['sistema'] == sistema) & (chamado_tma_df['tempo_atendimento'] <= 90)]) != 0:\n",
    "        tma_descr = sistema\n",
    "        chamado_tma_sistema_df = chamado_tma_df.loc[(chamado_tma_df['sistema'] == sistema) & (chamado_tma_df['tempo_atendimento'] <= 90)]\n",
    "        tma_valor = chamado_tma_sistema_df['tempo_atendimento'].sum() / len(chamado_tma_sistema_df)\n",
    "        print('TMA - CHAMADO / TICKET', sistema.upper(), ':', round(tma_valor, 1), 'dias / days   (', round((len(chamado_tma_sistema_df) / len(chamado_df)) * 100, 1), '% dos chamados considerados / % of considered tickets)')\n",
    "        tmas_descr.append(tma_descr)\n",
    "        tmas_valor.append(tma_valor)\n",
    "\n",
    "tmas = {'Filtro': tmas_descr, 'TMA': tmas_valor}\n",
    "tmas_df = pd.DataFrame.from_dict(tmas)"
   ]
  },
  {
   "cell_type": "code",
   "execution_count": 63,
   "metadata": {
    "colab": {
     "base_uri": "https://localhost:8080/"
    },
    "executionInfo": {
     "elapsed": 690,
     "status": "ok",
     "timestamp": 1626799539739,
     "user": {
      "displayName": "Solano Buso Jacon",
      "photoUrl": "https://lh3.googleusercontent.com/a-/AOh14GhvIWJbdmF2sLdJ-sGeQu468kS2ts3ZWX7_5keQV0Y=s64",
      "userId": "03193064938437592202"
     },
     "user_tz": 180
    },
    "id": "rG-vOVE3c9Xc",
    "outputId": "52162da5-ac8e-4ae7-bfcf-2d5e2ee70c6f"
   },
   "outputs": [
    {
     "data": {
      "image/png": "[encoded data removed]",
      "text/plain": [
       "<Figure size 1500x500 with 1 Axes>"
      ]
     },
     "metadata": {},
     "output_type": "display_data"
    }
   ],
   "source": [
    "plt.figure(figsize=(15,5))\n",
    "sns.barplot(data=tmas_df, x='Filtro', y='TMA')\n",
    "plt.suptitle('TMA Indicator of Tickets by System Only Tickets with TA <= 90 days', fontsize=16)\n",
    "plt.xlabel('System', fontsize=12)\n",
    "plt.ylabel('TMA (days)', fontsize=12)\n",
    "plt.xticks(rotation=90)\n",
    "plt.show()"
   ]
  },
  {
   "cell_type": "markdown",
   "metadata": {
    "id": "tT439PAfc9Xc"
   },
   "source": [
    "## Análise das Interações dos Chamados / *Analysis of Ticket Interactions*\n",
    "\n",
    "- Cálculo do ADP das interações geral e por prioridade\n",
    "\n",
    "\n",
    "- *ADP calculation of interactions overall and by priority*"
   ]
  },
  {
   "cell_type": "code",
   "execution_count": 64,
   "metadata": {
    "id": "6oqxtaFWc9Xc"
   },
   "outputs": [],
   "source": [
    "chamado_interacao_adp_df = chamado_interacao_df.merge(prioridade_df, how='left', on='id_prioridade')\n",
    "chamado_interacao_adp_df = chamado_interacao_adp_df.dropna(subset=['dt_previsao_conclusao', 'dt_conclusao'])"
   ]
  },
  {
   "cell_type": "code",
   "execution_count": 65,
   "metadata": {
    "colab": {
     "base_uri": "https://localhost:8080/"
    },
    "executionInfo": {
     "elapsed": 11,
     "status": "ok",
     "timestamp": 1626799539740,
     "user": {
      "displayName": "Solano Buso Jacon",
      "photoUrl": "https://lh3.googleusercontent.com/a-/AOh14GhvIWJbdmF2sLdJ-sGeQu468kS2ts3ZWX7_5keQV0Y=s64",
      "userId": "03193064938437592202"
     },
     "user_tz": 180
    },
    "id": "lV5wZzvyc9Xd",
    "outputId": "d1e5f1a9-f352-4401-8079-92081a81814f"
   },
   "outputs": [
    {
     "data": {
      "text/html": [
       "<div>\n",
       "<style scoped>\n",
       "    .dataframe tbody tr th:only-of-type {\n",
       "        vertical-align: middle;\n",
       "    }\n",
       "\n",
       "    .dataframe tbody tr th {\n",
       "        vertical-align: top;\n",
       "    }\n",
       "\n",
       "    .dataframe thead th {\n",
       "        text-align: right;\n",
       "    }\n",
       "</style>\n",
       "<table border=\"1\" class=\"dataframe\">\n",
       "  <thead>\n",
       "    <tr style=\"text-align: right;\">\n",
       "      <th></th>\n",
       "      <th>id_chamado_interacao</th>\n",
       "      <th>id_chamado</th>\n",
       "      <th>dt_previsao_conclusao</th>\n",
       "      <th>dt_conclusao</th>\n",
       "      <th>id_prioridade</th>\n",
       "      <th>prioridade</th>\n",
       "      <th>nivel</th>\n",
       "    </tr>\n",
       "  </thead>\n",
       "  <tbody>\n",
       "    <tr>\n",
       "      <th>1</th>\n",
       "      <td>494002</td>\n",
       "      <td>28649</td>\n",
       "      <td>2019-12-05 08:17:19</td>\n",
       "      <td>2019-12-05 08:17:19</td>\n",
       "      <td>3.0</td>\n",
       "      <td>Urgente</td>\n",
       "      <td>2.0</td>\n",
       "    </tr>\n",
       "    <tr>\n",
       "      <th>2</th>\n",
       "      <td>494003</td>\n",
       "      <td>28649</td>\n",
       "      <td>2019-12-05 08:17:26</td>\n",
       "      <td>2019-12-05 08:17:26</td>\n",
       "      <td>3.0</td>\n",
       "      <td>Urgente</td>\n",
       "      <td>2.0</td>\n",
       "    </tr>\n",
       "    <tr>\n",
       "      <th>3</th>\n",
       "      <td>494004</td>\n",
       "      <td>28649</td>\n",
       "      <td>2019-12-05 08:17:52</td>\n",
       "      <td>2019-12-05 08:17:52</td>\n",
       "      <td>3.0</td>\n",
       "      <td>Urgente</td>\n",
       "      <td>2.0</td>\n",
       "    </tr>\n",
       "    <tr>\n",
       "      <th>4</th>\n",
       "      <td>494005</td>\n",
       "      <td>28649</td>\n",
       "      <td>2019-12-05 08:18:04</td>\n",
       "      <td>2019-12-05 08:18:04</td>\n",
       "      <td>3.0</td>\n",
       "      <td>Urgente</td>\n",
       "      <td>2.0</td>\n",
       "    </tr>\n",
       "    <tr>\n",
       "      <th>5</th>\n",
       "      <td>494037</td>\n",
       "      <td>28649</td>\n",
       "      <td>2019-12-05 09:16:52</td>\n",
       "      <td>2019-12-05 09:16:52</td>\n",
       "      <td>3.0</td>\n",
       "      <td>Urgente</td>\n",
       "      <td>2.0</td>\n",
       "    </tr>\n",
       "    <tr>\n",
       "      <th>...</th>\n",
       "      <td>...</td>\n",
       "      <td>...</td>\n",
       "      <td>...</td>\n",
       "      <td>...</td>\n",
       "      <td>...</td>\n",
       "      <td>...</td>\n",
       "      <td>...</td>\n",
       "    </tr>\n",
       "    <tr>\n",
       "      <th>2594</th>\n",
       "      <td>607248</td>\n",
       "      <td>34040</td>\n",
       "      <td>2021-03-16 14:22:40</td>\n",
       "      <td>2021-03-16 14:22:40</td>\n",
       "      <td>NaN</td>\n",
       "      <td>NaN</td>\n",
       "      <td>NaN</td>\n",
       "    </tr>\n",
       "    <tr>\n",
       "      <th>2595</th>\n",
       "      <td>607299</td>\n",
       "      <td>34040</td>\n",
       "      <td>2021-03-16 16:08:07</td>\n",
       "      <td>2021-03-16 16:08:07</td>\n",
       "      <td>NaN</td>\n",
       "      <td>NaN</td>\n",
       "      <td>NaN</td>\n",
       "    </tr>\n",
       "    <tr>\n",
       "      <th>2596</th>\n",
       "      <td>607342</td>\n",
       "      <td>34040</td>\n",
       "      <td>2021-03-16 17:31:35</td>\n",
       "      <td>2021-03-16 17:31:35</td>\n",
       "      <td>NaN</td>\n",
       "      <td>NaN</td>\n",
       "      <td>NaN</td>\n",
       "    </tr>\n",
       "    <tr>\n",
       "      <th>2598</th>\n",
       "      <td>607345</td>\n",
       "      <td>34040</td>\n",
       "      <td>2021-03-16 17:33:10</td>\n",
       "      <td>2021-03-16 17:33:10</td>\n",
       "      <td>NaN</td>\n",
       "      <td>NaN</td>\n",
       "      <td>NaN</td>\n",
       "    </tr>\n",
       "    <tr>\n",
       "      <th>2599</th>\n",
       "      <td>607349</td>\n",
       "      <td>34040</td>\n",
       "      <td>2021-03-16 17:59:58</td>\n",
       "      <td>2021-03-16 17:59:58</td>\n",
       "      <td>NaN</td>\n",
       "      <td>NaN</td>\n",
       "      <td>NaN</td>\n",
       "    </tr>\n",
       "  </tbody>\n",
       "</table>\n",
       "<p>1425 rows × 7 columns</p>\n",
       "</div>"
      ],
      "text/plain": [
       "      id_chamado_interacao  id_chamado dt_previsao_conclusao  \\\n",
       "1                   494002       28649   2019-12-05 08:17:19   \n",
       "2                   494003       28649   2019-12-05 08:17:26   \n",
       "3                   494004       28649   2019-12-05 08:17:52   \n",
       "4                   494005       28649   2019-12-05 08:18:04   \n",
       "5                   494037       28649   2019-12-05 09:16:52   \n",
       "...                    ...         ...                   ...   \n",
       "2594                607248       34040   2021-03-16 14:22:40   \n",
       "2595                607299       34040   2021-03-16 16:08:07   \n",
       "2596                607342       34040   2021-03-16 17:31:35   \n",
       "2598                607345       34040   2021-03-16 17:33:10   \n",
       "2599                607349       34040   2021-03-16 17:59:58   \n",
       "\n",
       "            dt_conclusao  id_prioridade prioridade  nivel  \n",
       "1    2019-12-05 08:17:19            3.0    Urgente    2.0  \n",
       "2    2019-12-05 08:17:26            3.0    Urgente    2.0  \n",
       "3    2019-12-05 08:17:52            3.0    Urgente    2.0  \n",
       "4    2019-12-05 08:18:04            3.0    Urgente    2.0  \n",
       "5    2019-12-05 09:16:52            3.0    Urgente    2.0  \n",
       "...                  ...            ...        ...    ...  \n",
       "2594 2021-03-16 14:22:40            NaN        NaN    NaN  \n",
       "2595 2021-03-16 16:08:07            NaN        NaN    NaN  \n",
       "2596 2021-03-16 17:31:35            NaN        NaN    NaN  \n",
       "2598 2021-03-16 17:33:10            NaN        NaN    NaN  \n",
       "2599 2021-03-16 17:59:58            NaN        NaN    NaN  \n",
       "\n",
       "[1425 rows x 7 columns]"
      ]
     },
     "execution_count": 65,
     "metadata": {},
     "output_type": "execute_result"
    }
   ],
   "source": [
    "chamado_interacao_adp_df"
   ]
  },
  {
   "cell_type": "code",
   "execution_count": 66,
   "metadata": {
    "colab": {
     "base_uri": "https://localhost:8080/"
    },
    "executionInfo": {
     "elapsed": 11,
     "status": "ok",
     "timestamp": 1626799539741,
     "user": {
      "displayName": "Solano Buso Jacon",
      "photoUrl": "https://lh3.googleusercontent.com/a-/AOh14GhvIWJbdmF2sLdJ-sGeQu468kS2ts3ZWX7_5keQV0Y=s64",
      "userId": "03193064938437592202"
     },
     "user_tz": 180
    },
    "id": "afMOQHjgc9Xd",
    "outputId": "94573b4b-33d6-445a-c0f0-48a6602a1077"
   },
   "outputs": [
    {
     "name": "stdout",
     "output_type": "stream",
     "text": [
      "ADP - GERAL / GENERAL : 100.0 %   ( 54.8 % dos chamados considerados / % of considered tickets)\n",
      "ADP - CHAMADO / TICKET CRÍTICO : 100.0 %   ( 1.6 % dos chamados considerados / % of considered tickets)\n",
      "ADP - CHAMADO / TICKET URGENTE : 100.0 %   ( 24.0 % dos chamados considerados / % of considered tickets)\n",
      "ADP - CHAMADO / TICKET NORMAL : 100.0 %   ( 25.6 % dos chamados considerados / % of considered tickets)\n"
     ]
    }
   ],
   "source": [
    "# INDICADOR ADP - GERAL E POR PRIORIDADE / ADP INDICATOR - GENERAL AND BY PRIORITY\n",
    "\n",
    "adps = {}\n",
    "adps_descr = []\n",
    "adps_valor = []\n",
    "\n",
    "adp_descr = 'Geral'\n",
    "adp_valor = len(chamado_interacao_adp_df.loc[chamado_interacao_adp_df['dt_conclusao'] <= chamado_interacao_adp_df['dt_previsao_conclusao']]) \\\n",
    "    / len(chamado_interacao_adp_df)\n",
    "print('ADP - GERAL / GENERAL :', round(adp_valor * 100, 1), '%   (', round((len(chamado_interacao_adp_df) / len(chamado_interacao_df)) * 100, 1), '% dos chamados considerados / % of considered tickets)')\n",
    "adps_descr.append(adp_descr)\n",
    "adps_valor.append(adp_valor)\n",
    "\n",
    "for prioridade in prioridade_df.sort_values(by=['nivel'], ascending=False)['prioridade']:\n",
    "    if len(chamado_interacao_adp_df.loc[chamado_interacao_adp_df['prioridade'] == prioridade]) != 0:\n",
    "        adp_descr = prioridade\n",
    "        chamado_interacao_adp_prior_df = chamado_interacao_adp_df.loc[chamado_interacao_adp_df['prioridade'] == prioridade]\n",
    "        adp_valor = len(chamado_interacao_adp_prior_df.loc[chamado_interacao_adp_prior_df['dt_conclusao'] <= chamado_interacao_adp_prior_df['dt_previsao_conclusao']]) \\\n",
    "            / len(chamado_interacao_adp_prior_df)\n",
    "        print('ADP - CHAMADO / TICKET', prioridade.upper(), ':', round(adp_valor * 100, 1), '%   (', round((len(chamado_interacao_adp_prior_df) / len(chamado_interacao_df)) * 100, 1), '% dos chamados considerados / % of considered tickets)')\n",
    "        adps_descr.append(adp_descr)\n",
    "        adps_valor.append(adp_valor)\n",
    "\n",
    "adps = {'Filtro': adps_descr, 'ADP': adps_valor}\n",
    "adps_df = pd.DataFrame.from_dict(adps)"
   ]
  },
  {
   "cell_type": "code",
   "execution_count": 67,
   "metadata": {
    "colab": {
     "base_uri": "https://localhost:8080/"
    },
    "executionInfo": {
     "elapsed": 9,
     "status": "ok",
     "timestamp": 1626799539741,
     "user": {
      "displayName": "Solano Buso Jacon",
      "photoUrl": "https://lh3.googleusercontent.com/a-/AOh14GhvIWJbdmF2sLdJ-sGeQu468kS2ts3ZWX7_5keQV0Y=s64",
      "userId": "03193064938437592202"
     },
     "user_tz": 180
    },
    "id": "mHcqRLLsc9Xd",
    "outputId": "355f0711-9496-4f90-c041-e655f467ff32"
   },
   "outputs": [
    {
     "data": {
      "image/png": "[encoded data removed]",
      "text/plain": [
       "<Figure size 640x480 with 1 Axes>"
      ]
     },
     "metadata": {},
     "output_type": "display_data"
    }
   ],
   "source": [
    "sns.barplot(data=adps_df, x='Filtro', y='ADP')\n",
    "plt.suptitle('ADP Indicator of Ticket Interactions in General and by Priority', fontsize=16)\n",
    "plt.xlabel('Priority', fontsize=12)\n",
    "plt.ylabel('ADP (*100 %)', fontsize=12)\n",
    "plt.show()"
   ]
  },
  {
   "cell_type": "markdown",
   "metadata": {
    "id": "4ukUDA9fc9Xd"
   },
   "source": [
    "## Análise das Tarefas dos Chamados / *Analysis of the Ticket Tasks*\n",
    "\n",
    "- Cálculo do ADP das tarefas geral e por prioridade\n",
    "\n",
    "\n",
    "- *ADP calculation of general tasks and by priority*"
   ]
  },
  {
   "cell_type": "code",
   "execution_count": 68,
   "metadata": {
    "id": "-otqO7gtc9Xd"
   },
   "outputs": [],
   "source": [
    "tarefa_adp_df = tarefa_df.merge(prioridade_df, how='left', on='id_prioridade')\n",
    "tarefa_adp_df = tarefa_adp_df.dropna(subset=['dt_prev_inicio', 'dt_prev_fim', 'dt_inicio', 'dt_fim'])"
   ]
  },
  {
   "cell_type": "code",
   "execution_count": 69,
   "metadata": {
    "id": "04brv4Ghc9Xe"
   },
   "outputs": [],
   "source": [
    "tarefa_adp_df['previsao'] = tarefa_adp_df['dt_prev_fim'] - tarefa_adp_df['dt_prev_inicio']\n",
    "tarefa_adp_df['real'] = tarefa_adp_df['dt_fim'] - tarefa_adp_df['dt_inicio']"
   ]
  },
  {
   "cell_type": "code",
   "execution_count": 70,
   "metadata": {
    "colab": {
     "base_uri": "https://localhost:8080/"
    },
    "executionInfo": {
     "elapsed": 15,
     "status": "ok",
     "timestamp": 1626799540285,
     "user": {
      "displayName": "Solano Buso Jacon",
      "photoUrl": "https://lh3.googleusercontent.com/a-/AOh14GhvIWJbdmF2sLdJ-sGeQu468kS2ts3ZWX7_5keQV0Y=s64",
      "userId": "03193064938437592202"
     },
     "user_tz": 180
    },
    "id": "I7qfdlx8c9Xe",
    "outputId": "339e3cad-444a-4e50-e930-bb73e24f0704"
   },
   "outputs": [
    {
     "data": {
      "text/html": [
       "<div>\n",
       "<style scoped>\n",
       "    .dataframe tbody tr th:only-of-type {\n",
       "        vertical-align: middle;\n",
       "    }\n",
       "\n",
       "    .dataframe tbody tr th {\n",
       "        vertical-align: top;\n",
       "    }\n",
       "\n",
       "    .dataframe thead th {\n",
       "        text-align: right;\n",
       "    }\n",
       "</style>\n",
       "<table border=\"1\" class=\"dataframe\">\n",
       "  <thead>\n",
       "    <tr style=\"text-align: right;\">\n",
       "      <th></th>\n",
       "      <th>id_tarefa</th>\n",
       "      <th>id_chamado</th>\n",
       "      <th>dt_prev_inicio</th>\n",
       "      <th>dt_prev_fim</th>\n",
       "      <th>dt_inicio</th>\n",
       "      <th>dt_fim</th>\n",
       "      <th>retrabalho</th>\n",
       "      <th>id_prioridade</th>\n",
       "      <th>prioridade</th>\n",
       "      <th>nivel</th>\n",
       "      <th>previsao</th>\n",
       "      <th>real</th>\n",
       "    </tr>\n",
       "  </thead>\n",
       "  <tbody>\n",
       "    <tr>\n",
       "      <th>0</th>\n",
       "      <td>14913</td>\n",
       "      <td>29227</td>\n",
       "      <td>2020-05-19 09:00:00</td>\n",
       "      <td>2020-05-20 18:00:00</td>\n",
       "      <td>2020-05-19 08:52:47</td>\n",
       "      <td>2020-05-19 09:23:47</td>\n",
       "      <td>False</td>\n",
       "      <td>2.0</td>\n",
       "      <td>Normal</td>\n",
       "      <td>1.0</td>\n",
       "      <td>1 days 09:00:00</td>\n",
       "      <td>0 days 00:31:00</td>\n",
       "    </tr>\n",
       "    <tr>\n",
       "      <th>1</th>\n",
       "      <td>16980</td>\n",
       "      <td>30969</td>\n",
       "      <td>2020-07-17 11:50:00</td>\n",
       "      <td>2020-07-17 14:00:00</td>\n",
       "      <td>2020-07-17 11:45:00</td>\n",
       "      <td>2020-07-17 12:22:29</td>\n",
       "      <td>False</td>\n",
       "      <td>2.0</td>\n",
       "      <td>Normal</td>\n",
       "      <td>1.0</td>\n",
       "      <td>0 days 02:10:00</td>\n",
       "      <td>0 days 00:37:29</td>\n",
       "    </tr>\n",
       "    <tr>\n",
       "      <th>2</th>\n",
       "      <td>17059</td>\n",
       "      <td>30969</td>\n",
       "      <td>2020-07-20 17:00:00</td>\n",
       "      <td>2020-07-20 18:00:00</td>\n",
       "      <td>2020-07-20 16:53:21</td>\n",
       "      <td>2020-07-20 18:39:12</td>\n",
       "      <td>False</td>\n",
       "      <td>2.0</td>\n",
       "      <td>Normal</td>\n",
       "      <td>1.0</td>\n",
       "      <td>0 days 01:00:00</td>\n",
       "      <td>0 days 01:45:51</td>\n",
       "    </tr>\n",
       "    <tr>\n",
       "      <th>3</th>\n",
       "      <td>17251</td>\n",
       "      <td>30969</td>\n",
       "      <td>2020-07-24 09:15:00</td>\n",
       "      <td>2020-07-24 18:00:00</td>\n",
       "      <td>2020-07-24 09:17:25</td>\n",
       "      <td>2020-07-24 10:00:56</td>\n",
       "      <td>False</td>\n",
       "      <td>2.0</td>\n",
       "      <td>Normal</td>\n",
       "      <td>1.0</td>\n",
       "      <td>0 days 08:45:00</td>\n",
       "      <td>0 days 00:43:31</td>\n",
       "    </tr>\n",
       "    <tr>\n",
       "      <th>4</th>\n",
       "      <td>17480</td>\n",
       "      <td>30969</td>\n",
       "      <td>2020-07-30 15:50:00</td>\n",
       "      <td>2020-07-30 17:30:00</td>\n",
       "      <td>2020-07-30 15:51:58</td>\n",
       "      <td>2020-07-30 17:31:43</td>\n",
       "      <td>False</td>\n",
       "      <td>2.0</td>\n",
       "      <td>Normal</td>\n",
       "      <td>1.0</td>\n",
       "      <td>0 days 01:40:00</td>\n",
       "      <td>0 days 01:39:45</td>\n",
       "    </tr>\n",
       "    <tr>\n",
       "      <th>...</th>\n",
       "      <td>...</td>\n",
       "      <td>...</td>\n",
       "      <td>...</td>\n",
       "      <td>...</td>\n",
       "      <td>...</td>\n",
       "      <td>...</td>\n",
       "      <td>...</td>\n",
       "      <td>...</td>\n",
       "      <td>...</td>\n",
       "      <td>...</td>\n",
       "      <td>...</td>\n",
       "      <td>...</td>\n",
       "    </tr>\n",
       "    <tr>\n",
       "      <th>90</th>\n",
       "      <td>26489</td>\n",
       "      <td>33953</td>\n",
       "      <td>2021-03-09 10:23:00</td>\n",
       "      <td>2021-03-09 11:30:00</td>\n",
       "      <td>2021-03-09 10:23:00</td>\n",
       "      <td>2021-03-09 11:27:00</td>\n",
       "      <td>False</td>\n",
       "      <td>3.0</td>\n",
       "      <td>Urgente</td>\n",
       "      <td>2.0</td>\n",
       "      <td>0 days 01:07:00</td>\n",
       "      <td>0 days 01:04:00</td>\n",
       "    </tr>\n",
       "    <tr>\n",
       "      <th>91</th>\n",
       "      <td>26637</td>\n",
       "      <td>33936</td>\n",
       "      <td>2021-03-11 12:11:00</td>\n",
       "      <td>2021-03-11 13:30:00</td>\n",
       "      <td>2021-03-11 12:10:00</td>\n",
       "      <td>2021-03-12 08:09:00</td>\n",
       "      <td>False</td>\n",
       "      <td>NaN</td>\n",
       "      <td>NaN</td>\n",
       "      <td>NaN</td>\n",
       "      <td>0 days 01:19:00</td>\n",
       "      <td>0 days 19:59:00</td>\n",
       "    </tr>\n",
       "    <tr>\n",
       "      <th>92</th>\n",
       "      <td>26642</td>\n",
       "      <td>33978</td>\n",
       "      <td>2021-03-11 13:45:00</td>\n",
       "      <td>2021-03-11 14:20:00</td>\n",
       "      <td>2021-03-11 13:45:00</td>\n",
       "      <td>2021-03-11 14:16:00</td>\n",
       "      <td>False</td>\n",
       "      <td>3.0</td>\n",
       "      <td>Urgente</td>\n",
       "      <td>2.0</td>\n",
       "      <td>0 days 00:35:00</td>\n",
       "      <td>0 days 00:31:00</td>\n",
       "    </tr>\n",
       "    <tr>\n",
       "      <th>93</th>\n",
       "      <td>26720</td>\n",
       "      <td>33980</td>\n",
       "      <td>2021-03-12 14:47:00</td>\n",
       "      <td>2021-03-12 16:00:00</td>\n",
       "      <td>2021-03-12 14:47:00</td>\n",
       "      <td>2021-03-12 16:00:00</td>\n",
       "      <td>False</td>\n",
       "      <td>3.0</td>\n",
       "      <td>Urgente</td>\n",
       "      <td>2.0</td>\n",
       "      <td>0 days 01:13:00</td>\n",
       "      <td>0 days 01:13:00</td>\n",
       "    </tr>\n",
       "    <tr>\n",
       "      <th>94</th>\n",
       "      <td>26726</td>\n",
       "      <td>33980</td>\n",
       "      <td>2021-03-12 16:00:00</td>\n",
       "      <td>2021-03-12 17:00:00</td>\n",
       "      <td>2021-03-12 16:58:00</td>\n",
       "      <td>2021-03-15 08:05:00</td>\n",
       "      <td>False</td>\n",
       "      <td>3.0</td>\n",
       "      <td>Urgente</td>\n",
       "      <td>2.0</td>\n",
       "      <td>0 days 01:00:00</td>\n",
       "      <td>2 days 15:07:00</td>\n",
       "    </tr>\n",
       "  </tbody>\n",
       "</table>\n",
       "<p>94 rows × 12 columns</p>\n",
       "</div>"
      ],
      "text/plain": [
       "    id_tarefa  id_chamado      dt_prev_inicio         dt_prev_fim  \\\n",
       "0       14913       29227 2020-05-19 09:00:00 2020-05-20 18:00:00   \n",
       "1       16980       30969 2020-07-17 11:50:00 2020-07-17 14:00:00   \n",
       "2       17059       30969 2020-07-20 17:00:00 2020-07-20 18:00:00   \n",
       "3       17251       30969 2020-07-24 09:15:00 2020-07-24 18:00:00   \n",
       "4       17480       30969 2020-07-30 15:50:00 2020-07-30 17:30:00   \n",
       "..        ...         ...                 ...                 ...   \n",
       "90      26489       33953 2021-03-09 10:23:00 2021-03-09 11:30:00   \n",
       "91      26637       33936 2021-03-11 12:11:00 2021-03-11 13:30:00   \n",
       "92      26642       33978 2021-03-11 13:45:00 2021-03-11 14:20:00   \n",
       "93      26720       33980 2021-03-12 14:47:00 2021-03-12 16:00:00   \n",
       "94      26726       33980 2021-03-12 16:00:00 2021-03-12 17:00:00   \n",
       "\n",
       "             dt_inicio              dt_fim  retrabalho  id_prioridade  \\\n",
       "0  2020-05-19 08:52:47 2020-05-19 09:23:47       False            2.0   \n",
       "1  2020-07-17 11:45:00 2020-07-17 12:22:29       False            2.0   \n",
       "2  2020-07-20 16:53:21 2020-07-20 18:39:12       False            2.0   \n",
       "3  2020-07-24 09:17:25 2020-07-24 10:00:56       False            2.0   \n",
       "4  2020-07-30 15:51:58 2020-07-30 17:31:43       False            2.0   \n",
       "..                 ...                 ...         ...            ...   \n",
       "90 2021-03-09 10:23:00 2021-03-09 11:27:00       False            3.0   \n",
       "91 2021-03-11 12:10:00 2021-03-12 08:09:00       False            NaN   \n",
       "92 2021-03-11 13:45:00 2021-03-11 14:16:00       False            3.0   \n",
       "93 2021-03-12 14:47:00 2021-03-12 16:00:00       False            3.0   \n",
       "94 2021-03-12 16:58:00 2021-03-15 08:05:00       False            3.0   \n",
       "\n",
       "   prioridade  nivel        previsao            real  \n",
       "0      Normal    1.0 1 days 09:00:00 0 days 00:31:00  \n",
       "1      Normal    1.0 0 days 02:10:00 0 days 00:37:29  \n",
       "2      Normal    1.0 0 days 01:00:00 0 days 01:45:51  \n",
       "3      Normal    1.0 0 days 08:45:00 0 days 00:43:31  \n",
       "4      Normal    1.0 0 days 01:40:00 0 days 01:39:45  \n",
       "..        ...    ...             ...             ...  \n",
       "90    Urgente    2.0 0 days 01:07:00 0 days 01:04:00  \n",
       "91        NaN    NaN 0 days 01:19:00 0 days 19:59:00  \n",
       "92    Urgente    2.0 0 days 00:35:00 0 days 00:31:00  \n",
       "93    Urgente    2.0 0 days 01:13:00 0 days 01:13:00  \n",
       "94    Urgente    2.0 0 days 01:00:00 2 days 15:07:00  \n",
       "\n",
       "[94 rows x 12 columns]"
      ]
     },
     "execution_count": 70,
     "metadata": {},
     "output_type": "execute_result"
    }
   ],
   "source": [
    "tarefa_adp_df"
   ]
  },
  {
   "cell_type": "code",
   "execution_count": 71,
   "metadata": {
    "colab": {
     "base_uri": "https://localhost:8080/"
    },
    "executionInfo": {
     "elapsed": 15,
     "status": "ok",
     "timestamp": 1626799540286,
     "user": {
      "displayName": "Solano Buso Jacon",
      "photoUrl": "https://lh3.googleusercontent.com/a-/AOh14GhvIWJbdmF2sLdJ-sGeQu468kS2ts3ZWX7_5keQV0Y=s64",
      "userId": "03193064938437592202"
     },
     "user_tz": 180
    },
    "id": "xyTr15PVc9Xe",
    "outputId": "bc3a0a89-d1b3-49bf-aa04-7137a14f704c"
   },
   "outputs": [
    {
     "name": "stdout",
     "output_type": "stream",
     "text": [
      "ADP - GERAL / GENERAL : 67.0 %   ( 98.9 % dos chamados considerados / % of considered tickets)\n",
      "ADP - CHAMADO / TICKET CRÍTICO : 100.0 %   ( 1.1 % dos chamados considerados / % of considered tickets)\n",
      "ADP - CHAMADO / TICKET URGENTE : 83.3 %   ( 25.3 % dos chamados considerados / % of considered tickets)\n",
      "ADP - CHAMADO / TICKET NORMAL : 61.8 %   ( 71.6 % dos chamados considerados / % of considered tickets)\n"
     ]
    }
   ],
   "source": [
    "# INDICADOR ADP - GERAL E POR PRIORIDADE / ADP INDICATOR - GENERAL AND BY PRIORITY\n",
    "\n",
    "adps = {}\n",
    "adps_descr = []\n",
    "adps_valor = []\n",
    "\n",
    "adp_descr = 'Geral'\n",
    "adp_valor = len(tarefa_adp_df.loc[tarefa_adp_df['real'] <= tarefa_adp_df['previsao']]) \\\n",
    "    / len(tarefa_adp_df)\n",
    "print('ADP - GERAL / GENERAL :', round(adp_valor * 100, 1), '%   (', round((len(tarefa_adp_df) / len(tarefa_df)) * 100, 1), '% dos chamados considerados / % of considered tickets)')\n",
    "adps_descr.append(adp_descr)\n",
    "adps_valor.append(adp_valor)\n",
    "\n",
    "for prioridade in prioridade_df.sort_values(by=['nivel'], ascending=False)['prioridade']:\n",
    "    if len(tarefa_adp_df.loc[tarefa_adp_df['prioridade'] == prioridade]) != 0:\n",
    "        adp_descr = prioridade\n",
    "        tarefa_adp_prior_df = tarefa_adp_df.loc[tarefa_adp_df['prioridade'] == prioridade]\n",
    "        adp_valor = len(tarefa_adp_prior_df.loc[tarefa_adp_prior_df['real'] <= tarefa_adp_prior_df['previsao']]) \\\n",
    "        / len(tarefa_adp_prior_df)\n",
    "        print('ADP - CHAMADO / TICKET', prioridade.upper(), ':', round(adp_valor * 100, 1), '%   (', round((len(tarefa_adp_prior_df) / len(tarefa_df)) * 100, 1), '% dos chamados considerados / % of considered tickets)')\n",
    "        adps_descr.append(adp_descr)\n",
    "        adps_valor.append(adp_valor)\n",
    "\n",
    "adps = {'Filtro': adps_descr, 'ADP': adps_valor}\n",
    "adps_df = pd.DataFrame.from_dict(adps)"
   ]
  },
  {
   "cell_type": "code",
   "execution_count": 72,
   "metadata": {
    "colab": {
     "base_uri": "https://localhost:8080/"
    },
    "executionInfo": {
     "elapsed": 13,
     "status": "ok",
     "timestamp": 1626799540286,
     "user": {
      "displayName": "Solano Buso Jacon",
      "photoUrl": "https://lh3.googleusercontent.com/a-/AOh14GhvIWJbdmF2sLdJ-sGeQu468kS2ts3ZWX7_5keQV0Y=s64",
      "userId": "03193064938437592202"
     },
     "user_tz": 180
    },
    "id": "7rJ_yYxCc9Xe",
    "outputId": "90d36809-781b-4b83-eb06-39d929288af0"
   },
   "outputs": [
    {
     "data": {
      "image/png": "[encoded data removed]",
      "text/plain": [
       "<Figure size 640x480 with 1 Axes>"
      ]
     },
     "metadata": {},
     "output_type": "display_data"
    }
   ],
   "source": [
    "sns.barplot(data=adps_df, x='Filtro', y='ADP')\n",
    "plt.suptitle('ADP Indicator of Ticket Tasks in General and by Priority', fontsize=16)\n",
    "plt.xlabel('Priority', fontsize=12)\n",
    "plt.ylabel('ADP (*100 %)', fontsize=12)\n",
    "plt.show()"
   ]
  },
  {
   "cell_type": "markdown",
   "metadata": {
    "id": "t4ftvhW5c9Xf"
   },
   "source": [
    "## Análise Chamados X Tarefas / *Analysis Tickets X Tasks*"
   ]
  },
  {
   "cell_type": "code",
   "execution_count": 73,
   "metadata": {
    "id": "7OEqT_lrc9Xf"
   },
   "outputs": [],
   "source": [
    "chamado_tarefa_df = chamado_df.merge(tarefa_df, on='id_chamado')\n",
    "chamado_tarefa_df = chamado_tarefa_df.dropna(subset=['dt_previsao_conclusao_chamado', 'dt_conclusao_chamado', \n",
    "                                                     'dt_prev_inicio', 'dt_prev_fim', 'dt_inicio', 'dt_fim'])"
   ]
  },
  {
   "cell_type": "code",
   "execution_count": 74,
   "metadata": {
    "id": "kYp9MpS5c9Xf"
   },
   "outputs": [],
   "source": [
    "chamado_tarefa_df['adp_chamado'] = chamado_tarefa_df['dt_conclusao_chamado'] <= chamado_tarefa_df['dt_previsao_conclusao_chamado']"
   ]
  },
  {
   "cell_type": "code",
   "execution_count": 75,
   "metadata": {
    "id": "6c18LFcZc9Xf"
   },
   "outputs": [],
   "source": [
    "chamado_tarefa_df['previsao_tarefa'] = chamado_tarefa_df['dt_prev_fim'] - chamado_tarefa_df['dt_prev_inicio']\n",
    "chamado_tarefa_df['real_tarefa'] = chamado_tarefa_df['dt_fim'] - chamado_tarefa_df['dt_inicio']\n",
    "chamado_tarefa_df['adp_tarefa'] = chamado_tarefa_df['real_tarefa'] <= chamado_tarefa_df['previsao_tarefa']"
   ]
  },
  {
   "cell_type": "code",
   "execution_count": 76,
   "metadata": {
    "colab": {
     "base_uri": "https://localhost:8080/"
    },
    "executionInfo": {
     "elapsed": 13,
     "status": "ok",
     "timestamp": 1626799540288,
     "user": {
      "displayName": "Solano Buso Jacon",
      "photoUrl": "https://lh3.googleusercontent.com/a-/AOh14GhvIWJbdmF2sLdJ-sGeQu468kS2ts3ZWX7_5keQV0Y=s64",
      "userId": "03193064938437592202"
     },
     "user_tz": 180
    },
    "id": "RIAm1IeVc9Xf",
    "outputId": "b3f204d3-e1e4-4576-99ab-d1ccae2c0451"
   },
   "outputs": [
    {
     "data": {
      "text/html": [
       "<div>\n",
       "<style scoped>\n",
       "    .dataframe tbody tr th:only-of-type {\n",
       "        vertical-align: middle;\n",
       "    }\n",
       "\n",
       "    .dataframe tbody tr th {\n",
       "        vertical-align: top;\n",
       "    }\n",
       "\n",
       "    .dataframe thead th {\n",
       "        text-align: right;\n",
       "    }\n",
       "</style>\n",
       "<table border=\"1\" class=\"dataframe\">\n",
       "  <thead>\n",
       "    <tr style=\"text-align: right;\">\n",
       "      <th></th>\n",
       "      <th>id_chamado</th>\n",
       "      <th>id_sistema</th>\n",
       "      <th>id_chamado_tipo</th>\n",
       "      <th>id_prioridade_x</th>\n",
       "      <th>dt_abertura</th>\n",
       "      <th>dt_previsao_conclusao_chamado</th>\n",
       "      <th>dt_conclusao_chamado</th>\n",
       "      <th>id_tarefa</th>\n",
       "      <th>dt_prev_inicio</th>\n",
       "      <th>dt_prev_fim</th>\n",
       "      <th>dt_inicio</th>\n",
       "      <th>dt_fim</th>\n",
       "      <th>retrabalho</th>\n",
       "      <th>id_prioridade_y</th>\n",
       "      <th>adp_chamado</th>\n",
       "      <th>previsao_tarefa</th>\n",
       "      <th>real_tarefa</th>\n",
       "      <th>adp_tarefa</th>\n",
       "    </tr>\n",
       "  </thead>\n",
       "  <tbody>\n",
       "    <tr>\n",
       "      <th>1</th>\n",
       "      <td>30969</td>\n",
       "      <td>27</td>\n",
       "      <td>12</td>\n",
       "      <td>2.0</td>\n",
       "      <td>2020-07-06 18:11:39.693</td>\n",
       "      <td>2020-09-11 18:00:00</td>\n",
       "      <td>2021-03-06 05:00:09.823</td>\n",
       "      <td>16980</td>\n",
       "      <td>2020-07-17 11:50:00</td>\n",
       "      <td>2020-07-17 14:00:00</td>\n",
       "      <td>2020-07-17 11:45:00</td>\n",
       "      <td>2020-07-17 12:22:29</td>\n",
       "      <td>False</td>\n",
       "      <td>2.0</td>\n",
       "      <td>False</td>\n",
       "      <td>0 days 02:10:00</td>\n",
       "      <td>0 days 00:37:29</td>\n",
       "      <td>True</td>\n",
       "    </tr>\n",
       "    <tr>\n",
       "      <th>2</th>\n",
       "      <td>30969</td>\n",
       "      <td>27</td>\n",
       "      <td>12</td>\n",
       "      <td>2.0</td>\n",
       "      <td>2020-07-06 18:11:39.693</td>\n",
       "      <td>2020-09-11 18:00:00</td>\n",
       "      <td>2021-03-06 05:00:09.823</td>\n",
       "      <td>17059</td>\n",
       "      <td>2020-07-20 17:00:00</td>\n",
       "      <td>2020-07-20 18:00:00</td>\n",
       "      <td>2020-07-20 16:53:21</td>\n",
       "      <td>2020-07-20 18:39:12</td>\n",
       "      <td>False</td>\n",
       "      <td>2.0</td>\n",
       "      <td>False</td>\n",
       "      <td>0 days 01:00:00</td>\n",
       "      <td>0 days 01:45:51</td>\n",
       "      <td>False</td>\n",
       "    </tr>\n",
       "    <tr>\n",
       "      <th>3</th>\n",
       "      <td>30969</td>\n",
       "      <td>27</td>\n",
       "      <td>12</td>\n",
       "      <td>2.0</td>\n",
       "      <td>2020-07-06 18:11:39.693</td>\n",
       "      <td>2020-09-11 18:00:00</td>\n",
       "      <td>2021-03-06 05:00:09.823</td>\n",
       "      <td>17251</td>\n",
       "      <td>2020-07-24 09:15:00</td>\n",
       "      <td>2020-07-24 18:00:00</td>\n",
       "      <td>2020-07-24 09:17:25</td>\n",
       "      <td>2020-07-24 10:00:56</td>\n",
       "      <td>False</td>\n",
       "      <td>2.0</td>\n",
       "      <td>False</td>\n",
       "      <td>0 days 08:45:00</td>\n",
       "      <td>0 days 00:43:31</td>\n",
       "      <td>True</td>\n",
       "    </tr>\n",
       "    <tr>\n",
       "      <th>4</th>\n",
       "      <td>30969</td>\n",
       "      <td>27</td>\n",
       "      <td>12</td>\n",
       "      <td>2.0</td>\n",
       "      <td>2020-07-06 18:11:39.693</td>\n",
       "      <td>2020-09-11 18:00:00</td>\n",
       "      <td>2021-03-06 05:00:09.823</td>\n",
       "      <td>17480</td>\n",
       "      <td>2020-07-30 15:50:00</td>\n",
       "      <td>2020-07-30 17:30:00</td>\n",
       "      <td>2020-07-30 15:51:58</td>\n",
       "      <td>2020-07-30 17:31:43</td>\n",
       "      <td>False</td>\n",
       "      <td>2.0</td>\n",
       "      <td>False</td>\n",
       "      <td>0 days 01:40:00</td>\n",
       "      <td>0 days 01:39:45</td>\n",
       "      <td>True</td>\n",
       "    </tr>\n",
       "    <tr>\n",
       "      <th>5</th>\n",
       "      <td>30969</td>\n",
       "      <td>27</td>\n",
       "      <td>12</td>\n",
       "      <td>2.0</td>\n",
       "      <td>2020-07-06 18:11:39.693</td>\n",
       "      <td>2020-09-11 18:00:00</td>\n",
       "      <td>2021-03-06 05:00:09.823</td>\n",
       "      <td>18459</td>\n",
       "      <td>2020-09-01 14:30:00</td>\n",
       "      <td>2020-09-01 18:30:00</td>\n",
       "      <td>2020-09-01 14:37:10</td>\n",
       "      <td>2020-09-01 18:12:31</td>\n",
       "      <td>False</td>\n",
       "      <td>2.0</td>\n",
       "      <td>False</td>\n",
       "      <td>0 days 04:00:00</td>\n",
       "      <td>0 days 03:35:21</td>\n",
       "      <td>True</td>\n",
       "    </tr>\n",
       "    <tr>\n",
       "      <th>...</th>\n",
       "      <td>...</td>\n",
       "      <td>...</td>\n",
       "      <td>...</td>\n",
       "      <td>...</td>\n",
       "      <td>...</td>\n",
       "      <td>...</td>\n",
       "      <td>...</td>\n",
       "      <td>...</td>\n",
       "      <td>...</td>\n",
       "      <td>...</td>\n",
       "      <td>...</td>\n",
       "      <td>...</td>\n",
       "      <td>...</td>\n",
       "      <td>...</td>\n",
       "      <td>...</td>\n",
       "      <td>...</td>\n",
       "      <td>...</td>\n",
       "      <td>...</td>\n",
       "    </tr>\n",
       "    <tr>\n",
       "      <th>62</th>\n",
       "      <td>33358</td>\n",
       "      <td>14</td>\n",
       "      <td>10</td>\n",
       "      <td>2.0</td>\n",
       "      <td>2021-01-11 12:53:26.440</td>\n",
       "      <td>2021-03-03 18:00:00</td>\n",
       "      <td>2021-03-17 05:00:08.867</td>\n",
       "      <td>26513</td>\n",
       "      <td>2021-03-09 14:16:00</td>\n",
       "      <td>2021-03-09 18:30:00</td>\n",
       "      <td>2021-03-09 14:15:00</td>\n",
       "      <td>2021-03-09 16:04:00</td>\n",
       "      <td>False</td>\n",
       "      <td>2.0</td>\n",
       "      <td>False</td>\n",
       "      <td>0 days 04:14:00</td>\n",
       "      <td>0 days 01:49:00</td>\n",
       "      <td>True</td>\n",
       "    </tr>\n",
       "    <tr>\n",
       "      <th>65</th>\n",
       "      <td>33794</td>\n",
       "      <td>20</td>\n",
       "      <td>5</td>\n",
       "      <td>3.0</td>\n",
       "      <td>2021-02-22 11:04:41.690</td>\n",
       "      <td>2021-02-25 18:30:00</td>\n",
       "      <td>2021-03-08 16:26:10.000</td>\n",
       "      <td>25825</td>\n",
       "      <td>2021-02-24 10:55:00</td>\n",
       "      <td>2021-02-24 13:00:00</td>\n",
       "      <td>2021-02-24 10:54:00</td>\n",
       "      <td>2021-02-24 12:53:00</td>\n",
       "      <td>False</td>\n",
       "      <td>3.0</td>\n",
       "      <td>False</td>\n",
       "      <td>0 days 02:05:00</td>\n",
       "      <td>0 days 01:59:00</td>\n",
       "      <td>True</td>\n",
       "    </tr>\n",
       "    <tr>\n",
       "      <th>66</th>\n",
       "      <td>33794</td>\n",
       "      <td>20</td>\n",
       "      <td>5</td>\n",
       "      <td>3.0</td>\n",
       "      <td>2021-02-22 11:04:41.690</td>\n",
       "      <td>2021-02-25 18:30:00</td>\n",
       "      <td>2021-03-08 16:26:10.000</td>\n",
       "      <td>25840</td>\n",
       "      <td>2021-02-24 14:00:00</td>\n",
       "      <td>2021-02-24 18:00:00</td>\n",
       "      <td>2021-02-24 14:04:00</td>\n",
       "      <td>2021-02-24 18:43:00</td>\n",
       "      <td>False</td>\n",
       "      <td>3.0</td>\n",
       "      <td>False</td>\n",
       "      <td>0 days 04:00:00</td>\n",
       "      <td>0 days 04:39:00</td>\n",
       "      <td>False</td>\n",
       "    </tr>\n",
       "    <tr>\n",
       "      <th>67</th>\n",
       "      <td>33794</td>\n",
       "      <td>20</td>\n",
       "      <td>5</td>\n",
       "      <td>3.0</td>\n",
       "      <td>2021-02-22 11:04:41.690</td>\n",
       "      <td>2021-02-25 18:30:00</td>\n",
       "      <td>2021-03-08 16:26:10.000</td>\n",
       "      <td>25888</td>\n",
       "      <td>2021-02-25 09:00:00</td>\n",
       "      <td>2021-02-25 13:00:00</td>\n",
       "      <td>2021-02-25 09:00:00</td>\n",
       "      <td>2021-02-25 12:44:00</td>\n",
       "      <td>False</td>\n",
       "      <td>3.0</td>\n",
       "      <td>False</td>\n",
       "      <td>0 days 04:00:00</td>\n",
       "      <td>0 days 03:44:00</td>\n",
       "      <td>True</td>\n",
       "    </tr>\n",
       "    <tr>\n",
       "      <th>68</th>\n",
       "      <td>33794</td>\n",
       "      <td>20</td>\n",
       "      <td>5</td>\n",
       "      <td>3.0</td>\n",
       "      <td>2021-02-22 11:04:41.690</td>\n",
       "      <td>2021-02-25 18:30:00</td>\n",
       "      <td>2021-03-08 16:26:10.000</td>\n",
       "      <td>26129</td>\n",
       "      <td>2021-03-02 14:00:00</td>\n",
       "      <td>2021-03-02 18:30:00</td>\n",
       "      <td>2021-03-02 14:06:00</td>\n",
       "      <td>2021-03-02 18:20:00</td>\n",
       "      <td>False</td>\n",
       "      <td>3.0</td>\n",
       "      <td>False</td>\n",
       "      <td>0 days 04:30:00</td>\n",
       "      <td>0 days 04:14:00</td>\n",
       "      <td>True</td>\n",
       "    </tr>\n",
       "  </tbody>\n",
       "</table>\n",
       "<p>64 rows × 18 columns</p>\n",
       "</div>"
      ],
      "text/plain": [
       "    id_chamado  id_sistema  id_chamado_tipo  id_prioridade_x  \\\n",
       "1        30969          27               12              2.0   \n",
       "2        30969          27               12              2.0   \n",
       "3        30969          27               12              2.0   \n",
       "4        30969          27               12              2.0   \n",
       "5        30969          27               12              2.0   \n",
       "..         ...         ...              ...              ...   \n",
       "62       33358          14               10              2.0   \n",
       "65       33794          20                5              3.0   \n",
       "66       33794          20                5              3.0   \n",
       "67       33794          20                5              3.0   \n",
       "68       33794          20                5              3.0   \n",
       "\n",
       "               dt_abertura dt_previsao_conclusao_chamado  \\\n",
       "1  2020-07-06 18:11:39.693           2020-09-11 18:00:00   \n",
       "2  2020-07-06 18:11:39.693           2020-09-11 18:00:00   \n",
       "3  2020-07-06 18:11:39.693           2020-09-11 18:00:00   \n",
       "4  2020-07-06 18:11:39.693           2020-09-11 18:00:00   \n",
       "5  2020-07-06 18:11:39.693           2020-09-11 18:00:00   \n",
       "..                     ...                           ...   \n",
       "62 2021-01-11 12:53:26.440           2021-03-03 18:00:00   \n",
       "65 2021-02-22 11:04:41.690           2021-02-25 18:30:00   \n",
       "66 2021-02-22 11:04:41.690           2021-02-25 18:30:00   \n",
       "67 2021-02-22 11:04:41.690           2021-02-25 18:30:00   \n",
       "68 2021-02-22 11:04:41.690           2021-02-25 18:30:00   \n",
       "\n",
       "      dt_conclusao_chamado  id_tarefa      dt_prev_inicio         dt_prev_fim  \\\n",
       "1  2021-03-06 05:00:09.823      16980 2020-07-17 11:50:00 2020-07-17 14:00:00   \n",
       "2  2021-03-06 05:00:09.823      17059 2020-07-20 17:00:00 2020-07-20 18:00:00   \n",
       "3  2021-03-06 05:00:09.823      17251 2020-07-24 09:15:00 2020-07-24 18:00:00   \n",
       "4  2021-03-06 05:00:09.823      17480 2020-07-30 15:50:00 2020-07-30 17:30:00   \n",
       "5  2021-03-06 05:00:09.823      18459 2020-09-01 14:30:00 2020-09-01 18:30:00   \n",
       "..                     ...        ...                 ...                 ...   \n",
       "62 2021-03-17 05:00:08.867      26513 2021-03-09 14:16:00 2021-03-09 18:30:00   \n",
       "65 2021-03-08 16:26:10.000      25825 2021-02-24 10:55:00 2021-02-24 13:00:00   \n",
       "66 2021-03-08 16:26:10.000      25840 2021-02-24 14:00:00 2021-02-24 18:00:00   \n",
       "67 2021-03-08 16:26:10.000      25888 2021-02-25 09:00:00 2021-02-25 13:00:00   \n",
       "68 2021-03-08 16:26:10.000      26129 2021-03-02 14:00:00 2021-03-02 18:30:00   \n",
       "\n",
       "             dt_inicio              dt_fim  retrabalho  id_prioridade_y  \\\n",
       "1  2020-07-17 11:45:00 2020-07-17 12:22:29       False              2.0   \n",
       "2  2020-07-20 16:53:21 2020-07-20 18:39:12       False              2.0   \n",
       "3  2020-07-24 09:17:25 2020-07-24 10:00:56       False              2.0   \n",
       "4  2020-07-30 15:51:58 2020-07-30 17:31:43       False              2.0   \n",
       "5  2020-09-01 14:37:10 2020-09-01 18:12:31       False              2.0   \n",
       "..                 ...                 ...         ...              ...   \n",
       "62 2021-03-09 14:15:00 2021-03-09 16:04:00       False              2.0   \n",
       "65 2021-02-24 10:54:00 2021-02-24 12:53:00       False              3.0   \n",
       "66 2021-02-24 14:04:00 2021-02-24 18:43:00       False              3.0   \n",
       "67 2021-02-25 09:00:00 2021-02-25 12:44:00       False              3.0   \n",
       "68 2021-03-02 14:06:00 2021-03-02 18:20:00       False              3.0   \n",
       "\n",
       "    adp_chamado previsao_tarefa     real_tarefa  adp_tarefa  \n",
       "1         False 0 days 02:10:00 0 days 00:37:29        True  \n",
       "2         False 0 days 01:00:00 0 days 01:45:51       False  \n",
       "3         False 0 days 08:45:00 0 days 00:43:31        True  \n",
       "4         False 0 days 01:40:00 0 days 01:39:45        True  \n",
       "5         False 0 days 04:00:00 0 days 03:35:21        True  \n",
       "..          ...             ...             ...         ...  \n",
       "62        False 0 days 04:14:00 0 days 01:49:00        True  \n",
       "65        False 0 days 02:05:00 0 days 01:59:00        True  \n",
       "66        False 0 days 04:00:00 0 days 04:39:00       False  \n",
       "67        False 0 days 04:00:00 0 days 03:44:00        True  \n",
       "68        False 0 days 04:30:00 0 days 04:14:00        True  \n",
       "\n",
       "[64 rows x 18 columns]"
      ]
     },
     "execution_count": 76,
     "metadata": {},
     "output_type": "execute_result"
    }
   ],
   "source": [
    "chamado_tarefa_df"
   ]
  },
  {
   "cell_type": "code",
   "execution_count": 77,
   "metadata": {
    "colab": {
     "base_uri": "https://localhost:8080/"
    },
    "executionInfo": {
     "elapsed": 13,
     "status": "ok",
     "timestamp": 1626799540289,
     "user": {
      "displayName": "Solano Buso Jacon",
      "photoUrl": "https://lh3.googleusercontent.com/a-/AOh14GhvIWJbdmF2sLdJ-sGeQu468kS2ts3ZWX7_5keQV0Y=s64",
      "userId": "03193064938437592202"
     },
     "user_tz": 180
    },
    "id": "3Szycfnbc9Xf",
    "outputId": "952ed289-86ce-4cc3-a56e-b1248c52b7a3"
   },
   "outputs": [],
   "source": [
    "chamado_tarefa_df = chamado_tarefa_df[['id_chamado', 'adp_chamado', 'adp_tarefa']]\n",
    "chamado_tarefa_df['adp_chamado'] = chamado_tarefa_df['adp_chamado'].apply(lambda x: 1 if x==True else 0)\n",
    "chamado_tarefa_df['adp_tarefa'] = chamado_tarefa_df['adp_tarefa'].apply(lambda x: 1 if x==True else 0)\n",
    "chamado_tarefa_df = chamado_tarefa_df.groupby(['id_chamado']).agg({'adp_chamado' : 'mean', 'adp_tarefa' : 'mean'}).reset_index()"
   ]
  },
  {
   "cell_type": "code",
   "execution_count": 78,
   "metadata": {
    "colab": {
     "base_uri": "https://localhost:8080/"
    },
    "executionInfo": {
     "elapsed": 12,
     "status": "ok",
     "timestamp": 1626799540289,
     "user": {
      "displayName": "Solano Buso Jacon",
      "photoUrl": "https://lh3.googleusercontent.com/a-/AOh14GhvIWJbdmF2sLdJ-sGeQu468kS2ts3ZWX7_5keQV0Y=s64",
      "userId": "03193064938437592202"
     },
     "user_tz": 180
    },
    "id": "kHXbgfqGc9Xg",
    "outputId": "8ad63a20-7a2a-4efa-d575-34c083bda2d4"
   },
   "outputs": [
    {
     "data": {
      "text/html": [
       "<div>\n",
       "<style scoped>\n",
       "    .dataframe tbody tr th:only-of-type {\n",
       "        vertical-align: middle;\n",
       "    }\n",
       "\n",
       "    .dataframe tbody tr th {\n",
       "        vertical-align: top;\n",
       "    }\n",
       "\n",
       "    .dataframe thead th {\n",
       "        text-align: right;\n",
       "    }\n",
       "</style>\n",
       "<table border=\"1\" class=\"dataframe\">\n",
       "  <thead>\n",
       "    <tr style=\"text-align: right;\">\n",
       "      <th></th>\n",
       "      <th>id_chamado</th>\n",
       "      <th>adp_chamado</th>\n",
       "      <th>adp_tarefa</th>\n",
       "    </tr>\n",
       "  </thead>\n",
       "  <tbody>\n",
       "    <tr>\n",
       "      <th>0</th>\n",
       "      <td>30969</td>\n",
       "      <td>0.0</td>\n",
       "      <td>0.600000</td>\n",
       "    </tr>\n",
       "    <tr>\n",
       "      <th>1</th>\n",
       "      <td>32951</td>\n",
       "      <td>0.0</td>\n",
       "      <td>0.625000</td>\n",
       "    </tr>\n",
       "    <tr>\n",
       "      <th>2</th>\n",
       "      <td>33141</td>\n",
       "      <td>0.0</td>\n",
       "      <td>0.750000</td>\n",
       "    </tr>\n",
       "    <tr>\n",
       "      <th>3</th>\n",
       "      <td>33308</td>\n",
       "      <td>0.0</td>\n",
       "      <td>0.666667</td>\n",
       "    </tr>\n",
       "    <tr>\n",
       "      <th>4</th>\n",
       "      <td>33358</td>\n",
       "      <td>0.0</td>\n",
       "      <td>0.571429</td>\n",
       "    </tr>\n",
       "    <tr>\n",
       "      <th>5</th>\n",
       "      <td>33794</td>\n",
       "      <td>0.0</td>\n",
       "      <td>0.750000</td>\n",
       "    </tr>\n",
       "  </tbody>\n",
       "</table>\n",
       "</div>"
      ],
      "text/plain": [
       "   id_chamado  adp_chamado  adp_tarefa\n",
       "0       30969          0.0    0.600000\n",
       "1       32951          0.0    0.625000\n",
       "2       33141          0.0    0.750000\n",
       "3       33308          0.0    0.666667\n",
       "4       33358          0.0    0.571429\n",
       "5       33794          0.0    0.750000"
      ]
     },
     "execution_count": 78,
     "metadata": {},
     "output_type": "execute_result"
    }
   ],
   "source": [
    "chamado_tarefa_df"
   ]
  },
  {
   "cell_type": "code",
   "execution_count": 79,
   "metadata": {
    "colab": {
     "base_uri": "https://localhost:8080/"
    },
    "executionInfo": {
     "elapsed": 373,
     "status": "ok",
     "timestamp": 1626799540651,
     "user": {
      "displayName": "Solano Buso Jacon",
      "photoUrl": "https://lh3.googleusercontent.com/a-/AOh14GhvIWJbdmF2sLdJ-sGeQu468kS2ts3ZWX7_5keQV0Y=s64",
      "userId": "03193064938437592202"
     },
     "user_tz": 180
    },
    "id": "l4MoFaA_c9Xg",
    "outputId": "d13cf786-05cc-41d4-82a9-f044dad2d45a"
   },
   "outputs": [
    {
     "data": {
      "text/html": [
       "<div>\n",
       "<style scoped>\n",
       "    .dataframe tbody tr th:only-of-type {\n",
       "        vertical-align: middle;\n",
       "    }\n",
       "\n",
       "    .dataframe tbody tr th {\n",
       "        vertical-align: top;\n",
       "    }\n",
       "\n",
       "    .dataframe thead th {\n",
       "        text-align: right;\n",
       "    }\n",
       "</style>\n",
       "<table border=\"1\" class=\"dataframe\">\n",
       "  <thead>\n",
       "    <tr style=\"text-align: right;\">\n",
       "      <th></th>\n",
       "      <th>adp_chamado</th>\n",
       "      <th>adp_tarefa</th>\n",
       "    </tr>\n",
       "  </thead>\n",
       "  <tbody>\n",
       "    <tr>\n",
       "      <th>adp_chamado</th>\n",
       "      <td>NaN</td>\n",
       "      <td>NaN</td>\n",
       "    </tr>\n",
       "    <tr>\n",
       "      <th>adp_tarefa</th>\n",
       "      <td>NaN</td>\n",
       "      <td>1.0</td>\n",
       "    </tr>\n",
       "  </tbody>\n",
       "</table>\n",
       "</div>"
      ],
      "text/plain": [
       "             adp_chamado  adp_tarefa\n",
       "adp_chamado          NaN         NaN\n",
       "adp_tarefa           NaN         1.0"
      ]
     },
     "execution_count": 79,
     "metadata": {},
     "output_type": "execute_result"
    }
   ],
   "source": [
    "chamado_tarefa_df[['adp_chamado', 'adp_tarefa']].corr()"
   ]
  },
  {
   "cell_type": "code",
   "execution_count": 80,
   "metadata": {
    "colab": {
     "base_uri": "https://localhost:8080/"
    },
    "executionInfo": {
     "elapsed": 7,
     "status": "ok",
     "timestamp": 1626799540651,
     "user": {
      "displayName": "Solano Buso Jacon",
      "photoUrl": "https://lh3.googleusercontent.com/a-/AOh14GhvIWJbdmF2sLdJ-sGeQu468kS2ts3ZWX7_5keQV0Y=s64",
      "userId": "03193064938437592202"
     },
     "user_tz": 180
    },
    "id": "nqG_gyTwc9Xg",
    "outputId": "888ae507-0e80-4bd4-d5ef-4265999c25ba"
   },
   "outputs": [
    {
     "data": {
      "image/png": "[encoded data removed]",
      "text/plain": [
       "<Figure size 640x480 with 2 Axes>"
      ]
     },
     "metadata": {},
     "output_type": "display_data"
    }
   ],
   "source": [
    "sns.heatmap(chamado_tarefa_df[['adp_chamado', 'adp_tarefa']].corr(), cmap='coolwarm', annot=True, fmt='.1f', linewidths=.1)\n",
    "plt.title('Correlation Matrix - ADP Tickets X ADP Tasks')\n",
    "plt.show()"
   ]
  },
  {
   "cell_type": "markdown",
   "metadata": {
    "id": "U-LaJBPrc9Xg"
   },
   "source": [
    "## Conclusões / *Conclusions*"
   ]
  },
  {
   "cell_type": "markdown",
   "metadata": {
    "id": "4fV-QRaxc9Xh"
   },
   "source": [
    "### Conclusões - Análise Geral dos Dados / *Conclusions - General Data Analysis*\n",
    "- Existe uma quantidade significativa de chamados com o coluna dt_previsao_conclusao_chamado vazio, o que impossibilita o cálculo do indicador ADP nestes chamados e evidencia que provavelmente não houve uma formalização de prazo para conclusão do chamado para apresentação ao cliente ou planejamento e controle interno.\n",
    "- Existe uma quantidade significativa de interações com o coluna dt_conclusao vazio, o que impossibilita o cálculo do indicador ADP nestas interações e evidencia uma possível conclusão inadequada das mesmas.\n",
    "- O coluna retrabalho das tarefas não contém NENHUM retrabalho apontado, o que impossibilita a verificação de uma possível correlação entre a ocorrência de retrabalhos e o atraso na conclusão das tarefas.\n",
    "\n",
    "\n",
    "- *There is a significant number of tickets with the empty column dt_previsao_conclusao_chamado, which makes it impossible to calculate the ADP indicator in these tickets and shows that there was probably no formalization of a deadline for completing the ticket for presentation to the customer or planning and internal control.*\n",
    "- *There is a significant amount of interactions with the empty column dt_conclusao, which makes it impossible to calculate the ADP indicator in these interactions and shows a possible inadequate conclusion of them.*\n",
    "- *The rework column of the tasks does not contain ANY rework pointed out, which makes it impossible to verify a possible correlation between the occurrence of rework and the delay in completing the tasks.*"
   ]
  },
  {
   "cell_type": "markdown",
   "metadata": {
    "id": "7Qrv8w8dc9Xh"
   },
   "source": [
    "### Conclusões - Análise dos Chamados / *Conclusions - Analysis of Tickets*\n",
    "- A quantidade de chamados concluídos varia bastante de um mês para outro, porém não existe tendência de aumento ou redução desta quantidade.\n",
    "- A quantidade de chamados urgentes em relação aos normais é menor, e a quantidade de chamados críticos em relação aos normais é muito menor.\n",
    "- O indicador ADP dos chamados está muito baixo, principalmente dos chamados críticos e urgentes.\n",
    "- Existe uma quantidade significativa de chamados com tempo de atendimento maior do que 90 dias, isto pode estar sendo causado por uma falha no processo de formalização da conclusão destes chamados ou por tempos de atendimento excessivos.\n",
    "- O indicador TMA dos chamados críticos e urgentes está muito alto, mesmo considerando apenas os chamados com tempo de atendimento menor ou igual à 90 dias.\n",
    "- O indicador TMA dos chamados do tipo 4 está muito mais alto que o TMA dos outros tipos. Considerando apenas os chamados com tempo de atendimento menor ou igual à 90 dias, o TMA dos chamados dos tipos 2, 3, 8 e 10 são os maiores.\n",
    "- O indicador TMA dos chamados do sistema 19 está muito mais alto que o TMA dos outros sistemas. Considerando apenas os chamados com tempo de atendimento menor ou igual à 90 dias, o TMA dos chamados dos sistemas 5, 11 e 22 são os maiores.\n",
    "\n",
    "\n",
    "- *The number of completed tickets varies a lot from one month to another, but there is no tendency to increase or decrease this amount.*\n",
    "- *The amount of urgent tickets compared to normal ones is lower, and the amount of critical tickets compared to normal ones is much lower.*\n",
    "- *The ADP indicator for tickets is very low, especially for critical and urgent tickets.*\n",
    "- *There is a significant number of tickets with a service time greater than 90 days, this may be caused by a failure in the formalization process of the conclusion of these tickets or by excessive service times.*\n",
    "- *The TMA indicator for critical and urgent tickets is very high, even considering only tickets with a service time of less than or equal to 90 days.*\n",
    "- *The TMA indicator of type 4 tickets is much higher than the TMA of other types. Considering only tickets with a service time of less than or equal to 90 days, the TMA of types 2, 3, 8 and 10 tickets are the highest.*\n",
    "- *The TMA indicator of system 19 tickets is much higher than the TMA of other systems. Considering only tickets with a service time of less than or equal to 90 days, the TMA of tickets from systems 5, 11 and 22 are the highest.*"
   ]
  },
  {
   "cell_type": "markdown",
   "metadata": {
    "id": "nHamIMfyc9Xh"
   },
   "source": [
    "### Conclusões - Análise das Interações dos Chamados / *Conclusions - Analysis of Ticket Interactions*\n",
    "- O indicador ADP das interações dos chamados não apresenta problemas, pois todas as interações foram concluídas até a data prevista.\n",
    "\n",
    "\n",
    "- *The ADP indicator of ticket interactions has no problems, as all interactions were completed by the expected date.*"
   ]
  },
  {
   "cell_type": "markdown",
   "metadata": {
    "id": "S8I-2iFJc9Xh"
   },
   "source": [
    "### Conclusões - Análise das Tarefas dos Chamados / *Conclusions - Analysis of the Tasks of the Tickets*\n",
    "- O indicador ADP das tarefas dos chamados está muito baixo, tanto geral como por prioridade.\n",
    "\n",
    "\n",
    "- *The ADP indicator of the tasks of the tickets is very low, both overall and by priority.*"
   ]
  },
  {
   "cell_type": "markdown",
   "metadata": {
    "id": "t4eTj6CUc9Xh"
   },
   "source": [
    "### Conclusões - Análise Chamados X Tarefas / *Conclusions - Analysis Tickets X Tasks*\n",
    "- Não existe correlação significativa entre o indicador ADP dos chamados e o indicador ADP de suas respectivas tarefas.\n",
    "\n",
    "\n",
    "- *There is no significant correlation between the ADP indicator of tickets and the ADP indicator of their respective tasks.*"
   ]
  },
  {
   "cell_type": "markdown",
   "metadata": {
    "id": "sXCXs8F4c9Xi"
   },
   "source": [
    "## Recomendações Imediatas / *Immediate Recommendations*\n",
    "- Implementar ações visando eliminar a falta de preenchimento dos colunas dt_previsao_conclusao_chamado dos chamados e dt_conclusao das interações, e garantir o apontamento dos retrabalhos nas tarefas.\n",
    "- Fazer um estudo visando identificar as causas raiz destes indicadores que apresentam baixa performance, e implementar um plano de ação visando tratar estas causas.\n",
    "- Fazer um estudo para confirmar quais seriam as expectativas reais de tempo dos clientes em relação à conclusão de chamados Críticos, Urgentes e Normais.\n",
    "\n",
    "\n",
    "- *Implement actions to eliminate the lack of filling in the columns dt_previsao_conclusao_chamado of tickets and dt_conclusao of interactions, and guarantee the appointment of reworks in tasks.*\n",
    "- *Conduct a study to identify the root causes of these indicators that present low performance, and implement an action plan to address these causes.*\n",
    "- *Conduct a study to confirm what would be the real time expectations of customers in relation to the completion of Critical, Urgent and Normal tickets.*"
   ]
  },
  {
   "cell_type": "markdown",
   "metadata": {
    "id": "lFsWi79kc9Xi"
   },
   "source": [
    "## Recomendações Futuras e Próximos Passos / *Future Recommendations and Next Steps*\n",
    "- Continuar monitorando os indicadores Atendimento na Data Prevista (ADP) e Tempo Médio de Atendimento (TMA), implementando ações de melhoria caso necessário.\n",
    "- Implementar e monitorar os indicadores Net Promoter Score (NPS) e First Ticket Resolution (FCR), implementando ações de melhoria caso necessário.\n",
    "- Desenvolver um modelo supervisionado usando ferramentas de Machine Learning que tenha como entrada os dados do chamado aberto, e apresente a Data Prevista para Conclusão do Chamado como saída.\n",
    "\n",
    "\n",
    "- *Continue monitoring the Service on Expected Date (ADP) and Average Service Time (TMA) indicators, implementing improvement actions if necessary.*\n",
    "- *Implement and monitor Net Promoter Score (NPS) and First Ticket Resolution (FCR) indicators, implementing improvement actions if necessary.*\n",
    "- *Develop a supervised model using Machine Learning tools that takes the data of the open ticket as input, and presents the Expected Date for Completion of the Ticket as output.*"
   ]
  },
  {
   "cell_type": "markdown",
   "metadata": {
    "id": "pFkMTcuwc9Xr"
   },
   "source": [
    "## Fim / *End*"
   ]
  }
 ],
 "metadata": {
  "colab": {
   "collapsed_sections": [
    "LtyuXcK2c9XM",
    "HhzKFXuec9XN",
    "3pgydNtSc9XN",
    "8PcUHtwEc9XR",
    "d4tvKXzAc9XS",
    "5s_L-Hezc9XU",
    "317YTB8oc9XV",
    "tT439PAfc9Xc",
    "4ukUDA9fc9Xd",
    "t4ftvhW5c9Xf",
    "U-LaJBPrc9Xg",
    "4fV-QRaxc9Xh",
    "7Qrv8w8dc9Xh",
    "gk1smLXec9Xh",
    "nHamIMfyc9Xh",
    "S8I-2iFJc9Xh",
    "t4eTj6CUc9Xh",
    "sXCXs8F4c9Xi",
    "lFsWi79kc9Xi",
    "0TLMUjyQc9Xi",
    "pFkMTcuwc9Xr"
   ],
   "name": "emix-test.ipynb",
   "provenance": []
  },
  "hide_input": false,
  "kernelspec": {
   "display_name": "Python 3 (ipykernel)",
   "language": "python",
   "name": "python3"
  },
  "language_info": {
   "codemirror_mode": {
    "name": "ipython",
    "version": 3
   },
   "file_extension": ".py",
   "mimetype": "text/x-python",
   "name": "python",
   "nbconvert_exporter": "python",
   "pygments_lexer": "ipython3",
   "version": "3.10.6"
  },
  "toc": {
   "base_numbering": 1,
   "nav_menu": {},
   "number_sections": true,
   "sideBar": true,
   "skip_h1_title": false,
   "title_cell": "Table of Contents",
   "title_sidebar": "Contents",
   "toc_cell": false,
   "toc_position": {},
   "toc_section_display": true,
   "toc_window_display": false
  }
 },
 "nbformat": 4,
 "nbformat_minor": 1
}
