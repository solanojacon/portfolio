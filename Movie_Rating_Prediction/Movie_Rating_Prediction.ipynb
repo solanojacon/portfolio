{
 "cells": [
  {
   "cell_type": "markdown",
   "metadata": {
    "id": "0CaIbEZrgx0c"
   },
   "source": [
    "# Predição de Classificação de Filme / *Movie Rating Prediction*\n",
    "\n",
    "# Desafio de Ciência de Dados / *Data Science Challenge*\n",
    "\n",
    "# Entrega / *Delivery*: Notebook\n",
    "\n",
    "# Desenvolvedor / *Developer*: Solano Jacon"
   ]
  },
  {
   "cell_type": "code",
   "execution_count": 1,
   "metadata": {
    "colab": {
     "base_uri": "https://localhost:8080/"
    },
    "executionInfo": {
     "elapsed": 1267,
     "status": "ok",
     "timestamp": 1661397622826,
     "user": {
      "displayName": "Solano Jacon",
      "userId": "03193064938437592202"
     },
     "user_tz": 180
    },
    "id": "K6gAaw3Ngx0d",
    "outputId": "12deca9f-4c04-4ee7-c0b2-59c8ae13635a"
   },
   "outputs": [
    {
     "name": "stderr",
     "output_type": "stream",
     "text": [
      "[nltk_data] Downloading package stopwords to\n",
      "[nltk_data]     /home/solanojacon/nltk_data...\n",
      "[nltk_data]   Package stopwords is already up-to-date!\n",
      "[nltk_data] Downloading package punkt to\n",
      "[nltk_data]     /home/solanojacon/nltk_data...\n",
      "[nltk_data]   Package punkt is already up-to-date!\n",
      "[nltk_data] Downloading package wordnet to\n",
      "[nltk_data]     /home/solanojacon/nltk_data...\n",
      "[nltk_data]   Package wordnet is already up-to-date!\n",
      "[nltk_data] Downloading package omw-1.4 to\n",
      "[nltk_data]     /home/solanojacon/nltk_data...\n",
      "[nltk_data]   Package omw-1.4 is already up-to-date!\n"
     ]
    }
   ],
   "source": [
    "# The installation of the openpyxl library would be necessary for the command pd.read_excel(file, engine='openpyxl') to work\n",
    "\n",
    "import pandas as pd\n",
    "import numpy as np\n",
    "import matplotlib.pyplot as plt\n",
    "import string\n",
    "import nltk\n",
    "import warnings\n",
    "from IPython.display import Image, display\n",
    "from sklearn.preprocessing import OneHotEncoder\n",
    "from nltk.corpus import stopwords \n",
    "from nltk import word_tokenize\n",
    "from nltk.stem import WordNetLemmatizer\n",
    "from sklearn.feature_extraction.text import TfidfVectorizer\n",
    "from sklearn.model_selection import train_test_split\n",
    "from sklearn.naive_bayes import MultinomialNB\n",
    "from sklearn.model_selection import cross_validate\n",
    "from sklearn.metrics import confusion_matrix\n",
    "from sklearn.metrics import accuracy_score, precision_score, recall_score, f1_score\n",
    "from sklearn.metrics import classification_report\n",
    "from sklearn.metrics import precision_recall_curve\n",
    "\n",
    "nltk.download('stopwords')\n",
    "nltk.download('punkt')\n",
    "nltk.download('wordnet')\n",
    "nltk.download('omw-1.4')\n",
    "\n",
    "warnings.filterwarnings('ignore')"
   ]
  },
  {
   "cell_type": "markdown",
   "metadata": {
    "id": "gPknSn6zgx0k"
   },
   "source": [
    "## Leitura dos dados / Data reading"
   ]
  },
  {
   "cell_type": "code",
   "execution_count": 2,
   "metadata": {
    "colab": {
     "base_uri": "https://localhost:8080/",
     "height": 337
    },
    "executionInfo": {
     "elapsed": 2222,
     "status": "ok",
     "timestamp": 1661397625046,
     "user": {
      "displayName": "Solano Jacon",
      "userId": "03193064938437592202"
     },
     "user_tz": 180
    },
    "id": "jz5Y1J1Wgx0k",
    "outputId": "06ca5d83-308b-4c6e-d0b7-630e2f1fcd92"
   },
   "outputs": [
    {
     "data": {
      "text/html": [
       "<div>\n",
       "<style scoped>\n",
       "    .dataframe tbody tr th:only-of-type {\n",
       "        vertical-align: middle;\n",
       "    }\n",
       "\n",
       "    .dataframe tbody tr th {\n",
       "        vertical-align: top;\n",
       "    }\n",
       "\n",
       "    .dataframe thead th {\n",
       "        text-align: right;\n",
       "    }\n",
       "</style>\n",
       "<table border=\"1\" class=\"dataframe\">\n",
       "  <thead>\n",
       "    <tr style=\"text-align: right;\">\n",
       "      <th></th>\n",
       "      <th>show_id</th>\n",
       "      <th>type</th>\n",
       "      <th>title</th>\n",
       "      <th>director</th>\n",
       "      <th>cast</th>\n",
       "      <th>country</th>\n",
       "      <th>date_added</th>\n",
       "      <th>release_year</th>\n",
       "      <th>rating</th>\n",
       "      <th>duration</th>\n",
       "      <th>listed_in</th>\n",
       "      <th>description</th>\n",
       "    </tr>\n",
       "  </thead>\n",
       "  <tbody>\n",
       "    <tr>\n",
       "      <th>0</th>\n",
       "      <td>81145628</td>\n",
       "      <td>Movie</td>\n",
       "      <td>Norm of the North: King Sized Adventure</td>\n",
       "      <td>Richard Finn, Tim Maltby</td>\n",
       "      <td>Alan Marriott, Andrew Toth, Brian Dobson, Cole...</td>\n",
       "      <td>United States, India, South Korea, China</td>\n",
       "      <td>2019-09-09</td>\n",
       "      <td>2019.0</td>\n",
       "      <td>41.0</td>\n",
       "      <td>90 min</td>\n",
       "      <td>Children &amp; Family Movies, Comedies</td>\n",
       "      <td>Before planning an awesome wedding for his gra...</td>\n",
       "    </tr>\n",
       "    <tr>\n",
       "      <th>1</th>\n",
       "      <td>80117401</td>\n",
       "      <td>Movie</td>\n",
       "      <td>Jandino: Whatever it Takes</td>\n",
       "      <td>NaN</td>\n",
       "      <td>Jandino Asporaat</td>\n",
       "      <td>United Kingdom</td>\n",
       "      <td>2016-09-09</td>\n",
       "      <td>2016.0</td>\n",
       "      <td>52.0</td>\n",
       "      <td>94 min</td>\n",
       "      <td>Stand-Up Comedy</td>\n",
       "      <td>Jandino Asporaat riffs on the challenges of ra...</td>\n",
       "    </tr>\n",
       "    <tr>\n",
       "      <th>2</th>\n",
       "      <td>70234439</td>\n",
       "      <td>TV Show</td>\n",
       "      <td>Transformers Prime</td>\n",
       "      <td>NaN</td>\n",
       "      <td>Peter Cullen, Sumalee Montano, Frank Welker, J...</td>\n",
       "      <td>United States</td>\n",
       "      <td>2018-09-08</td>\n",
       "      <td>2013.0</td>\n",
       "      <td>82.0</td>\n",
       "      <td>1 Season</td>\n",
       "      <td>Kids' TV</td>\n",
       "      <td>With the help of three human allies, the Autob...</td>\n",
       "    </tr>\n",
       "    <tr>\n",
       "      <th>3</th>\n",
       "      <td>80058654</td>\n",
       "      <td>TV Show</td>\n",
       "      <td>Transformers: Robots in Disguise</td>\n",
       "      <td>NaN</td>\n",
       "      <td>Will Friedle, Darren Criss, Constance Zimmer, ...</td>\n",
       "      <td>United States</td>\n",
       "      <td>2018-09-08</td>\n",
       "      <td>2016.0</td>\n",
       "      <td>64.0</td>\n",
       "      <td>1 Season</td>\n",
       "      <td>Kids' TV</td>\n",
       "      <td>When a prison ship crash unleashes hundreds of...</td>\n",
       "    </tr>\n",
       "    <tr>\n",
       "      <th>4</th>\n",
       "      <td>80125979</td>\n",
       "      <td>Movie</td>\n",
       "      <td>#realityhigh</td>\n",
       "      <td>Fernando Lebrija</td>\n",
       "      <td>Nesta Cooper, Kate Walsh, John Michael Higgins...</td>\n",
       "      <td>United States</td>\n",
       "      <td>2017-09-08</td>\n",
       "      <td>2017.0</td>\n",
       "      <td>57.0</td>\n",
       "      <td>99 min</td>\n",
       "      <td>Comedies</td>\n",
       "      <td>When nerdy high schooler Dani finally attracts...</td>\n",
       "    </tr>\n",
       "  </tbody>\n",
       "</table>\n",
       "</div>"
      ],
      "text/plain": [
       "    show_id     type                                    title  \\\n",
       "0  81145628    Movie  Norm of the North: King Sized Adventure   \n",
       "1  80117401    Movie               Jandino: Whatever it Takes   \n",
       "2  70234439  TV Show                       Transformers Prime   \n",
       "3  80058654  TV Show         Transformers: Robots in Disguise   \n",
       "4  80125979    Movie                             #realityhigh   \n",
       "\n",
       "                   director  \\\n",
       "0  Richard Finn, Tim Maltby   \n",
       "1                       NaN   \n",
       "2                       NaN   \n",
       "3                       NaN   \n",
       "4          Fernando Lebrija   \n",
       "\n",
       "                                                cast  \\\n",
       "0  Alan Marriott, Andrew Toth, Brian Dobson, Cole...   \n",
       "1                                   Jandino Asporaat   \n",
       "2  Peter Cullen, Sumalee Montano, Frank Welker, J...   \n",
       "3  Will Friedle, Darren Criss, Constance Zimmer, ...   \n",
       "4  Nesta Cooper, Kate Walsh, John Michael Higgins...   \n",
       "\n",
       "                                    country date_added  release_year  rating  \\\n",
       "0  United States, India, South Korea, China 2019-09-09        2019.0    41.0   \n",
       "1                            United Kingdom 2016-09-09        2016.0    52.0   \n",
       "2                             United States 2018-09-08        2013.0    82.0   \n",
       "3                             United States 2018-09-08        2016.0    64.0   \n",
       "4                             United States 2017-09-08        2017.0    57.0   \n",
       "\n",
       "   duration                           listed_in  \\\n",
       "0    90 min  Children & Family Movies, Comedies   \n",
       "1    94 min                     Stand-Up Comedy   \n",
       "2  1 Season                            Kids' TV   \n",
       "3  1 Season                            Kids' TV   \n",
       "4    99 min                            Comedies   \n",
       "\n",
       "                                         description  \n",
       "0  Before planning an awesome wedding for his gra...  \n",
       "1  Jandino Asporaat riffs on the challenges of ra...  \n",
       "2  With the help of three human allies, the Autob...  \n",
       "3  When a prison ship crash unleashes hundreds of...  \n",
       "4  When nerdy high schooler Dani finally attracts...  "
      ]
     },
     "execution_count": 2,
     "metadata": {},
     "output_type": "execute_result"
    }
   ],
   "source": [
    "# Importação dos dados sem nenhum tratamento prévio\n",
    "# Import of data without any previous treatment\n",
    "\n",
    "data_raw = pd.read_excel('../../data-science-portfolio-data/Movie_Rating_Prediction/data/dataset_netflix.xlsx', engine='openpyxl')\n",
    "data_raw.head()"
   ]
  },
  {
   "cell_type": "code",
   "execution_count": 3,
   "metadata": {
    "colab": {
     "base_uri": "https://localhost:8080/"
    },
    "executionInfo": {
     "elapsed": 23,
     "status": "ok",
     "timestamp": 1661397625047,
     "user": {
      "displayName": "Solano Jacon",
      "userId": "03193064938437592202"
     },
     "user_tz": 180
    },
    "id": "ZfLpynWTgx0k",
    "outputId": "7abcc403-e0b2-4be2-a22e-ab7430c17c43"
   },
   "outputs": [
    {
     "name": "stdout",
     "output_type": "stream",
     "text": [
      "<class 'pandas.core.frame.DataFrame'>\n",
      "RangeIndex: 6234 entries, 0 to 6233\n",
      "Data columns (total 12 columns):\n",
      " #   Column        Non-Null Count  Dtype         \n",
      "---  ------        --------------  -----         \n",
      " 0   show_id       6234 non-null   int64         \n",
      " 1   type          6234 non-null   object        \n",
      " 2   title         6234 non-null   object        \n",
      " 3   director      4264 non-null   object        \n",
      " 4   cast          6233 non-null   object        \n",
      " 5   country       6233 non-null   object        \n",
      " 6   date_added    6222 non-null   datetime64[ns]\n",
      " 7   release_year  6233 non-null   float64       \n",
      " 8   rating        6233 non-null   float64       \n",
      " 9   duration      6233 non-null   object        \n",
      " 10  listed_in     6233 non-null   object        \n",
      " 11  description   6233 non-null   object        \n",
      "dtypes: datetime64[ns](1), float64(2), int64(1), object(8)\n",
      "memory usage: 584.6+ KB\n"
     ]
    }
   ],
   "source": [
    "# Verificação dos tipos e valores nulos dos dados\n",
    "# Checking data types and null values\n",
    "\n",
    "data_raw.info()"
   ]
  },
  {
   "cell_type": "markdown",
   "metadata": {
    "id": "eNZEvc2Vgx0l"
   },
   "source": [
    "## Tratamento dos dados / *Data processing*"
   ]
  },
  {
   "cell_type": "code",
   "execution_count": 4,
   "metadata": {
    "colab": {
     "base_uri": "https://localhost:8080/"
    },
    "executionInfo": {
     "elapsed": 22,
     "status": "ok",
     "timestamp": 1661397625047,
     "user": {
      "displayName": "Solano Jacon",
      "userId": "03193064938437592202"
     },
     "user_tz": 180
    },
    "id": "uVRggJkbgx0l",
    "outputId": "2c4e8a43-8685-4106-d92b-76cfb6d323f1"
   },
   "outputs": [
    {
     "name": "stdout",
     "output_type": "stream",
     "text": [
      "<class 'pandas.core.frame.DataFrame'>\n",
      "RangeIndex: 6233 entries, 0 to 6232\n",
      "Data columns (total 12 columns):\n",
      " #   Column        Non-Null Count  Dtype         \n",
      "---  ------        --------------  -----         \n",
      " 0   show_id       6233 non-null   int64         \n",
      " 1   type          6233 non-null   object        \n",
      " 2   title         6233 non-null   object        \n",
      " 3   director      4264 non-null   object        \n",
      " 4   cast          6233 non-null   object        \n",
      " 5   country       6233 non-null   object        \n",
      " 6   date_added    6222 non-null   datetime64[ns]\n",
      " 7   release_year  6233 non-null   float64       \n",
      " 8   rating        6233 non-null   float64       \n",
      " 9   duration      6233 non-null   object        \n",
      " 10  listed_in     6233 non-null   object        \n",
      " 11  description   6233 non-null   object        \n",
      "dtypes: datetime64[ns](1), float64(2), int64(1), object(8)\n",
      "memory usage: 584.5+ KB\n"
     ]
    }
   ],
   "source": [
    "# Eliminação dos filmes sem classificação, e verificação dos tipos e valores nulos dos dados\n",
    "# Elimination of unrated movies, and verification of data types and null values\n",
    "\n",
    "data = data_raw.copy()\n",
    "data = data.dropna(subset=['rating']).reset_index(drop=True)\n",
    "data.info()"
   ]
  },
  {
   "cell_type": "code",
   "execution_count": 5,
   "metadata": {
    "colab": {
     "base_uri": "https://localhost:8080/"
    },
    "executionInfo": {
     "elapsed": 21,
     "status": "ok",
     "timestamp": 1661397625048,
     "user": {
      "displayName": "Solano Jacon",
      "userId": "03193064938437592202"
     },
     "user_tz": 180
    },
    "id": "y7s4KpxFgx0l",
    "outputId": "7d20898e-7da1-46b8-b146-2d99b9d8c793"
   },
   "outputs": [
    {
     "data": {
      "text/plain": [
       "array(['Movie', 'TV Show'], dtype=object)"
      ]
     },
     "execution_count": 5,
     "metadata": {},
     "output_type": "execute_result"
    }
   ],
   "source": [
    "# Verificação dos valores únicos da coluna type\n",
    "# Checking the unique values of the type column\n",
    "\n",
    "data['type'].unique()"
   ]
  },
  {
   "cell_type": "code",
   "execution_count": 6,
   "metadata": {
    "colab": {
     "base_uri": "https://localhost:8080/"
    },
    "executionInfo": {
     "elapsed": 19,
     "status": "ok",
     "timestamp": 1661397625048,
     "user": {
      "displayName": "Solano Jacon",
      "userId": "03193064938437592202"
     },
     "user_tz": 180
    },
    "id": "Rwhbv7yQgx0l",
    "outputId": "ec130fad-31d4-478e-c1e8-efb92269a494"
   },
   "outputs": [
    {
     "data": {
      "text/plain": [
       "array(['90 min', '94 min', '1 Season', '99 min', '110 min', '60 min',\n",
       "       '78 min', '95 min', '58 min', '62 min', '65 min', '61 min',\n",
       "       '135 min', '98 min', '96 min', '79 min', '113 min', '80 min',\n",
       "       '77 min', '112 min', '106 min', '102 min', '114 min', '125 min',\n",
       "       '142 min', '133 min', '100 min', '86 min', '146 min', '10 min',\n",
       "       '122 min', '126 min', '116 min', '130 min', '70 min', '128 min',\n",
       "       '88 min', '108 min', '93 min', '64 min', '107 min', '92 min',\n",
       "       '111 min', '103 min', '40 min', '85 min', '72 min', '45 min',\n",
       "       '89 min', '24 min', '127 min', '163 min', '117 min', '42 min',\n",
       "       '104 min', '75 min', '82 min', '38 min', '97 min', '81 min',\n",
       "       '91 min', '152 min', '87 min', '121 min', '101 min', '119 min',\n",
       "       '83 min', '182 min', '124 min', '63 min', '139 min', '171 min',\n",
       "       '84 min', '69 min', '76 min', '41 min', '153 min', '141 min',\n",
       "       '52 min', '137 min', '132 min', '157 min', '109 min', '105 min',\n",
       "       '25 min', '71 min', '123 min', '67 min', '140 min', '138 min',\n",
       "       '149 min', '47 min', '68 min', '148 min', '54 min', '151 min',\n",
       "       '155 min', '162 min', '28 min', '160 min', '29 min', '57 min',\n",
       "       '46 min', '73 min', '74 min', '118 min', '66 min', '14 min',\n",
       "       '20 min', '115 min', '48 min', '168 min', '144 min', '161 min',\n",
       "       '55 min', '56 min', '51 min', '50 min', '23 min', '205 min',\n",
       "       '190 min', '131 min', '22 min', '59 min', '150 min', '159 min',\n",
       "       '145 min', '158 min', '143 min', '154 min', '147 min', '129 min',\n",
       "       '214 min', '136 min', '134 min', '44 min', '156 min', '30 min',\n",
       "       '120 min', '209 min', '166 min', '200 min', '185 min', '36 min',\n",
       "       '11 min', '53 min', '165 min', '164 min', '19 min', '177 min',\n",
       "       '32 min', '18 min', '170 min', '187 min', '173 min', '12 min',\n",
       "       '3 min', '176 min', '15 min', '49 min', '26 min', '37 min',\n",
       "       '189 min', '201 min', '179 min', '191 min', '193 min', '192 min',\n",
       "       '43 min', '172 min', '224 min', '27 min', '181 min', '178 min',\n",
       "       '228 min', '34 min', '312 min', '174 min', '169 min', '35 min',\n",
       "       '31 min', '180 min', '196 min', '167 min', '33 min', '203 min',\n",
       "       '195 min', '2 Seasons', '5 Seasons', '3 Seasons', '7 Seasons',\n",
       "       '4 Seasons', '8 Seasons', '6 Seasons', '9 Seasons', '14 Seasons',\n",
       "       '10 Seasons', '12 Seasons', '15 Seasons', '11 Seasons',\n",
       "       '13 Seasons'], dtype=object)"
      ]
     },
     "execution_count": 6,
     "metadata": {},
     "output_type": "execute_result"
    }
   ],
   "source": [
    "# Verificação dos valores únicos da coluna duration\n",
    "# Checking the unique values of the duration column\n",
    "\n",
    "data['duration'].unique()"
   ]
  },
  {
   "cell_type": "code",
   "execution_count": 7,
   "metadata": {
    "colab": {
     "base_uri": "https://localhost:8080/",
     "height": 300
    },
    "executionInfo": {
     "elapsed": 17,
     "status": "ok",
     "timestamp": 1661397625048,
     "user": {
      "displayName": "Solano Jacon",
      "userId": "03193064938437592202"
     },
     "user_tz": 180
    },
    "id": "q1GOjZ4cgx0m",
    "outputId": "4c754f87-3578-433c-de6f-07ea044bc9df"
   },
   "outputs": [
    {
     "data": {
      "text/html": [
       "<div>\n",
       "<style scoped>\n",
       "    .dataframe tbody tr th:only-of-type {\n",
       "        vertical-align: middle;\n",
       "    }\n",
       "\n",
       "    .dataframe tbody tr th {\n",
       "        vertical-align: top;\n",
       "    }\n",
       "\n",
       "    .dataframe thead th {\n",
       "        text-align: right;\n",
       "    }\n",
       "</style>\n",
       "<table border=\"1\" class=\"dataframe\">\n",
       "  <thead>\n",
       "    <tr style=\"text-align: right;\">\n",
       "      <th></th>\n",
       "      <th>release_year</th>\n",
       "      <th>rating</th>\n",
       "    </tr>\n",
       "  </thead>\n",
       "  <tbody>\n",
       "    <tr>\n",
       "      <th>count</th>\n",
       "      <td>6233.000000</td>\n",
       "      <td>6233.000000</td>\n",
       "    </tr>\n",
       "    <tr>\n",
       "      <th>mean</th>\n",
       "      <td>2013.370448</td>\n",
       "      <td>64.127547</td>\n",
       "    </tr>\n",
       "    <tr>\n",
       "      <th>std</th>\n",
       "      <td>8.768412</td>\n",
       "      <td>19.013894</td>\n",
       "    </tr>\n",
       "    <tr>\n",
       "      <th>min</th>\n",
       "      <td>1925.000000</td>\n",
       "      <td>0.000000</td>\n",
       "    </tr>\n",
       "    <tr>\n",
       "      <th>25%</th>\n",
       "      <td>2013.000000</td>\n",
       "      <td>59.000000</td>\n",
       "    </tr>\n",
       "    <tr>\n",
       "      <th>50%</th>\n",
       "      <td>2016.000000</td>\n",
       "      <td>68.000000</td>\n",
       "    </tr>\n",
       "    <tr>\n",
       "      <th>75%</th>\n",
       "      <td>2018.000000</td>\n",
       "      <td>76.000000</td>\n",
       "    </tr>\n",
       "    <tr>\n",
       "      <th>max</th>\n",
       "      <td>2020.000000</td>\n",
       "      <td>97.000000</td>\n",
       "    </tr>\n",
       "  </tbody>\n",
       "</table>\n",
       "</div>"
      ],
      "text/plain": [
       "       release_year       rating\n",
       "count   6233.000000  6233.000000\n",
       "mean    2013.370448    64.127547\n",
       "std        8.768412    19.013894\n",
       "min     1925.000000     0.000000\n",
       "25%     2013.000000    59.000000\n",
       "50%     2016.000000    68.000000\n",
       "75%     2018.000000    76.000000\n",
       "max     2020.000000    97.000000"
      ]
     },
     "execution_count": 7,
     "metadata": {},
     "output_type": "execute_result"
    }
   ],
   "source": [
    "# Verificação dos mínimos e máximos das colunas release_year e rating\n",
    "# Verification of the minimum and maximum of the release_year and rating columns\n",
    "\n",
    "data[['release_year', 'rating']].describe()"
   ]
  },
  {
   "cell_type": "code",
   "execution_count": 8,
   "metadata": {
    "executionInfo": {
     "elapsed": 15,
     "status": "ok",
     "timestamp": 1661397625048,
     "user": {
      "displayName": "Solano Jacon",
      "userId": "03193064938437592202"
     },
     "user_tz": 180
    },
    "id": "BykVCSxzgx0m"
   },
   "outputs": [],
   "source": [
    "# Aplicação de encoder na coluna type\n",
    "# Encoder application on type column\n",
    "\n",
    "ohe_type = OneHotEncoder(sparse = False)\n",
    "type_encoded = ohe_type.fit_transform(data[['type']])\n",
    "data['type_e_' + ohe_type.categories_[0]] = type_encoded"
   ]
  },
  {
   "cell_type": "code",
   "execution_count": 9,
   "metadata": {
    "colab": {
     "base_uri": "https://localhost:8080/"
    },
    "executionInfo": {
     "elapsed": 16,
     "status": "ok",
     "timestamp": 1661397625049,
     "user": {
      "displayName": "Solano Jacon",
      "userId": "03193064938437592202"
     },
     "user_tz": 180
    },
    "id": "dIQIl3Fugx0m",
    "outputId": "e97fca74-58a3-4c10-d364-803cb1c443c2"
   },
   "outputs": [
    {
     "data": {
      "text/plain": [
       "[array(['Movie', 'TV Show'], dtype=object)]"
      ]
     },
     "execution_count": 9,
     "metadata": {},
     "output_type": "execute_result"
    }
   ],
   "source": [
    "# Verificação das categorias do encoder na coluna type\n",
    "# Checking the encoder categories in the type column\n",
    "\n",
    "ohe_type.categories_"
   ]
  },
  {
   "cell_type": "code",
   "execution_count": 10,
   "metadata": {
    "colab": {
     "base_uri": "https://localhost:8080/"
    },
    "executionInfo": {
     "elapsed": 13,
     "status": "ok",
     "timestamp": 1661397625049,
     "user": {
      "displayName": "Solano Jacon",
      "userId": "03193064938437592202"
     },
     "user_tz": 180
    },
    "id": "JarimSdGgx0m",
    "outputId": "d559e2bc-33b5-41d3-cfc4-266b1d4289ef"
   },
   "outputs": [
    {
     "data": {
      "text/plain": [
       "Index(['show_id', 'type', 'title', 'director', 'cast', 'country', 'date_added',\n",
       "       'release_year', 'rating', 'duration', 'listed_in', 'description',\n",
       "       'type_e_Movie', 'type_e_TV Show'],\n",
       "      dtype='object')"
      ]
     },
     "execution_count": 10,
     "metadata": {},
     "output_type": "execute_result"
    }
   ],
   "source": [
    "# Relação das colunas atuais da tabela\n",
    "# List of current table columns\n",
    "\n",
    "data.columns"
   ]
  },
  {
   "cell_type": "code",
   "execution_count": 11,
   "metadata": {
    "colab": {
     "base_uri": "https://localhost:8080/",
     "height": 206
    },
    "executionInfo": {
     "elapsed": 11,
     "status": "ok",
     "timestamp": 1661397625049,
     "user": {
      "displayName": "Solano Jacon",
      "userId": "03193064938437592202"
     },
     "user_tz": 180
    },
    "id": "cP7VKVEmgx0m",
    "outputId": "e026e3da-9cb2-493b-bfb7-4e8cb4bf0d01"
   },
   "outputs": [
    {
     "data": {
      "text/html": [
       "<div>\n",
       "<style scoped>\n",
       "    .dataframe tbody tr th:only-of-type {\n",
       "        vertical-align: middle;\n",
       "    }\n",
       "\n",
       "    .dataframe tbody tr th {\n",
       "        vertical-align: top;\n",
       "    }\n",
       "\n",
       "    .dataframe thead th {\n",
       "        text-align: right;\n",
       "    }\n",
       "</style>\n",
       "<table border=\"1\" class=\"dataframe\">\n",
       "  <thead>\n",
       "    <tr style=\"text-align: right;\">\n",
       "      <th></th>\n",
       "      <th>type</th>\n",
       "      <th>type_e_Movie</th>\n",
       "      <th>type_e_TV Show</th>\n",
       "    </tr>\n",
       "  </thead>\n",
       "  <tbody>\n",
       "    <tr>\n",
       "      <th>0</th>\n",
       "      <td>Movie</td>\n",
       "      <td>1.0</td>\n",
       "      <td>0.0</td>\n",
       "    </tr>\n",
       "    <tr>\n",
       "      <th>1</th>\n",
       "      <td>Movie</td>\n",
       "      <td>1.0</td>\n",
       "      <td>0.0</td>\n",
       "    </tr>\n",
       "    <tr>\n",
       "      <th>2</th>\n",
       "      <td>TV Show</td>\n",
       "      <td>0.0</td>\n",
       "      <td>1.0</td>\n",
       "    </tr>\n",
       "    <tr>\n",
       "      <th>3</th>\n",
       "      <td>TV Show</td>\n",
       "      <td>0.0</td>\n",
       "      <td>1.0</td>\n",
       "    </tr>\n",
       "    <tr>\n",
       "      <th>4</th>\n",
       "      <td>Movie</td>\n",
       "      <td>1.0</td>\n",
       "      <td>0.0</td>\n",
       "    </tr>\n",
       "  </tbody>\n",
       "</table>\n",
       "</div>"
      ],
      "text/plain": [
       "      type  type_e_Movie  type_e_TV Show\n",
       "0    Movie           1.0             0.0\n",
       "1    Movie           1.0             0.0\n",
       "2  TV Show           0.0             1.0\n",
       "3  TV Show           0.0             1.0\n",
       "4    Movie           1.0             0.0"
      ]
     },
     "execution_count": 11,
     "metadata": {},
     "output_type": "execute_result"
    }
   ],
   "source": [
    "# Verificação das colunas criadas a partir do encoder na coluna type\n",
    "# Check the columns created from the encoder in the type column\n",
    "\n",
    "data[['type', 'type_e_Movie', 'type_e_TV Show']].head()"
   ]
  },
  {
   "cell_type": "code",
   "execution_count": 12,
   "metadata": {
    "executionInfo": {
     "elapsed": 11,
     "status": "ok",
     "timestamp": 1661397625050,
     "user": {
      "displayName": "Solano Jacon",
      "userId": "03193064938437592202"
     },
     "user_tz": 180
    },
    "id": "CxDNA7O7gx0n"
   },
   "outputs": [],
   "source": [
    "# Função para converter letras maiúsculas do texto em minúsculas\n",
    "# Function to convert uppercase letters of text to lowercase\n",
    "\n",
    "def lowercase(text): \n",
    "    lowercased = text.lower() \n",
    "    return lowercased"
   ]
  },
  {
   "cell_type": "code",
   "execution_count": 13,
   "metadata": {
    "executionInfo": {
     "elapsed": 372,
     "status": "ok",
     "timestamp": 1661397625412,
     "user": {
      "displayName": "Solano Jacon",
      "userId": "03193064938437592202"
     },
     "user_tz": 180
    },
    "id": "Z_xisAdHgx0n"
   },
   "outputs": [],
   "source": [
    "# Função para remover números do texto\n",
    "# Function to remove numbers from text\n",
    "\n",
    "def remove_numbers(text):\n",
    "    words_only = ''.join([i for i in text if not i.isdigit()])\n",
    "    return words_only"
   ]
  },
  {
   "cell_type": "code",
   "execution_count": 14,
   "metadata": {
    "executionInfo": {
     "elapsed": 5,
     "status": "ok",
     "timestamp": 1661397625413,
     "user": {
      "displayName": "Solano Jacon",
      "userId": "03193064938437592202"
     },
     "user_tz": 180
    },
    "id": "OlbjS09Agx0n"
   },
   "outputs": [],
   "source": [
    "# Função para remover pontuação do texto\n",
    "# Function to remove punctuation from text\n",
    "\n",
    "def remove_punctuation(text):\n",
    "    for punctuation in string.punctuation:\n",
    "        text = text.replace(punctuation, '')\n",
    "    return text"
   ]
  },
  {
   "cell_type": "code",
   "execution_count": 15,
   "metadata": {
    "executionInfo": {
     "elapsed": 4,
     "status": "ok",
     "timestamp": 1661397625413,
     "user": {
      "displayName": "Solano Jacon",
      "userId": "03193064938437592202"
     },
     "user_tz": 180
    },
    "id": "VqvZ7H-0gx0n"
   },
   "outputs": [],
   "source": [
    "# Função para remover pontuação do texto exceto vírgula\n",
    "# Function to remove punctuation from text except comma\n",
    "\n",
    "punctuation_wo_comma = string.punctuation.replace(',', '')\n",
    "\n",
    "def remove_punctuation_except_comma(text):\n",
    "    for punctuation in punctuation_wo_comma:\n",
    "        text = text.replace(punctuation, '')\n",
    "    return text"
   ]
  },
  {
   "cell_type": "code",
   "execution_count": 16,
   "metadata": {
    "executionInfo": {
     "elapsed": 4,
     "status": "ok",
     "timestamp": 1661397625413,
     "user": {
      "displayName": "Solano Jacon",
      "userId": "03193064938437592202"
     },
     "user_tz": 180
    },
    "id": "suWTSQnJgx0o"
   },
   "outputs": [],
   "source": [
    "# Função para extrair os números da coluna duration\n",
    "# Function to extract the numbers from the duration column\n",
    "\n",
    "def extract_duration_numbers(text, unit):\n",
    "    numbers_only = int(text[:text.find(' ')])\n",
    "    unit_only = text[(text.find(' ') + 1):]\n",
    "    if (unit == 'minutes' and unit_only == 'min') or (unit == 'seasons' and unit_only[:6] == 'Season'):\n",
    "        return numbers_only\n",
    "    else:\n",
    "        return 0"
   ]
  },
  {
   "cell_type": "code",
   "execution_count": 17,
   "metadata": {
    "executionInfo": {
     "elapsed": 5,
     "status": "ok",
     "timestamp": 1661397625414,
     "user": {
      "displayName": "Solano Jacon",
      "userId": "03193064938437592202"
     },
     "user_tz": 180
    },
    "id": "Fa7pvg-rgx0o"
   },
   "outputs": [],
   "source": [
    "# Função para remover stop words do texto\n",
    "# Function to remove stop words from text\n",
    "\n",
    "stop_words = set(stopwords.words('english')) \n",
    "\n",
    "def remove_stopwords(text):\n",
    "    tokenized = word_tokenize(text)\n",
    "    without_stopwords = [word for word in tokenized if not word in stop_words]\n",
    "    return without_stopwords"
   ]
  },
  {
   "cell_type": "code",
   "execution_count": 18,
   "metadata": {
    "executionInfo": {
     "elapsed": 4,
     "status": "ok",
     "timestamp": 1661397625414,
     "user": {
      "displayName": "Solano Jacon",
      "userId": "03193064938437592202"
     },
     "user_tz": 180
    },
    "id": "CkbG7VJlgx0o"
   },
   "outputs": [],
   "source": [
    "# Função para padronizar as palavras do texto\n",
    "# Function to standardize the words of the text\n",
    "\n",
    "def lemma(text):\n",
    "    lemmatizer = WordNetLemmatizer()\n",
    "    lemmatized = [lemmatizer.lemmatize(word) for word in text]\n",
    "    lemmatized_string = \" \".join(lemmatized)\n",
    "    return lemmatized_string"
   ]
  },
  {
   "cell_type": "code",
   "execution_count": 19,
   "metadata": {
    "executionInfo": {
     "elapsed": 6145,
     "status": "ok",
     "timestamp": 1661397631555,
     "user": {
      "displayName": "Solano Jacon",
      "userId": "03193064938437592202"
     },
     "user_tz": 180
    },
    "id": "z-YFMdaXgx0o",
    "scrolled": false
   },
   "outputs": [],
   "source": [
    "# Aplicação dos tratamentos específicos para texto nas colunas de acordo com a necessidade\n",
    "# Application of specific treatments for text in columns as needed\n",
    "\n",
    "# Coluna director\n",
    "# Column director\n",
    "data['director'] = data['director'].dropna().apply(lambda x: lowercase(x))\n",
    "data['director'] = data['director'].dropna().apply(lambda x: remove_numbers(x))\n",
    "data['director'] = data['director'].dropna().apply(lambda x: remove_punctuation_except_comma(x))\n",
    "# Coluna cast\n",
    "# Column cast\n",
    "data['cast'] = data['cast'].apply(lambda x: '' if x == 'bam' else x)\n",
    "data['cast'] = data['cast'].dropna().apply(lambda x: lowercase(x))\n",
    "data['cast'] = data['cast'].dropna().apply(lambda x: remove_numbers(x))\n",
    "data['cast'] = data['cast'].dropna().apply(lambda x: remove_punctuation_except_comma(x))\n",
    "# Coluna country\n",
    "# Column country\n",
    "data['country'] = data['country'].apply(lambda x: '' if x == 'none' else x)\n",
    "data['country'] = data['country'].dropna().apply(lambda x: lowercase(x))\n",
    "data['country'] = data['country'].dropna().apply(lambda x: remove_numbers(x))\n",
    "data['country'] = data['country'].dropna().apply(lambda x: remove_punctuation_except_comma(x))\n",
    "# Coluna rating\n",
    "# Column rating\n",
    "data['rating'] = data['rating'].apply(lambda x: round(x / 10))\n",
    "# Coluna duration\n",
    "# Column duration\n",
    "data['duration'] = data['duration'].dropna().apply(lambda x: lowercase(x))\n",
    "data['duration'] = data['duration'].dropna().apply(lambda x: remove_punctuation(x))\n",
    "data['duration_minutes'] = data['duration'].dropna().apply(lambda x: extract_duration_numbers(x, 'minutes'))\n",
    "data['duration_seasons'] = data['duration'].dropna().apply(lambda x: extract_duration_numbers(x, 'seasons'))\n",
    "# Coluna listed_in\n",
    "# Column listed_in\n",
    "data['listed_in'] = data['listed_in'].dropna().apply(lambda x: lowercase(x))\n",
    "data['listed_in'] = data['listed_in'].dropna().apply(lambda x: remove_numbers(x))\n",
    "data['listed_in'] = data['listed_in'].dropna().apply(lambda x: remove_punctuation_except_comma(x))\n",
    "# Coluna description\n",
    "# Column description\n",
    "data['description'] = data['description'].dropna().apply(lambda x: lowercase(x))\n",
    "data['description'] = data['description'].dropna().apply(lambda x: remove_numbers(x))\n",
    "data['description'] = data['description'].dropna().apply(lambda x: remove_punctuation(x))\n",
    "data['description'] = data['description'].dropna().apply(lambda x: remove_stopwords(x))\n",
    "data['description'] = data['description'].dropna().apply(lambda x: lemma(x))"
   ]
  },
  {
   "cell_type": "code",
   "execution_count": 20,
   "metadata": {
    "colab": {
     "base_uri": "https://localhost:8080/",
     "height": 424
    },
    "executionInfo": {
     "elapsed": 18,
     "status": "ok",
     "timestamp": 1661397631558,
     "user": {
      "displayName": "Solano Jacon",
      "userId": "03193064938437592202"
     },
     "user_tz": 180
    },
    "id": "RRk5XGujgx0p",
    "outputId": "508ea41b-5d89-45b1-bf3b-4abf8e96cc49"
   },
   "outputs": [
    {
     "data": {
      "text/html": [
       "<div>\n",
       "<style scoped>\n",
       "    .dataframe tbody tr th:only-of-type {\n",
       "        vertical-align: middle;\n",
       "    }\n",
       "\n",
       "    .dataframe tbody tr th {\n",
       "        vertical-align: top;\n",
       "    }\n",
       "\n",
       "    .dataframe thead th {\n",
       "        text-align: right;\n",
       "    }\n",
       "</style>\n",
       "<table border=\"1\" class=\"dataframe\">\n",
       "  <thead>\n",
       "    <tr style=\"text-align: right;\">\n",
       "      <th></th>\n",
       "      <th>show_id</th>\n",
       "      <th>type</th>\n",
       "      <th>title</th>\n",
       "      <th>director</th>\n",
       "      <th>cast</th>\n",
       "      <th>country</th>\n",
       "      <th>date_added</th>\n",
       "      <th>release_year</th>\n",
       "      <th>rating</th>\n",
       "      <th>duration</th>\n",
       "      <th>listed_in</th>\n",
       "      <th>description</th>\n",
       "      <th>type_e_Movie</th>\n",
       "      <th>type_e_TV Show</th>\n",
       "      <th>duration_minutes</th>\n",
       "      <th>duration_seasons</th>\n",
       "    </tr>\n",
       "  </thead>\n",
       "  <tbody>\n",
       "    <tr>\n",
       "      <th>0</th>\n",
       "      <td>81145628</td>\n",
       "      <td>Movie</td>\n",
       "      <td>Norm of the North: King Sized Adventure</td>\n",
       "      <td>richard finn, tim maltby</td>\n",
       "      <td>alan marriott, andrew toth, brian dobson, cole...</td>\n",
       "      <td>united states, india, south korea, china</td>\n",
       "      <td>2019-09-09</td>\n",
       "      <td>2019.0</td>\n",
       "      <td>4</td>\n",
       "      <td>90 min</td>\n",
       "      <td>children  family movies, comedies</td>\n",
       "      <td>planning awesome wedding grandfather polar bea...</td>\n",
       "      <td>1.0</td>\n",
       "      <td>0.0</td>\n",
       "      <td>90</td>\n",
       "      <td>0</td>\n",
       "    </tr>\n",
       "    <tr>\n",
       "      <th>1</th>\n",
       "      <td>80117401</td>\n",
       "      <td>Movie</td>\n",
       "      <td>Jandino: Whatever it Takes</td>\n",
       "      <td>NaN</td>\n",
       "      <td>jandino asporaat</td>\n",
       "      <td>united kingdom</td>\n",
       "      <td>2016-09-09</td>\n",
       "      <td>2016.0</td>\n",
       "      <td>5</td>\n",
       "      <td>94 min</td>\n",
       "      <td>standup comedy</td>\n",
       "      <td>jandino asporaat riff challenge raising kid se...</td>\n",
       "      <td>1.0</td>\n",
       "      <td>0.0</td>\n",
       "      <td>94</td>\n",
       "      <td>0</td>\n",
       "    </tr>\n",
       "    <tr>\n",
       "      <th>2</th>\n",
       "      <td>70234439</td>\n",
       "      <td>TV Show</td>\n",
       "      <td>Transformers Prime</td>\n",
       "      <td>NaN</td>\n",
       "      <td>peter cullen, sumalee montano, frank welker, j...</td>\n",
       "      <td>united states</td>\n",
       "      <td>2018-09-08</td>\n",
       "      <td>2013.0</td>\n",
       "      <td>8</td>\n",
       "      <td>1 season</td>\n",
       "      <td>kids tv</td>\n",
       "      <td>help three human ally autobots protect earth o...</td>\n",
       "      <td>0.0</td>\n",
       "      <td>1.0</td>\n",
       "      <td>0</td>\n",
       "      <td>0</td>\n",
       "    </tr>\n",
       "    <tr>\n",
       "      <th>3</th>\n",
       "      <td>80058654</td>\n",
       "      <td>TV Show</td>\n",
       "      <td>Transformers: Robots in Disguise</td>\n",
       "      <td>NaN</td>\n",
       "      <td>will friedle, darren criss, constance zimmer, ...</td>\n",
       "      <td>united states</td>\n",
       "      <td>2018-09-08</td>\n",
       "      <td>2016.0</td>\n",
       "      <td>6</td>\n",
       "      <td>1 season</td>\n",
       "      <td>kids tv</td>\n",
       "      <td>prison ship crash unleashes hundred decepticon...</td>\n",
       "      <td>0.0</td>\n",
       "      <td>1.0</td>\n",
       "      <td>0</td>\n",
       "      <td>0</td>\n",
       "    </tr>\n",
       "    <tr>\n",
       "      <th>4</th>\n",
       "      <td>80125979</td>\n",
       "      <td>Movie</td>\n",
       "      <td>#realityhigh</td>\n",
       "      <td>fernando lebrija</td>\n",
       "      <td>nesta cooper, kate walsh, john michael higgins...</td>\n",
       "      <td>united states</td>\n",
       "      <td>2017-09-08</td>\n",
       "      <td>2017.0</td>\n",
       "      <td>6</td>\n",
       "      <td>99 min</td>\n",
       "      <td>comedies</td>\n",
       "      <td>nerdy high schooler dani finally attracts inte...</td>\n",
       "      <td>1.0</td>\n",
       "      <td>0.0</td>\n",
       "      <td>99</td>\n",
       "      <td>0</td>\n",
       "    </tr>\n",
       "  </tbody>\n",
       "</table>\n",
       "</div>"
      ],
      "text/plain": [
       "    show_id     type                                    title  \\\n",
       "0  81145628    Movie  Norm of the North: King Sized Adventure   \n",
       "1  80117401    Movie               Jandino: Whatever it Takes   \n",
       "2  70234439  TV Show                       Transformers Prime   \n",
       "3  80058654  TV Show         Transformers: Robots in Disguise   \n",
       "4  80125979    Movie                             #realityhigh   \n",
       "\n",
       "                   director  \\\n",
       "0  richard finn, tim maltby   \n",
       "1                       NaN   \n",
       "2                       NaN   \n",
       "3                       NaN   \n",
       "4          fernando lebrija   \n",
       "\n",
       "                                                cast  \\\n",
       "0  alan marriott, andrew toth, brian dobson, cole...   \n",
       "1                                   jandino asporaat   \n",
       "2  peter cullen, sumalee montano, frank welker, j...   \n",
       "3  will friedle, darren criss, constance zimmer, ...   \n",
       "4  nesta cooper, kate walsh, john michael higgins...   \n",
       "\n",
       "                                    country date_added  release_year  rating  \\\n",
       "0  united states, india, south korea, china 2019-09-09        2019.0       4   \n",
       "1                            united kingdom 2016-09-09        2016.0       5   \n",
       "2                             united states 2018-09-08        2013.0       8   \n",
       "3                             united states 2018-09-08        2016.0       6   \n",
       "4                             united states 2017-09-08        2017.0       6   \n",
       "\n",
       "   duration                          listed_in  \\\n",
       "0    90 min  children  family movies, comedies   \n",
       "1    94 min                     standup comedy   \n",
       "2  1 season                            kids tv   \n",
       "3  1 season                            kids tv   \n",
       "4    99 min                           comedies   \n",
       "\n",
       "                                         description  type_e_Movie  \\\n",
       "0  planning awesome wedding grandfather polar bea...           1.0   \n",
       "1  jandino asporaat riff challenge raising kid se...           1.0   \n",
       "2  help three human ally autobots protect earth o...           0.0   \n",
       "3  prison ship crash unleashes hundred decepticon...           0.0   \n",
       "4  nerdy high schooler dani finally attracts inte...           1.0   \n",
       "\n",
       "   type_e_TV Show  duration_minutes  duration_seasons  \n",
       "0             0.0                90                 0  \n",
       "1             0.0                94                 0  \n",
       "2             1.0                 0                 0  \n",
       "3             1.0                 0                 0  \n",
       "4             0.0                99                 0  "
      ]
     },
     "execution_count": 20,
     "metadata": {},
     "output_type": "execute_result"
    }
   ],
   "source": [
    "# Apresentação da tabela tratada\n",
    "# Presentation of the treated table\n",
    "\n",
    "data.head()"
   ]
  },
  {
   "cell_type": "markdown",
   "metadata": {
    "id": "nYtgwqY2gx0p"
   },
   "source": [
    "## Feature engineering / *Feature engineering*"
   ]
  },
  {
   "cell_type": "code",
   "execution_count": 21,
   "metadata": {
    "colab": {
     "base_uri": "https://localhost:8080/",
     "height": 297
    },
    "executionInfo": {
     "elapsed": 15,
     "status": "ok",
     "timestamp": 1661397631559,
     "user": {
      "displayName": "Solano Jacon",
      "userId": "03193064938437592202"
     },
     "user_tz": 180
    },
    "id": "8-Fn_bLLgx0p",
    "outputId": "f07f39bb-2c70-40aa-d0df-a6624f127283",
    "scrolled": false
   },
   "outputs": [
    {
     "data": {
      "text/html": [
       "<div>\n",
       "<style scoped>\n",
       "    .dataframe tbody tr th:only-of-type {\n",
       "        vertical-align: middle;\n",
       "    }\n",
       "\n",
       "    .dataframe tbody tr th {\n",
       "        vertical-align: top;\n",
       "    }\n",
       "\n",
       "    .dataframe thead th {\n",
       "        text-align: right;\n",
       "    }\n",
       "</style>\n",
       "<table border=\"1\" class=\"dataframe\">\n",
       "  <thead>\n",
       "    <tr style=\"text-align: right;\">\n",
       "      <th></th>\n",
       "      <th>a l vijay</th>\n",
       "      <th>a salaam</th>\n",
       "      <th>aadish keluskar</th>\n",
       "      <th>aamir bashir</th>\n",
       "      <th>aamir khan</th>\n",
       "      <th>aanand rai</th>\n",
       "      <th>aaron burns</th>\n",
       "      <th>aaron hancox</th>\n",
       "      <th>aaron hann</th>\n",
       "      <th>aaron moorhead</th>\n",
       "      <th>...</th>\n",
       "      <th>zak hilditch</th>\n",
       "      <th>zakariya</th>\n",
       "      <th>zatella beatty</th>\n",
       "      <th>zeke norton</th>\n",
       "      <th>zhang yimou</th>\n",
       "      <th>ziga virc</th>\n",
       "      <th>zoe berriatua</th>\n",
       "      <th>zoe listerjones</th>\n",
       "      <th>zoya akhtar</th>\n",
       "      <th>zune kwok</th>\n",
       "    </tr>\n",
       "  </thead>\n",
       "  <tbody>\n",
       "    <tr>\n",
       "      <th>0</th>\n",
       "      <td>0.0</td>\n",
       "      <td>0.0</td>\n",
       "      <td>0.0</td>\n",
       "      <td>0.0</td>\n",
       "      <td>0.0</td>\n",
       "      <td>0.0</td>\n",
       "      <td>0.0</td>\n",
       "      <td>0.0</td>\n",
       "      <td>0.0</td>\n",
       "      <td>0.0</td>\n",
       "      <td>...</td>\n",
       "      <td>0.0</td>\n",
       "      <td>0.0</td>\n",
       "      <td>0.0</td>\n",
       "      <td>0.0</td>\n",
       "      <td>0.0</td>\n",
       "      <td>0.0</td>\n",
       "      <td>0.0</td>\n",
       "      <td>0.0</td>\n",
       "      <td>0.0</td>\n",
       "      <td>0.0</td>\n",
       "    </tr>\n",
       "    <tr>\n",
       "      <th>1</th>\n",
       "      <td>0.0</td>\n",
       "      <td>0.0</td>\n",
       "      <td>0.0</td>\n",
       "      <td>0.0</td>\n",
       "      <td>0.0</td>\n",
       "      <td>0.0</td>\n",
       "      <td>0.0</td>\n",
       "      <td>0.0</td>\n",
       "      <td>0.0</td>\n",
       "      <td>0.0</td>\n",
       "      <td>...</td>\n",
       "      <td>0.0</td>\n",
       "      <td>0.0</td>\n",
       "      <td>0.0</td>\n",
       "      <td>0.0</td>\n",
       "      <td>0.0</td>\n",
       "      <td>0.0</td>\n",
       "      <td>0.0</td>\n",
       "      <td>0.0</td>\n",
       "      <td>0.0</td>\n",
       "      <td>0.0</td>\n",
       "    </tr>\n",
       "    <tr>\n",
       "      <th>2</th>\n",
       "      <td>0.0</td>\n",
       "      <td>0.0</td>\n",
       "      <td>0.0</td>\n",
       "      <td>0.0</td>\n",
       "      <td>0.0</td>\n",
       "      <td>0.0</td>\n",
       "      <td>0.0</td>\n",
       "      <td>0.0</td>\n",
       "      <td>0.0</td>\n",
       "      <td>0.0</td>\n",
       "      <td>...</td>\n",
       "      <td>0.0</td>\n",
       "      <td>0.0</td>\n",
       "      <td>0.0</td>\n",
       "      <td>0.0</td>\n",
       "      <td>0.0</td>\n",
       "      <td>0.0</td>\n",
       "      <td>0.0</td>\n",
       "      <td>0.0</td>\n",
       "      <td>0.0</td>\n",
       "      <td>0.0</td>\n",
       "    </tr>\n",
       "    <tr>\n",
       "      <th>3</th>\n",
       "      <td>0.0</td>\n",
       "      <td>0.0</td>\n",
       "      <td>0.0</td>\n",
       "      <td>0.0</td>\n",
       "      <td>0.0</td>\n",
       "      <td>0.0</td>\n",
       "      <td>0.0</td>\n",
       "      <td>0.0</td>\n",
       "      <td>0.0</td>\n",
       "      <td>0.0</td>\n",
       "      <td>...</td>\n",
       "      <td>0.0</td>\n",
       "      <td>0.0</td>\n",
       "      <td>0.0</td>\n",
       "      <td>0.0</td>\n",
       "      <td>0.0</td>\n",
       "      <td>0.0</td>\n",
       "      <td>0.0</td>\n",
       "      <td>0.0</td>\n",
       "      <td>0.0</td>\n",
       "      <td>0.0</td>\n",
       "    </tr>\n",
       "    <tr>\n",
       "      <th>4</th>\n",
       "      <td>0.0</td>\n",
       "      <td>0.0</td>\n",
       "      <td>0.0</td>\n",
       "      <td>0.0</td>\n",
       "      <td>0.0</td>\n",
       "      <td>0.0</td>\n",
       "      <td>0.0</td>\n",
       "      <td>0.0</td>\n",
       "      <td>0.0</td>\n",
       "      <td>0.0</td>\n",
       "      <td>...</td>\n",
       "      <td>0.0</td>\n",
       "      <td>0.0</td>\n",
       "      <td>0.0</td>\n",
       "      <td>0.0</td>\n",
       "      <td>0.0</td>\n",
       "      <td>0.0</td>\n",
       "      <td>0.0</td>\n",
       "      <td>0.0</td>\n",
       "      <td>0.0</td>\n",
       "      <td>0.0</td>\n",
       "    </tr>\n",
       "  </tbody>\n",
       "</table>\n",
       "<p>5 rows × 3666 columns</p>\n",
       "</div>"
      ],
      "text/plain": [
       "   a l vijay  a salaam  aadish keluskar  aamir bashir  aamir khan  aanand rai  \\\n",
       "0        0.0       0.0              0.0           0.0         0.0         0.0   \n",
       "1        0.0       0.0              0.0           0.0         0.0         0.0   \n",
       "2        0.0       0.0              0.0           0.0         0.0         0.0   \n",
       "3        0.0       0.0              0.0           0.0         0.0         0.0   \n",
       "4        0.0       0.0              0.0           0.0         0.0         0.0   \n",
       "\n",
       "   aaron burns  aaron hancox  aaron hann  aaron moorhead  ...  zak hilditch  \\\n",
       "0          0.0           0.0         0.0             0.0  ...           0.0   \n",
       "1          0.0           0.0         0.0             0.0  ...           0.0   \n",
       "2          0.0           0.0         0.0             0.0  ...           0.0   \n",
       "3          0.0           0.0         0.0             0.0  ...           0.0   \n",
       "4          0.0           0.0         0.0             0.0  ...           0.0   \n",
       "\n",
       "   zakariya  zatella beatty  zeke norton  zhang yimou  ziga virc  \\\n",
       "0       0.0             0.0          0.0          0.0        0.0   \n",
       "1       0.0             0.0          0.0          0.0        0.0   \n",
       "2       0.0             0.0          0.0          0.0        0.0   \n",
       "3       0.0             0.0          0.0          0.0        0.0   \n",
       "4       0.0             0.0          0.0          0.0        0.0   \n",
       "\n",
       "   zoe berriatua  zoe listerjones  zoya akhtar  zune kwok  \n",
       "0            0.0              0.0          0.0        0.0  \n",
       "1            0.0              0.0          0.0        0.0  \n",
       "2            0.0              0.0          0.0        0.0  \n",
       "3            0.0              0.0          0.0        0.0  \n",
       "4            0.0              0.0          0.0        0.0  \n",
       "\n",
       "[5 rows x 3666 columns]"
      ]
     },
     "execution_count": 21,
     "metadata": {},
     "output_type": "execute_result"
    }
   ],
   "source": [
    "# Geração da matriz de importância por diretor a partir da coluna director\n",
    "# Generation of the importance matrix by director from the director column\n",
    "\n",
    "tf_idf_vectorizer = TfidfVectorizer(strip_accents='unicode', token_pattern=r\"(?u)[a-zA-Z][a-z ]+\")\n",
    "\n",
    "X = tf_idf_vectorizer.fit_transform(data['director'].fillna(''))\n",
    "\n",
    "director_vectorized = pd.DataFrame(X.toarray(), columns=tf_idf_vectorizer.get_feature_names())\n",
    "director_vectorized.head()"
   ]
  },
  {
   "cell_type": "code",
   "execution_count": 22,
   "metadata": {
    "colab": {
     "base_uri": "https://localhost:8080/",
     "height": 314
    },
    "executionInfo": {
     "elapsed": 1173,
     "status": "ok",
     "timestamp": 1661397632718,
     "user": {
      "displayName": "Solano Jacon",
      "userId": "03193064938437592202"
     },
     "user_tz": 180
    },
    "id": "KzxtIOuKgx0q",
    "outputId": "ce35db79-c601-4212-86c9-f00192db65a8"
   },
   "outputs": [
    {
     "data": {
      "text/html": [
       "<div>\n",
       "<style scoped>\n",
       "    .dataframe tbody tr th:only-of-type {\n",
       "        vertical-align: middle;\n",
       "    }\n",
       "\n",
       "    .dataframe tbody tr th {\n",
       "        vertical-align: top;\n",
       "    }\n",
       "\n",
       "    .dataframe thead th {\n",
       "        text-align: right;\n",
       "    }\n",
       "</style>\n",
       "<table border=\"1\" class=\"dataframe\">\n",
       "  <thead>\n",
       "    <tr style=\"text-align: right;\">\n",
       "      <th></th>\n",
       "      <th>a boogie wit tha hoodie</th>\n",
       "      <th>a murat ozgen</th>\n",
       "      <th>aabhas yadav</th>\n",
       "      <th>aachal munjal</th>\n",
       "      <th>aadarsh balakrishna</th>\n",
       "      <th>aadhi</th>\n",
       "      <th>aaditi pohankar</th>\n",
       "      <th>aaditya pratap singh</th>\n",
       "      <th>aadukalam naren</th>\n",
       "      <th>aadya bedi</th>\n",
       "      <th>...</th>\n",
       "      <th>zul vellani</th>\n",
       "      <th>zulay henao</th>\n",
       "      <th>zurawski</th>\n",
       "      <th>zuzanna szadkowski</th>\n",
       "      <th>zwelakhe mtsaka</th>\n",
       "      <th>zydrunas savickas</th>\n",
       "      <th>zygmunt hubner</th>\n",
       "      <th>zygmunt zintel</th>\n",
       "      <th>zynnell zuh</th>\n",
       "      <th>zyon allen</th>\n",
       "    </tr>\n",
       "  </thead>\n",
       "  <tbody>\n",
       "    <tr>\n",
       "      <th>0</th>\n",
       "      <td>0.0</td>\n",
       "      <td>0.0</td>\n",
       "      <td>0.0</td>\n",
       "      <td>0.0</td>\n",
       "      <td>0.0</td>\n",
       "      <td>0.0</td>\n",
       "      <td>0.0</td>\n",
       "      <td>0.0</td>\n",
       "      <td>0.0</td>\n",
       "      <td>0.0</td>\n",
       "      <td>...</td>\n",
       "      <td>0.0</td>\n",
       "      <td>0.0</td>\n",
       "      <td>0.0</td>\n",
       "      <td>0.0</td>\n",
       "      <td>0.0</td>\n",
       "      <td>0.0</td>\n",
       "      <td>0.0</td>\n",
       "      <td>0.0</td>\n",
       "      <td>0.0</td>\n",
       "      <td>0.0</td>\n",
       "    </tr>\n",
       "    <tr>\n",
       "      <th>1</th>\n",
       "      <td>0.0</td>\n",
       "      <td>0.0</td>\n",
       "      <td>0.0</td>\n",
       "      <td>0.0</td>\n",
       "      <td>0.0</td>\n",
       "      <td>0.0</td>\n",
       "      <td>0.0</td>\n",
       "      <td>0.0</td>\n",
       "      <td>0.0</td>\n",
       "      <td>0.0</td>\n",
       "      <td>...</td>\n",
       "      <td>0.0</td>\n",
       "      <td>0.0</td>\n",
       "      <td>0.0</td>\n",
       "      <td>0.0</td>\n",
       "      <td>0.0</td>\n",
       "      <td>0.0</td>\n",
       "      <td>0.0</td>\n",
       "      <td>0.0</td>\n",
       "      <td>0.0</td>\n",
       "      <td>0.0</td>\n",
       "    </tr>\n",
       "    <tr>\n",
       "      <th>2</th>\n",
       "      <td>0.0</td>\n",
       "      <td>0.0</td>\n",
       "      <td>0.0</td>\n",
       "      <td>0.0</td>\n",
       "      <td>0.0</td>\n",
       "      <td>0.0</td>\n",
       "      <td>0.0</td>\n",
       "      <td>0.0</td>\n",
       "      <td>0.0</td>\n",
       "      <td>0.0</td>\n",
       "      <td>...</td>\n",
       "      <td>0.0</td>\n",
       "      <td>0.0</td>\n",
       "      <td>0.0</td>\n",
       "      <td>0.0</td>\n",
       "      <td>0.0</td>\n",
       "      <td>0.0</td>\n",
       "      <td>0.0</td>\n",
       "      <td>0.0</td>\n",
       "      <td>0.0</td>\n",
       "      <td>0.0</td>\n",
       "    </tr>\n",
       "    <tr>\n",
       "      <th>3</th>\n",
       "      <td>0.0</td>\n",
       "      <td>0.0</td>\n",
       "      <td>0.0</td>\n",
       "      <td>0.0</td>\n",
       "      <td>0.0</td>\n",
       "      <td>0.0</td>\n",
       "      <td>0.0</td>\n",
       "      <td>0.0</td>\n",
       "      <td>0.0</td>\n",
       "      <td>0.0</td>\n",
       "      <td>...</td>\n",
       "      <td>0.0</td>\n",
       "      <td>0.0</td>\n",
       "      <td>0.0</td>\n",
       "      <td>0.0</td>\n",
       "      <td>0.0</td>\n",
       "      <td>0.0</td>\n",
       "      <td>0.0</td>\n",
       "      <td>0.0</td>\n",
       "      <td>0.0</td>\n",
       "      <td>0.0</td>\n",
       "    </tr>\n",
       "    <tr>\n",
       "      <th>4</th>\n",
       "      <td>0.0</td>\n",
       "      <td>0.0</td>\n",
       "      <td>0.0</td>\n",
       "      <td>0.0</td>\n",
       "      <td>0.0</td>\n",
       "      <td>0.0</td>\n",
       "      <td>0.0</td>\n",
       "      <td>0.0</td>\n",
       "      <td>0.0</td>\n",
       "      <td>0.0</td>\n",
       "      <td>...</td>\n",
       "      <td>0.0</td>\n",
       "      <td>0.0</td>\n",
       "      <td>0.0</td>\n",
       "      <td>0.0</td>\n",
       "      <td>0.0</td>\n",
       "      <td>0.0</td>\n",
       "      <td>0.0</td>\n",
       "      <td>0.0</td>\n",
       "      <td>0.0</td>\n",
       "      <td>0.0</td>\n",
       "    </tr>\n",
       "  </tbody>\n",
       "</table>\n",
       "<p>5 rows × 27452 columns</p>\n",
       "</div>"
      ],
      "text/plain": [
       "   a boogie wit tha hoodie  a murat ozgen  aabhas yadav  aachal munjal  \\\n",
       "0                      0.0            0.0           0.0            0.0   \n",
       "1                      0.0            0.0           0.0            0.0   \n",
       "2                      0.0            0.0           0.0            0.0   \n",
       "3                      0.0            0.0           0.0            0.0   \n",
       "4                      0.0            0.0           0.0            0.0   \n",
       "\n",
       "   aadarsh balakrishna  aadhi  aaditi pohankar  aaditya pratap singh  \\\n",
       "0                  0.0    0.0              0.0                   0.0   \n",
       "1                  0.0    0.0              0.0                   0.0   \n",
       "2                  0.0    0.0              0.0                   0.0   \n",
       "3                  0.0    0.0              0.0                   0.0   \n",
       "4                  0.0    0.0              0.0                   0.0   \n",
       "\n",
       "   aadukalam naren  aadya bedi  ...  zul vellani  zulay henao  zurawski  \\\n",
       "0              0.0         0.0  ...          0.0          0.0       0.0   \n",
       "1              0.0         0.0  ...          0.0          0.0       0.0   \n",
       "2              0.0         0.0  ...          0.0          0.0       0.0   \n",
       "3              0.0         0.0  ...          0.0          0.0       0.0   \n",
       "4              0.0         0.0  ...          0.0          0.0       0.0   \n",
       "\n",
       "   zuzanna szadkowski  zwelakhe mtsaka  zydrunas savickas  zygmunt hubner  \\\n",
       "0                 0.0              0.0                0.0             0.0   \n",
       "1                 0.0              0.0                0.0             0.0   \n",
       "2                 0.0              0.0                0.0             0.0   \n",
       "3                 0.0              0.0                0.0             0.0   \n",
       "4                 0.0              0.0                0.0             0.0   \n",
       "\n",
       "   zygmunt zintel  zynnell zuh  zyon allen  \n",
       "0             0.0          0.0         0.0  \n",
       "1             0.0          0.0         0.0  \n",
       "2             0.0          0.0         0.0  \n",
       "3             0.0          0.0         0.0  \n",
       "4             0.0          0.0         0.0  \n",
       "\n",
       "[5 rows x 27452 columns]"
      ]
     },
     "execution_count": 22,
     "metadata": {},
     "output_type": "execute_result"
    }
   ],
   "source": [
    "# Geração da matriz de importância por ator a partir da coluna cast\n",
    "# Generation of the importance matrix per actor from the cast column\n",
    "\n",
    "tf_idf_vectorizer = TfidfVectorizer(strip_accents='unicode', token_pattern=r\"(?u)[a-zA-Z][a-z ]+\")\n",
    "\n",
    "X = tf_idf_vectorizer.fit_transform(data['cast'].fillna(''))\n",
    "\n",
    "cast_vectorized = pd.DataFrame(X.toarray(), columns=tf_idf_vectorizer.get_feature_names())\n",
    "cast_vectorized.head()"
   ]
  },
  {
   "cell_type": "code",
   "execution_count": 23,
   "metadata": {
    "colab": {
     "base_uri": "https://localhost:8080/",
     "height": 297
    },
    "executionInfo": {
     "elapsed": 10,
     "status": "ok",
     "timestamp": 1661397632718,
     "user": {
      "displayName": "Solano Jacon",
      "userId": "03193064938437592202"
     },
     "user_tz": 180
    },
    "id": "ZgkAavaPgx0q",
    "outputId": "9f776535-b6a7-46d9-fe53-c5f0d377dbc8"
   },
   "outputs": [
    {
     "data": {
      "text/html": [
       "<div>\n",
       "<style scoped>\n",
       "    .dataframe tbody tr th:only-of-type {\n",
       "        vertical-align: middle;\n",
       "    }\n",
       "\n",
       "    .dataframe tbody tr th {\n",
       "        vertical-align: top;\n",
       "    }\n",
       "\n",
       "    .dataframe thead th {\n",
       "        text-align: right;\n",
       "    }\n",
       "</style>\n",
       "<table border=\"1\" class=\"dataframe\">\n",
       "  <thead>\n",
       "    <tr style=\"text-align: right;\">\n",
       "      <th></th>\n",
       "      <th>afghanistan</th>\n",
       "      <th>albania</th>\n",
       "      <th>argentina</th>\n",
       "      <th>armenia</th>\n",
       "      <th>australia</th>\n",
       "      <th>austria</th>\n",
       "      <th>azerbaijan</th>\n",
       "      <th>bangladesh</th>\n",
       "      <th>belgium</th>\n",
       "      <th>bermuda</th>\n",
       "      <th>...</th>\n",
       "      <th>ukraine</th>\n",
       "      <th>united arab emirates</th>\n",
       "      <th>united kingdom</th>\n",
       "      <th>united states</th>\n",
       "      <th>uruguay</th>\n",
       "      <th>vatican city</th>\n",
       "      <th>venezuela</th>\n",
       "      <th>vietnam</th>\n",
       "      <th>west germany</th>\n",
       "      <th>zimbabwe</th>\n",
       "    </tr>\n",
       "  </thead>\n",
       "  <tbody>\n",
       "    <tr>\n",
       "      <th>0</th>\n",
       "      <td>0.0</td>\n",
       "      <td>0.0</td>\n",
       "      <td>0.0</td>\n",
       "      <td>0.0</td>\n",
       "      <td>0.0</td>\n",
       "      <td>0.0</td>\n",
       "      <td>0.0</td>\n",
       "      <td>0.0</td>\n",
       "      <td>0.0</td>\n",
       "      <td>0.0</td>\n",
       "      <td>...</td>\n",
       "      <td>0.0</td>\n",
       "      <td>0.0</td>\n",
       "      <td>0.0</td>\n",
       "      <td>0.244531</td>\n",
       "      <td>0.0</td>\n",
       "      <td>0.0</td>\n",
       "      <td>0.0</td>\n",
       "      <td>0.0</td>\n",
       "      <td>0.0</td>\n",
       "      <td>0.0</td>\n",
       "    </tr>\n",
       "    <tr>\n",
       "      <th>1</th>\n",
       "      <td>0.0</td>\n",
       "      <td>0.0</td>\n",
       "      <td>0.0</td>\n",
       "      <td>0.0</td>\n",
       "      <td>0.0</td>\n",
       "      <td>0.0</td>\n",
       "      <td>0.0</td>\n",
       "      <td>0.0</td>\n",
       "      <td>0.0</td>\n",
       "      <td>0.0</td>\n",
       "      <td>...</td>\n",
       "      <td>0.0</td>\n",
       "      <td>0.0</td>\n",
       "      <td>1.0</td>\n",
       "      <td>0.000000</td>\n",
       "      <td>0.0</td>\n",
       "      <td>0.0</td>\n",
       "      <td>0.0</td>\n",
       "      <td>0.0</td>\n",
       "      <td>0.0</td>\n",
       "      <td>0.0</td>\n",
       "    </tr>\n",
       "    <tr>\n",
       "      <th>2</th>\n",
       "      <td>0.0</td>\n",
       "      <td>0.0</td>\n",
       "      <td>0.0</td>\n",
       "      <td>0.0</td>\n",
       "      <td>0.0</td>\n",
       "      <td>0.0</td>\n",
       "      <td>0.0</td>\n",
       "      <td>0.0</td>\n",
       "      <td>0.0</td>\n",
       "      <td>0.0</td>\n",
       "      <td>...</td>\n",
       "      <td>0.0</td>\n",
       "      <td>0.0</td>\n",
       "      <td>0.0</td>\n",
       "      <td>1.000000</td>\n",
       "      <td>0.0</td>\n",
       "      <td>0.0</td>\n",
       "      <td>0.0</td>\n",
       "      <td>0.0</td>\n",
       "      <td>0.0</td>\n",
       "      <td>0.0</td>\n",
       "    </tr>\n",
       "    <tr>\n",
       "      <th>3</th>\n",
       "      <td>0.0</td>\n",
       "      <td>0.0</td>\n",
       "      <td>0.0</td>\n",
       "      <td>0.0</td>\n",
       "      <td>0.0</td>\n",
       "      <td>0.0</td>\n",
       "      <td>0.0</td>\n",
       "      <td>0.0</td>\n",
       "      <td>0.0</td>\n",
       "      <td>0.0</td>\n",
       "      <td>...</td>\n",
       "      <td>0.0</td>\n",
       "      <td>0.0</td>\n",
       "      <td>0.0</td>\n",
       "      <td>1.000000</td>\n",
       "      <td>0.0</td>\n",
       "      <td>0.0</td>\n",
       "      <td>0.0</td>\n",
       "      <td>0.0</td>\n",
       "      <td>0.0</td>\n",
       "      <td>0.0</td>\n",
       "    </tr>\n",
       "    <tr>\n",
       "      <th>4</th>\n",
       "      <td>0.0</td>\n",
       "      <td>0.0</td>\n",
       "      <td>0.0</td>\n",
       "      <td>0.0</td>\n",
       "      <td>0.0</td>\n",
       "      <td>0.0</td>\n",
       "      <td>0.0</td>\n",
       "      <td>0.0</td>\n",
       "      <td>0.0</td>\n",
       "      <td>0.0</td>\n",
       "      <td>...</td>\n",
       "      <td>0.0</td>\n",
       "      <td>0.0</td>\n",
       "      <td>0.0</td>\n",
       "      <td>1.000000</td>\n",
       "      <td>0.0</td>\n",
       "      <td>0.0</td>\n",
       "      <td>0.0</td>\n",
       "      <td>0.0</td>\n",
       "      <td>0.0</td>\n",
       "      <td>0.0</td>\n",
       "    </tr>\n",
       "  </tbody>\n",
       "</table>\n",
       "<p>5 rows × 110 columns</p>\n",
       "</div>"
      ],
      "text/plain": [
       "   afghanistan  albania  argentina  armenia  australia  austria  azerbaijan  \\\n",
       "0          0.0      0.0        0.0      0.0        0.0      0.0         0.0   \n",
       "1          0.0      0.0        0.0      0.0        0.0      0.0         0.0   \n",
       "2          0.0      0.0        0.0      0.0        0.0      0.0         0.0   \n",
       "3          0.0      0.0        0.0      0.0        0.0      0.0         0.0   \n",
       "4          0.0      0.0        0.0      0.0        0.0      0.0         0.0   \n",
       "\n",
       "   bangladesh  belgium  bermuda  ...  ukraine  united arab emirates  \\\n",
       "0         0.0      0.0      0.0  ...      0.0                   0.0   \n",
       "1         0.0      0.0      0.0  ...      0.0                   0.0   \n",
       "2         0.0      0.0      0.0  ...      0.0                   0.0   \n",
       "3         0.0      0.0      0.0  ...      0.0                   0.0   \n",
       "4         0.0      0.0      0.0  ...      0.0                   0.0   \n",
       "\n",
       "   united kingdom  united states  uruguay  vatican city  venezuela  vietnam  \\\n",
       "0             0.0       0.244531      0.0           0.0        0.0      0.0   \n",
       "1             1.0       0.000000      0.0           0.0        0.0      0.0   \n",
       "2             0.0       1.000000      0.0           0.0        0.0      0.0   \n",
       "3             0.0       1.000000      0.0           0.0        0.0      0.0   \n",
       "4             0.0       1.000000      0.0           0.0        0.0      0.0   \n",
       "\n",
       "   west germany  zimbabwe  \n",
       "0           0.0       0.0  \n",
       "1           0.0       0.0  \n",
       "2           0.0       0.0  \n",
       "3           0.0       0.0  \n",
       "4           0.0       0.0  \n",
       "\n",
       "[5 rows x 110 columns]"
      ]
     },
     "execution_count": 23,
     "metadata": {},
     "output_type": "execute_result"
    }
   ],
   "source": [
    "# Geração da matriz de importância por país a partir da coluna country\n",
    "# Generation of the importance matrix by country from the country column\n",
    "\n",
    "tf_idf_vectorizer = TfidfVectorizer(strip_accents='unicode', token_pattern=r\"(?u)[a-zA-Z][a-z ]+\")\n",
    "\n",
    "X = tf_idf_vectorizer.fit_transform(data['country'].fillna(''))\n",
    "\n",
    "country_vectorized = pd.DataFrame(X.toarray(), columns=tf_idf_vectorizer.get_feature_names())\n",
    "country_vectorized.head()"
   ]
  },
  {
   "cell_type": "code",
   "execution_count": 24,
   "metadata": {
    "colab": {
     "base_uri": "https://localhost:8080/",
     "height": 297
    },
    "executionInfo": {
     "elapsed": 7,
     "status": "ok",
     "timestamp": 1661397632719,
     "user": {
      "displayName": "Solano Jacon",
      "userId": "03193064938437592202"
     },
     "user_tz": 180
    },
    "id": "IL5BmWoIgx0q",
    "outputId": "8e4f6a7d-acb0-480b-80b2-fc5eed29f48d"
   },
   "outputs": [
    {
     "data": {
      "text/html": [
       "<div>\n",
       "<style scoped>\n",
       "    .dataframe tbody tr th:only-of-type {\n",
       "        vertical-align: middle;\n",
       "    }\n",
       "\n",
       "    .dataframe tbody tr th {\n",
       "        vertical-align: top;\n",
       "    }\n",
       "\n",
       "    .dataframe thead th {\n",
       "        text-align: right;\n",
       "    }\n",
       "</style>\n",
       "<table border=\"1\" class=\"dataframe\">\n",
       "  <thead>\n",
       "    <tr style=\"text-align: right;\">\n",
       "      <th></th>\n",
       "      <th>action  adventure</th>\n",
       "      <th>anime features</th>\n",
       "      <th>anime series</th>\n",
       "      <th>british tv shows</th>\n",
       "      <th>children  family movies</th>\n",
       "      <th>classic  cult tv</th>\n",
       "      <th>classic movies</th>\n",
       "      <th>comedies</th>\n",
       "      <th>crime tv shows</th>\n",
       "      <th>cult movies</th>\n",
       "      <th>...</th>\n",
       "      <th>teen tv shows</th>\n",
       "      <th>thrillers</th>\n",
       "      <th>tv action  adventure</th>\n",
       "      <th>tv comedies</th>\n",
       "      <th>tv dramas</th>\n",
       "      <th>tv horror</th>\n",
       "      <th>tv mysteries</th>\n",
       "      <th>tv scifi  fantasy</th>\n",
       "      <th>tv shows</th>\n",
       "      <th>tv thrillers</th>\n",
       "    </tr>\n",
       "  </thead>\n",
       "  <tbody>\n",
       "    <tr>\n",
       "      <th>0</th>\n",
       "      <td>0.0</td>\n",
       "      <td>0.0</td>\n",
       "      <td>0.0</td>\n",
       "      <td>0.0</td>\n",
       "      <td>0.812963</td>\n",
       "      <td>0.0</td>\n",
       "      <td>0.0</td>\n",
       "      <td>0.582315</td>\n",
       "      <td>0.0</td>\n",
       "      <td>0.0</td>\n",
       "      <td>...</td>\n",
       "      <td>0.0</td>\n",
       "      <td>0.0</td>\n",
       "      <td>0.0</td>\n",
       "      <td>0.0</td>\n",
       "      <td>0.0</td>\n",
       "      <td>0.0</td>\n",
       "      <td>0.0</td>\n",
       "      <td>0.0</td>\n",
       "      <td>0.0</td>\n",
       "      <td>0.0</td>\n",
       "    </tr>\n",
       "    <tr>\n",
       "      <th>1</th>\n",
       "      <td>0.0</td>\n",
       "      <td>0.0</td>\n",
       "      <td>0.0</td>\n",
       "      <td>0.0</td>\n",
       "      <td>0.000000</td>\n",
       "      <td>0.0</td>\n",
       "      <td>0.0</td>\n",
       "      <td>0.000000</td>\n",
       "      <td>0.0</td>\n",
       "      <td>0.0</td>\n",
       "      <td>...</td>\n",
       "      <td>0.0</td>\n",
       "      <td>0.0</td>\n",
       "      <td>0.0</td>\n",
       "      <td>0.0</td>\n",
       "      <td>0.0</td>\n",
       "      <td>0.0</td>\n",
       "      <td>0.0</td>\n",
       "      <td>0.0</td>\n",
       "      <td>0.0</td>\n",
       "      <td>0.0</td>\n",
       "    </tr>\n",
       "    <tr>\n",
       "      <th>2</th>\n",
       "      <td>0.0</td>\n",
       "      <td>0.0</td>\n",
       "      <td>0.0</td>\n",
       "      <td>0.0</td>\n",
       "      <td>0.000000</td>\n",
       "      <td>0.0</td>\n",
       "      <td>0.0</td>\n",
       "      <td>0.000000</td>\n",
       "      <td>0.0</td>\n",
       "      <td>0.0</td>\n",
       "      <td>...</td>\n",
       "      <td>0.0</td>\n",
       "      <td>0.0</td>\n",
       "      <td>0.0</td>\n",
       "      <td>0.0</td>\n",
       "      <td>0.0</td>\n",
       "      <td>0.0</td>\n",
       "      <td>0.0</td>\n",
       "      <td>0.0</td>\n",
       "      <td>0.0</td>\n",
       "      <td>0.0</td>\n",
       "    </tr>\n",
       "    <tr>\n",
       "      <th>3</th>\n",
       "      <td>0.0</td>\n",
       "      <td>0.0</td>\n",
       "      <td>0.0</td>\n",
       "      <td>0.0</td>\n",
       "      <td>0.000000</td>\n",
       "      <td>0.0</td>\n",
       "      <td>0.0</td>\n",
       "      <td>0.000000</td>\n",
       "      <td>0.0</td>\n",
       "      <td>0.0</td>\n",
       "      <td>...</td>\n",
       "      <td>0.0</td>\n",
       "      <td>0.0</td>\n",
       "      <td>0.0</td>\n",
       "      <td>0.0</td>\n",
       "      <td>0.0</td>\n",
       "      <td>0.0</td>\n",
       "      <td>0.0</td>\n",
       "      <td>0.0</td>\n",
       "      <td>0.0</td>\n",
       "      <td>0.0</td>\n",
       "    </tr>\n",
       "    <tr>\n",
       "      <th>4</th>\n",
       "      <td>0.0</td>\n",
       "      <td>0.0</td>\n",
       "      <td>0.0</td>\n",
       "      <td>0.0</td>\n",
       "      <td>0.000000</td>\n",
       "      <td>0.0</td>\n",
       "      <td>0.0</td>\n",
       "      <td>1.000000</td>\n",
       "      <td>0.0</td>\n",
       "      <td>0.0</td>\n",
       "      <td>...</td>\n",
       "      <td>0.0</td>\n",
       "      <td>0.0</td>\n",
       "      <td>0.0</td>\n",
       "      <td>0.0</td>\n",
       "      <td>0.0</td>\n",
       "      <td>0.0</td>\n",
       "      <td>0.0</td>\n",
       "      <td>0.0</td>\n",
       "      <td>0.0</td>\n",
       "      <td>0.0</td>\n",
       "    </tr>\n",
       "  </tbody>\n",
       "</table>\n",
       "<p>5 rows × 42 columns</p>\n",
       "</div>"
      ],
      "text/plain": [
       "   action  adventure  anime features  anime series  british tv shows  \\\n",
       "0                0.0             0.0           0.0               0.0   \n",
       "1                0.0             0.0           0.0               0.0   \n",
       "2                0.0             0.0           0.0               0.0   \n",
       "3                0.0             0.0           0.0               0.0   \n",
       "4                0.0             0.0           0.0               0.0   \n",
       "\n",
       "   children  family movies  classic  cult tv  classic movies  comedies  \\\n",
       "0                 0.812963               0.0             0.0  0.582315   \n",
       "1                 0.000000               0.0             0.0  0.000000   \n",
       "2                 0.000000               0.0             0.0  0.000000   \n",
       "3                 0.000000               0.0             0.0  0.000000   \n",
       "4                 0.000000               0.0             0.0  1.000000   \n",
       "\n",
       "   crime tv shows  cult movies  ...  teen tv shows  thrillers  \\\n",
       "0             0.0          0.0  ...            0.0        0.0   \n",
       "1             0.0          0.0  ...            0.0        0.0   \n",
       "2             0.0          0.0  ...            0.0        0.0   \n",
       "3             0.0          0.0  ...            0.0        0.0   \n",
       "4             0.0          0.0  ...            0.0        0.0   \n",
       "\n",
       "   tv action  adventure  tv comedies  tv dramas  tv horror  tv mysteries  \\\n",
       "0                   0.0          0.0        0.0        0.0           0.0   \n",
       "1                   0.0          0.0        0.0        0.0           0.0   \n",
       "2                   0.0          0.0        0.0        0.0           0.0   \n",
       "3                   0.0          0.0        0.0        0.0           0.0   \n",
       "4                   0.0          0.0        0.0        0.0           0.0   \n",
       "\n",
       "   tv scifi  fantasy  tv shows  tv thrillers  \n",
       "0                0.0       0.0           0.0  \n",
       "1                0.0       0.0           0.0  \n",
       "2                0.0       0.0           0.0  \n",
       "3                0.0       0.0           0.0  \n",
       "4                0.0       0.0           0.0  \n",
       "\n",
       "[5 rows x 42 columns]"
      ]
     },
     "execution_count": 24,
     "metadata": {},
     "output_type": "execute_result"
    }
   ],
   "source": [
    "# Geração da matriz de importância por categoria a partir da coluna listed_in\n",
    "# Generation of the importance matrix by category from the column listed_in\n",
    "\n",
    "tf_idf_vectorizer = TfidfVectorizer(strip_accents='unicode', token_pattern=r\"(?u)[a-zA-Z][a-z ]+\")\n",
    "\n",
    "X = tf_idf_vectorizer.fit_transform(data['listed_in'].fillna(''))\n",
    "\n",
    "listed_in_vectorized = pd.DataFrame(X.toarray(), columns=tf_idf_vectorizer.get_feature_names())\n",
    "listed_in_vectorized.head()"
   ]
  },
  {
   "cell_type": "code",
   "execution_count": 25,
   "metadata": {
    "colab": {
     "base_uri": "https://localhost:8080/",
     "height": 236
    },
    "executionInfo": {
     "elapsed": 573,
     "status": "ok",
     "timestamp": 1661397633286,
     "user": {
      "displayName": "Solano Jacon",
      "userId": "03193064938437592202"
     },
     "user_tz": 180
    },
    "id": "Cx4mhDgKgx0r",
    "outputId": "2c6bfc9b-9674-404d-fd0f-e6b59257977c"
   },
   "outputs": [
    {
     "data": {
      "text/html": [
       "<div>\n",
       "<style scoped>\n",
       "    .dataframe tbody tr th:only-of-type {\n",
       "        vertical-align: middle;\n",
       "    }\n",
       "\n",
       "    .dataframe tbody tr th {\n",
       "        vertical-align: top;\n",
       "    }\n",
       "\n",
       "    .dataframe thead th {\n",
       "        text-align: right;\n",
       "    }\n",
       "</style>\n",
       "<table border=\"1\" class=\"dataframe\">\n",
       "  <thead>\n",
       "    <tr style=\"text-align: right;\">\n",
       "      <th></th>\n",
       "      <th>aamir</th>\n",
       "      <th>aardman</th>\n",
       "      <th>aaron</th>\n",
       "      <th>abad</th>\n",
       "      <th>abagnale</th>\n",
       "      <th>abandon</th>\n",
       "      <th>abandoned</th>\n",
       "      <th>abandoning</th>\n",
       "      <th>abandonment</th>\n",
       "      <th>abargil</th>\n",
       "      <th>...</th>\n",
       "      <th>zone</th>\n",
       "      <th>zoologist</th>\n",
       "      <th>zordon</th>\n",
       "      <th>zorro</th>\n",
       "      <th>zoya</th>\n",
       "      <th>zuhu</th>\n",
       "      <th>zulu</th>\n",
       "      <th>zumbo</th>\n",
       "      <th>zurich</th>\n",
       "      <th>łukasz</th>\n",
       "    </tr>\n",
       "  </thead>\n",
       "  <tbody>\n",
       "    <tr>\n",
       "      <th>0</th>\n",
       "      <td>0.0</td>\n",
       "      <td>0.0</td>\n",
       "      <td>0.0</td>\n",
       "      <td>0.0</td>\n",
       "      <td>0.0</td>\n",
       "      <td>0.0</td>\n",
       "      <td>0.0</td>\n",
       "      <td>0.0</td>\n",
       "      <td>0.0</td>\n",
       "      <td>0.0</td>\n",
       "      <td>...</td>\n",
       "      <td>0.0</td>\n",
       "      <td>0.0</td>\n",
       "      <td>0.0</td>\n",
       "      <td>0.0</td>\n",
       "      <td>0.0</td>\n",
       "      <td>0.0</td>\n",
       "      <td>0.0</td>\n",
       "      <td>0.0</td>\n",
       "      <td>0.0</td>\n",
       "      <td>0.0</td>\n",
       "    </tr>\n",
       "    <tr>\n",
       "      <th>1</th>\n",
       "      <td>0.0</td>\n",
       "      <td>0.0</td>\n",
       "      <td>0.0</td>\n",
       "      <td>0.0</td>\n",
       "      <td>0.0</td>\n",
       "      <td>0.0</td>\n",
       "      <td>0.0</td>\n",
       "      <td>0.0</td>\n",
       "      <td>0.0</td>\n",
       "      <td>0.0</td>\n",
       "      <td>...</td>\n",
       "      <td>0.0</td>\n",
       "      <td>0.0</td>\n",
       "      <td>0.0</td>\n",
       "      <td>0.0</td>\n",
       "      <td>0.0</td>\n",
       "      <td>0.0</td>\n",
       "      <td>0.0</td>\n",
       "      <td>0.0</td>\n",
       "      <td>0.0</td>\n",
       "      <td>0.0</td>\n",
       "    </tr>\n",
       "    <tr>\n",
       "      <th>2</th>\n",
       "      <td>0.0</td>\n",
       "      <td>0.0</td>\n",
       "      <td>0.0</td>\n",
       "      <td>0.0</td>\n",
       "      <td>0.0</td>\n",
       "      <td>0.0</td>\n",
       "      <td>0.0</td>\n",
       "      <td>0.0</td>\n",
       "      <td>0.0</td>\n",
       "      <td>0.0</td>\n",
       "      <td>...</td>\n",
       "      <td>0.0</td>\n",
       "      <td>0.0</td>\n",
       "      <td>0.0</td>\n",
       "      <td>0.0</td>\n",
       "      <td>0.0</td>\n",
       "      <td>0.0</td>\n",
       "      <td>0.0</td>\n",
       "      <td>0.0</td>\n",
       "      <td>0.0</td>\n",
       "      <td>0.0</td>\n",
       "    </tr>\n",
       "    <tr>\n",
       "      <th>3</th>\n",
       "      <td>0.0</td>\n",
       "      <td>0.0</td>\n",
       "      <td>0.0</td>\n",
       "      <td>0.0</td>\n",
       "      <td>0.0</td>\n",
       "      <td>0.0</td>\n",
       "      <td>0.0</td>\n",
       "      <td>0.0</td>\n",
       "      <td>0.0</td>\n",
       "      <td>0.0</td>\n",
       "      <td>...</td>\n",
       "      <td>0.0</td>\n",
       "      <td>0.0</td>\n",
       "      <td>0.0</td>\n",
       "      <td>0.0</td>\n",
       "      <td>0.0</td>\n",
       "      <td>0.0</td>\n",
       "      <td>0.0</td>\n",
       "      <td>0.0</td>\n",
       "      <td>0.0</td>\n",
       "      <td>0.0</td>\n",
       "    </tr>\n",
       "    <tr>\n",
       "      <th>4</th>\n",
       "      <td>0.0</td>\n",
       "      <td>0.0</td>\n",
       "      <td>0.0</td>\n",
       "      <td>0.0</td>\n",
       "      <td>0.0</td>\n",
       "      <td>0.0</td>\n",
       "      <td>0.0</td>\n",
       "      <td>0.0</td>\n",
       "      <td>0.0</td>\n",
       "      <td>0.0</td>\n",
       "      <td>...</td>\n",
       "      <td>0.0</td>\n",
       "      <td>0.0</td>\n",
       "      <td>0.0</td>\n",
       "      <td>0.0</td>\n",
       "      <td>0.0</td>\n",
       "      <td>0.0</td>\n",
       "      <td>0.0</td>\n",
       "      <td>0.0</td>\n",
       "      <td>0.0</td>\n",
       "      <td>0.0</td>\n",
       "    </tr>\n",
       "  </tbody>\n",
       "</table>\n",
       "<p>5 rows × 15294 columns</p>\n",
       "</div>"
      ],
      "text/plain": [
       "   aamir  aardman  aaron  abad  abagnale  abandon  abandoned  abandoning  \\\n",
       "0    0.0      0.0    0.0   0.0       0.0      0.0        0.0         0.0   \n",
       "1    0.0      0.0    0.0   0.0       0.0      0.0        0.0         0.0   \n",
       "2    0.0      0.0    0.0   0.0       0.0      0.0        0.0         0.0   \n",
       "3    0.0      0.0    0.0   0.0       0.0      0.0        0.0         0.0   \n",
       "4    0.0      0.0    0.0   0.0       0.0      0.0        0.0         0.0   \n",
       "\n",
       "   abandonment  abargil  ...  zone  zoologist  zordon  zorro  zoya  zuhu  \\\n",
       "0          0.0      0.0  ...   0.0        0.0     0.0    0.0   0.0   0.0   \n",
       "1          0.0      0.0  ...   0.0        0.0     0.0    0.0   0.0   0.0   \n",
       "2          0.0      0.0  ...   0.0        0.0     0.0    0.0   0.0   0.0   \n",
       "3          0.0      0.0  ...   0.0        0.0     0.0    0.0   0.0   0.0   \n",
       "4          0.0      0.0  ...   0.0        0.0     0.0    0.0   0.0   0.0   \n",
       "\n",
       "   zulu  zumbo  zurich  łukasz  \n",
       "0   0.0    0.0     0.0     0.0  \n",
       "1   0.0    0.0     0.0     0.0  \n",
       "2   0.0    0.0     0.0     0.0  \n",
       "3   0.0    0.0     0.0     0.0  \n",
       "4   0.0    0.0     0.0     0.0  \n",
       "\n",
       "[5 rows x 15294 columns]"
      ]
     },
     "execution_count": 25,
     "metadata": {},
     "output_type": "execute_result"
    }
   ],
   "source": [
    "# Geração da matriz de importância por palavra a partir da coluna description\n",
    "# Generation of the word importance matrix from the description column\n",
    "\n",
    "tf_idf_vectorizer = TfidfVectorizer(strip_accents='unicode')\n",
    "\n",
    "X = tf_idf_vectorizer.fit_transform(data['description'].fillna(''))\n",
    "\n",
    "description_vectorized = pd.DataFrame(X.toarray(), columns=tf_idf_vectorizer.get_feature_names())\n",
    "description_vectorized.head()"
   ]
  },
  {
   "cell_type": "code",
   "execution_count": 26,
   "metadata": {
    "colab": {
     "base_uri": "https://localhost:8080/"
    },
    "executionInfo": {
     "elapsed": 5,
     "status": "ok",
     "timestamp": 1661397633286,
     "user": {
      "displayName": "Solano Jacon",
      "userId": "03193064938437592202"
     },
     "user_tz": 180
    },
    "id": "8t0axheRgx0r",
    "outputId": "30e64ccf-5016-4517-cdb4-3920eea50255"
   },
   "outputs": [
    {
     "data": {
      "text/plain": [
       "Index(['show_id', 'type', 'title', 'director', 'cast', 'country', 'date_added',\n",
       "       'release_year', 'rating', 'duration', 'listed_in', 'description',\n",
       "       'type_e_Movie', 'type_e_TV Show', 'duration_minutes',\n",
       "       'duration_seasons'],\n",
       "      dtype='object')"
      ]
     },
     "execution_count": 26,
     "metadata": {},
     "output_type": "execute_result"
    }
   ],
   "source": [
    "# Relação das colunas atuais da tabela\n",
    "# List of current table columns\n",
    "\n",
    "data.columns"
   ]
  },
  {
   "cell_type": "code",
   "execution_count": 27,
   "metadata": {
    "executionInfo": {
     "elapsed": 6946,
     "status": "ok",
     "timestamp": 1661397640229,
     "user": {
      "displayName": "Solano Jacon",
      "userId": "03193064938437592202"
     },
     "user_tz": 180
    },
    "id": "ulTCH1GLgx0r"
   },
   "outputs": [],
   "source": [
    "# Montagem da matriz das features do modelo\n",
    "# Assembly of the model features matrix\n",
    "\n",
    "X = data[['release_year', 'type_e_Movie', 'type_e_TV Show', 'duration_minutes', 'duration_seasons']]\n",
    "X = pd.concat([X, director_vectorized], axis=1)\n",
    "X = pd.concat([X, cast_vectorized], axis=1)\n",
    "X = pd.concat([X, country_vectorized], axis=1)\n",
    "X = pd.concat([X, listed_in_vectorized], axis=1)\n",
    "X = pd.concat([X, description_vectorized], axis=1)\n",
    "X\n",
    "\n",
    "del director_vectorized\n",
    "del cast_vectorized\n",
    "del country_vectorized\n",
    "del listed_in_vectorized\n",
    "del description_vectorized"
   ]
  },
  {
   "cell_type": "code",
   "execution_count": 28,
   "metadata": {
    "colab": {
     "base_uri": "https://localhost:8080/"
    },
    "executionInfo": {
     "elapsed": 12,
     "status": "ok",
     "timestamp": 1661397640230,
     "user": {
      "displayName": "Solano Jacon",
      "userId": "03193064938437592202"
     },
     "user_tz": 180
    },
    "id": "qXfrS-tmgx0r",
    "outputId": "e6d3db5e-fc4b-4de5-a154-d3da11c3ee5d"
   },
   "outputs": [
    {
     "data": {
      "text/plain": [
       "0       4\n",
       "1       5\n",
       "2       8\n",
       "3       6\n",
       "4       6\n",
       "       ..\n",
       "6228    9\n",
       "6229    8\n",
       "6230    6\n",
       "6231    8\n",
       "6232    9\n",
       "Name: rating, Length: 6233, dtype: int64"
      ]
     },
     "execution_count": 28,
     "metadata": {},
     "output_type": "execute_result"
    }
   ],
   "source": [
    "# Montagem do vetor do target do modelo\n",
    "# Assembly of the model's target vector\n",
    "\n",
    "y = data['rating']\n",
    "y"
   ]
  },
  {
   "cell_type": "code",
   "execution_count": 29,
   "metadata": {
    "executionInfo": {
     "elapsed": 11,
     "status": "ok",
     "timestamp": 1661397640230,
     "user": {
      "displayName": "Solano Jacon",
      "userId": "03193064938437592202"
     },
     "user_tz": 180
    },
    "id": "mc9AyzKsAuxf"
   },
   "outputs": [],
   "source": [
    "del data"
   ]
  },
  {
   "cell_type": "markdown",
   "metadata": {
    "id": "qaBeyQLogx0s"
   },
   "source": [
    "## Divisão dos dados entre treino e teste / *Splitting the data between training and testing*"
   ]
  },
  {
   "cell_type": "code",
   "execution_count": 30,
   "metadata": {
    "executionInfo": {
     "elapsed": 4180,
     "status": "ok",
     "timestamp": 1661397644399,
     "user": {
      "displayName": "Solano Jacon",
      "userId": "03193064938437592202"
     },
     "user_tz": 180
    },
    "id": "rB0dnRybgx0s"
   },
   "outputs": [],
   "source": [
    "# Separação dos dados em 70% para treino do modelo e 30% para teste\n",
    "# Data separation in 70% for training the model and 30% for testing\n",
    "\n",
    "X_train, X_test, y_train, y_test = train_test_split(X, y, test_size=0.3, random_state=1)\n",
    "\n",
    "del X\n",
    "del y"
   ]
  },
  {
   "cell_type": "code",
   "execution_count": 31,
   "metadata": {
    "colab": {
     "base_uri": "https://localhost:8080/"
    },
    "executionInfo": {
     "elapsed": 9851,
     "status": "ok",
     "timestamp": 1661397654223,
     "user": {
      "displayName": "Solano Jacon",
      "userId": "03193064938437592202"
     },
     "user_tz": 180
    },
    "id": "4g_9FAoMgx0s",
    "outputId": "8e38cde2-e609-465b-ec20-b8720765a7c0"
   },
   "outputs": [
    {
     "data": {
      "text/plain": [
       "0.33554809420221315"
      ]
     },
     "execution_count": 31,
     "metadata": {},
     "output_type": "execute_result"
    }
   ],
   "source": [
    "# Cálculo da performance Accuracy do modelo sobre os dados de treino\n",
    "# Calculation of the model's Accuracy performance on the training data\n",
    "\n",
    "cv_nb = cross_validate(MultinomialNB(), X_train, y_train, scoring ='accuracy')\n",
    "\n",
    "cv_nb['test_score'].mean()"
   ]
  },
  {
   "cell_type": "code",
   "execution_count": 32,
   "metadata": {
    "executionInfo": {
     "elapsed": 2503,
     "status": "ok",
     "timestamp": 1661397656715,
     "user": {
      "displayName": "Solano Jacon",
      "userId": "03193064938437592202"
     },
     "user_tz": 180
    },
    "id": "DbZKDy36gx0s"
   },
   "outputs": [],
   "source": [
    "# Treino do modelo e registro de suas predições sobre os dados de teste bem como das probabilidades destas predições\n",
    "# Training the model and recording its predictions on the test data as well as the probabilities of these predictions\n",
    "\n",
    "nb_model = MultinomialNB()\n",
    "nb_model.fit(X_train, y_train)\n",
    "y_pred = nb_model.predict(X_test)\n",
    "y_pred_proba = nb_model.predict_proba(X_test)"
   ]
  },
  {
   "cell_type": "markdown",
   "metadata": {
    "id": "Y5usUfiNgx0s"
   },
   "source": [
    "## Matriz de Confusão e gráfico de Precision e Recall do seu modelo com os dados de teste / *Confusion Matrix and Precision and Recall plot of your model with test data*"
   ]
  },
  {
   "cell_type": "code",
   "execution_count": 33,
   "metadata": {
    "colab": {
     "base_uri": "https://localhost:8080/"
    },
    "executionInfo": {
     "elapsed": 14,
     "status": "ok",
     "timestamp": 1661397656716,
     "user": {
      "displayName": "Solano Jacon",
      "userId": "03193064938437592202"
     },
     "user_tz": 180
    },
    "id": "6yAry00Tgx0t",
    "outputId": "685cd7c9-bdae-4c1c-957e-ab1f9f0692e0"
   },
   "outputs": [
    {
     "name": "stdout",
     "output_type": "stream",
     "text": [
      "Confusion Matrix\n",
      "\n",
      "[[  0   0   0   0   0   6  42  62   0   0]\n",
      " [  0   0   0   0   0   0   2   0   0   0]\n",
      " [  0   0   0   0   0   1  15   2   0   0]\n",
      " [  0   0   0   0   0   5  68  11   0   0]\n",
      " [  0   0   0   0   0  18 110  30   0   0]\n",
      " [  0   0   0   0   0  45 315  90   0   0]\n",
      " [  0   0   0   0   0  63 293 164   0   0]\n",
      " [  0   0   0   0   0  70 156 241   0   0]\n",
      " [  0   0   0   0   0   6  11  42   0   0]\n",
      " [  0   0   0   0   0   0   0   2   0   0]]\n"
     ]
    }
   ],
   "source": [
    "# Apresentação da matriz de confusão solicitada dos dados de teste\n",
    "# Presentation of the requested confusion matrix of the test data\n",
    "\n",
    "confusion = confusion_matrix(y_test, y_pred)\n",
    "print('Confusion Matrix\\n')\n",
    "print(confusion)"
   ]
  },
  {
   "cell_type": "code",
   "execution_count": 34,
   "metadata": {
    "colab": {
     "base_uri": "https://localhost:8080/"
    },
    "executionInfo": {
     "elapsed": 10,
     "status": "ok",
     "timestamp": 1661397656716,
     "user": {
      "displayName": "Solano Jacon",
      "userId": "03193064938437592202"
     },
     "user_tz": 180
    },
    "id": "HyzOCV_Zgx0t",
    "outputId": "30abb366-978d-4aca-a8e0-d927dd351061"
   },
   "outputs": [
    {
     "name": "stdout",
     "output_type": "stream",
     "text": [
      "\n",
      "Accuracy: 0.31\n",
      "\n",
      "Micro Precision: 0.31\n",
      "Micro Recall: 0.31\n",
      "Micro F1-score: 0.31\n",
      "\n",
      "Macro Precision: 0.09\n",
      "Macro Recall: 0.12\n",
      "Macro F1-score: 0.10\n",
      "\n",
      "Weighted Precision: 0.22\n",
      "Weighted Recall: 0.31\n",
      "Weighted F1-score: 0.25\n"
     ]
    }
   ],
   "source": [
    "# Cálculo das métricas de performance do modelo sobre os dados de teste\n",
    "# Calculation of model performance metrics on test data\n",
    "\n",
    "print('\\nAccuracy: {:.2f}\\n'.format(accuracy_score(y_test, y_pred)))\n",
    "\n",
    "print('Micro Precision: {:.2f}'.format(precision_score(y_test, y_pred, average='micro')))\n",
    "print('Micro Recall: {:.2f}'.format(recall_score(y_test, y_pred, average='micro')))\n",
    "print('Micro F1-score: {:.2f}\\n'.format(f1_score(y_test, y_pred, average='micro')))\n",
    "\n",
    "print('Macro Precision: {:.2f}'.format(precision_score(y_test, y_pred, average='macro')))\n",
    "print('Macro Recall: {:.2f}'.format(recall_score(y_test, y_pred, average='macro')))\n",
    "print('Macro F1-score: {:.2f}\\n'.format(f1_score(y_test, y_pred, average='macro')))\n",
    "\n",
    "print('Weighted Precision: {:.2f}'.format(precision_score(y_test, y_pred, average='weighted')))\n",
    "print('Weighted Recall: {:.2f}'.format(recall_score(y_test, y_pred, average='weighted')))\n",
    "print('Weighted F1-score: {:.2f}'.format(f1_score(y_test, y_pred, average='weighted')))"
   ]
  },
  {
   "cell_type": "code",
   "execution_count": 35,
   "metadata": {
    "colab": {
     "base_uri": "https://localhost:8080/"
    },
    "executionInfo": {
     "elapsed": 8,
     "status": "ok",
     "timestamp": 1661397656716,
     "user": {
      "displayName": "Solano Jacon",
      "userId": "03193064938437592202"
     },
     "user_tz": 180
    },
    "id": "vz6cUlR1gx0t",
    "outputId": "031f88ae-30dc-45a8-dc17-0e11b00f6235"
   },
   "outputs": [
    {
     "name": "stdout",
     "output_type": "stream",
     "text": [
      "\n",
      "Classification Report\n",
      "\n",
      "              precision    recall  f1-score   support\n",
      "\n",
      "  Rating 0-5       0.00      0.00      0.00       110\n",
      " Rating 6-15       0.00      0.00      0.00         2\n",
      "Rating 16-25       0.00      0.00      0.00        18\n",
      "Rating 26-35       0.00      0.00      0.00        84\n",
      "Rating 36-45       0.00      0.00      0.00       158\n",
      "Rating 46-55       0.21      0.10      0.14       450\n",
      "Rating 56-65       0.29      0.56      0.38       520\n",
      "Rating 66-75       0.37      0.52      0.43       467\n",
      "Rating 76-85       0.00      0.00      0.00        59\n",
      "Rating 86-95       0.00      0.00      0.00         2\n",
      "\n",
      "    accuracy                           0.31      1870\n",
      "   macro avg       0.09      0.12      0.10      1870\n",
      "weighted avg       0.22      0.31      0.25      1870\n",
      "\n"
     ]
    }
   ],
   "source": [
    "# Cálculo das métricas de performance do modelo sobre os dados de teste\n",
    "# Calculation of model performance metrics on test data\n",
    "\n",
    "print('\\nClassification Report\\n')\n",
    "print(classification_report(y_test, y_pred, target_names=['Rating 0-5', 'Rating 6-15', 'Rating 16-25', 'Rating 26-35', 'Rating 36-45',\n",
    "                                                          'Rating 46-55', 'Rating 56-65', 'Rating 66-75', 'Rating 76-85', 'Rating 86-95']))"
   ]
  },
  {
   "cell_type": "code",
   "execution_count": 36,
   "metadata": {
    "colab": {
     "base_uri": "https://localhost:8080/"
    },
    "executionInfo": {
     "elapsed": 6,
     "status": "ok",
     "timestamp": 1661397656716,
     "user": {
      "displayName": "Solano Jacon",
      "userId": "03193064938437592202"
     },
     "user_tz": 180
    },
    "id": "Gup9UfWrgx0t",
    "outputId": "ef1353e8-b136-4a8c-9616-4c7932498aae"
   },
   "outputs": [
    {
     "data": {
      "text/plain": [
       "array([[0., 0., 0., ..., 0., 1., 0.],\n",
       "       [0., 0., 0., ..., 0., 0., 0.],\n",
       "       [0., 0., 0., ..., 0., 1., 0.],\n",
       "       ...,\n",
       "       [0., 0., 0., ..., 0., 0., 1.],\n",
       "       [0., 0., 0., ..., 1., 0., 0.],\n",
       "       [0., 0., 0., ..., 1., 0., 0.]])"
      ]
     },
     "execution_count": 36,
     "metadata": {},
     "output_type": "execute_result"
    }
   ],
   "source": [
    "# Montagem da matriz de probabilidade dos targets dos dados de teste\n",
    "# Assembly of the probability matrix of test data targets\n",
    "\n",
    "y_test_proba = pd.DataFrame(y_test).reset_index(drop=True)\n",
    "\n",
    "n_classes = 10\n",
    "\n",
    "for i in range(n_classes):\n",
    "    y_test_proba.loc[y_test_proba['rating'] == i, i] = 1\n",
    "\n",
    "y_test_proba = y_test_proba.drop(columns='rating').fillna(0)\n",
    "y_test_proba = np.array(y_test_proba)\n",
    "y_test_proba"
   ]
  },
  {
   "cell_type": "code",
   "execution_count": 37,
   "metadata": {
    "colab": {
     "base_uri": "https://localhost:8080/",
     "height": 295
    },
    "executionInfo": {
     "elapsed": 775,
     "status": "ok",
     "timestamp": 1661397657487,
     "user": {
      "displayName": "Solano Jacon",
      "userId": "03193064938437592202"
     },
     "user_tz": 180
    },
    "id": "vw2ojf57gx0u",
    "outputId": "95319ca9-f141-4aef-f06b-5f218f220fc5"
   },
   "outputs": [
    {
     "data": {
      "image/png": "[encoded data removed]",
      "text/plain": [
       "<Figure size 640x480 with 1 Axes>"
      ]
     },
     "metadata": {},
     "output_type": "display_data"
    }
   ],
   "source": [
    "# Montagem do gráfico de precision e recall solicitado\n",
    "# Assembly of the requested precision and recall graph\n",
    "\n",
    "n_classes = 10\n",
    "precision = dict()\n",
    "recall = dict()\n",
    "threshold = dict()\n",
    "\n",
    "for i in range(n_classes):\n",
    "    precision[i], recall[i], threshold[i] = precision_recall_curve(y_test_proba[:, i], y_pred_proba[:, i])\n",
    "    plt.plot(recall[i], precision[i], lw=2, label='class {}'.format(i))\n",
    "\n",
    "plt.xlabel(\"recall\")\n",
    "plt.ylabel(\"precision\")\n",
    "plt.legend(loc=\"best\")\n",
    "plt.title(\"Precision vs. Recall Curve\")\n",
    "plt.show()"
   ]
  },
  {
   "cell_type": "code",
   "execution_count": 38,
   "metadata": {
    "colab": {
     "base_uri": "https://localhost:8080/",
     "height": 394
    },
    "executionInfo": {
     "elapsed": 12,
     "status": "ok",
     "timestamp": 1661397657488,
     "user": {
      "displayName": "Solano Jacon",
      "userId": "03193064938437592202"
     },
     "user_tz": 180
    },
    "id": "07AT_VT-gx0u",
    "outputId": "4a70ab9b-f427-4eb9-bb67-430a04e0f8aa"
   },
   "outputs": [
    {
     "data": {
      "text/html": [
       "<div>\n",
       "<style scoped>\n",
       "    .dataframe tbody tr th:only-of-type {\n",
       "        vertical-align: middle;\n",
       "    }\n",
       "\n",
       "    .dataframe tbody tr th {\n",
       "        vertical-align: top;\n",
       "    }\n",
       "\n",
       "    .dataframe thead th {\n",
       "        text-align: right;\n",
       "    }\n",
       "</style>\n",
       "<table border=\"1\" class=\"dataframe\">\n",
       "  <thead>\n",
       "    <tr style=\"text-align: right;\">\n",
       "      <th></th>\n",
       "      <th>actual</th>\n",
       "      <th>predicted</th>\n",
       "    </tr>\n",
       "    <tr>\n",
       "      <th>rating</th>\n",
       "      <th></th>\n",
       "      <th></th>\n",
       "    </tr>\n",
       "  </thead>\n",
       "  <tbody>\n",
       "    <tr>\n",
       "      <th>0</th>\n",
       "      <td>110</td>\n",
       "      <td>0</td>\n",
       "    </tr>\n",
       "    <tr>\n",
       "      <th>2</th>\n",
       "      <td>2</td>\n",
       "      <td>0</td>\n",
       "    </tr>\n",
       "    <tr>\n",
       "      <th>3</th>\n",
       "      <td>18</td>\n",
       "      <td>0</td>\n",
       "    </tr>\n",
       "    <tr>\n",
       "      <th>4</th>\n",
       "      <td>84</td>\n",
       "      <td>0</td>\n",
       "    </tr>\n",
       "    <tr>\n",
       "      <th>5</th>\n",
       "      <td>158</td>\n",
       "      <td>0</td>\n",
       "    </tr>\n",
       "    <tr>\n",
       "      <th>6</th>\n",
       "      <td>450</td>\n",
       "      <td>214</td>\n",
       "    </tr>\n",
       "    <tr>\n",
       "      <th>7</th>\n",
       "      <td>520</td>\n",
       "      <td>1012</td>\n",
       "    </tr>\n",
       "    <tr>\n",
       "      <th>8</th>\n",
       "      <td>467</td>\n",
       "      <td>644</td>\n",
       "    </tr>\n",
       "    <tr>\n",
       "      <th>9</th>\n",
       "      <td>59</td>\n",
       "      <td>0</td>\n",
       "    </tr>\n",
       "    <tr>\n",
       "      <th>10</th>\n",
       "      <td>2</td>\n",
       "      <td>0</td>\n",
       "    </tr>\n",
       "  </tbody>\n",
       "</table>\n",
       "</div>"
      ],
      "text/plain": [
       "        actual  predicted\n",
       "rating                   \n",
       "0          110          0\n",
       "2            2          0\n",
       "3           18          0\n",
       "4           84          0\n",
       "5          158          0\n",
       "6          450        214\n",
       "7          520       1012\n",
       "8          467        644\n",
       "9           59          0\n",
       "10           2          0"
      ]
     },
     "execution_count": 38,
     "metadata": {},
     "output_type": "execute_result"
    }
   ],
   "source": [
    "# Montagem de comparativo entre quantidade de registros por target dos dados de teste reais e preditos\n",
    "# Comparison between number of records per target of actual and predicted test data\n",
    "\n",
    "test1 = pd.DataFrame(pd.DataFrame(y_test).value_counts())\n",
    "test1.columns = ['actual']\n",
    "test1 = test1.reset_index()\n",
    "test2 = pd.DataFrame(pd.DataFrame(y_pred).value_counts())\n",
    "test2.columns = ['predicted']\n",
    "test2 = test2.reset_index()\n",
    "test2.columns = ['rating', 'predicted']\n",
    "test = test1.merge(test2, how='outer', on='rating').fillna(0)\n",
    "test['predicted'] = test['predicted'].astype('int64')\n",
    "test = test.sort_values(by=['rating']).set_index('rating')\n",
    "test"
   ]
  },
  {
   "cell_type": "markdown",
   "metadata": {
    "id": "XBf-PPiFgx0u"
   },
   "source": [
    "## Tendo em vista o resultado final, relacionar as oportunidades de melhoria para esse modelo / *Bearing in mind the final result, list the improvement opportunities for this model*"
   ]
  },
  {
   "cell_type": "markdown",
   "metadata": {
    "id": "3rC_1o6tgx0u"
   },
   "source": [
    "- Balanceamento dos dados de treino do modelo com base na quantidade de filmes por classe de rating, de forma que cada classe possua a mesma quantidade de filmes para treino.\n",
    "- Agrupar ainda mais as classes do rating (atualmente em 10, para 5 por exemplo).\n",
    "- Verificar com o cliente a possibilidade de fornecer mais dados destes filmes, além dos já fornecidos (type, director, cast e country por exemplo).\n",
    "- Verificar com o cliente a possibilidade de fornecer dados de mais filmes, além dos já fornecidos.\n",
    "\n",
    "\n",
    "- *Balancing the training data of the model based on the number of films per rating class, so that each class has the same number of films for training.*\n",
    "- *Group rating classes even more (currently at 10, to 5 for example).*\n",
    "- *Check with the customer the possibility of providing more data on these films, in addition to those already provided (type, director, cast and country for example).*\n",
    "- *Check with the customer the possibility of providing data for more films, in addition to those already provided.*"
   ]
  },
  {
   "cell_type": "markdown",
   "metadata": {
    "id": "Y3yXEEg8gx0u"
   },
   "source": [
    "## Fim / *End*"
   ]
  }
 ],
 "metadata": {
  "colab": {
   "collapsed_sections": [],
   "name": "Movie_Rating_Prediction.ipynb",
   "provenance": []
  },
  "hide_input": false,
  "kernelspec": {
   "display_name": "Python 3 (ipykernel)",
   "language": "python",
   "name": "python3"
  },
  "language_info": {
   "codemirror_mode": {
    "name": "ipython",
    "version": 3
   },
   "file_extension": ".py",
   "mimetype": "text/x-python",
   "name": "python",
   "nbconvert_exporter": "python",
   "pygments_lexer": "ipython3",
   "version": "3.10.6"
  },
  "toc": {
   "base_numbering": 1,
   "nav_menu": {},
   "number_sections": true,
   "sideBar": true,
   "skip_h1_title": false,
   "title_cell": "Table of Contents",
   "title_sidebar": "Contents",
   "toc_cell": false,
   "toc_position": {},
   "toc_section_display": true,
   "toc_window_display": false
  }
 },
 "nbformat": 4,
 "nbformat_minor": 1
}
